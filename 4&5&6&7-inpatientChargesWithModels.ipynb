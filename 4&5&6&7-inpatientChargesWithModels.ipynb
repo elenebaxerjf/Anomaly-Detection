{
 "cells": [
  {
   "cell_type": "markdown",
   "metadata": {},
   "source": [
    "Import data"
   ]
  },
  {
   "cell_type": "code",
   "execution_count": 1,
   "metadata": {},
   "outputs": [
    {
     "data": {
      "text/html": [
       "<div>\n",
       "<style scoped>\n",
       "    .dataframe tbody tr th:only-of-type {\n",
       "        vertical-align: middle;\n",
       "    }\n",
       "\n",
       "    .dataframe tbody tr th {\n",
       "        vertical-align: top;\n",
       "    }\n",
       "\n",
       "    .dataframe thead th {\n",
       "        text-align: right;\n",
       "    }\n",
       "</style>\n",
       "<table border=\"1\" class=\"dataframe\">\n",
       "  <thead>\n",
       "    <tr style=\"text-align: right;\">\n",
       "      <th></th>\n",
       "      <th>DRG Definition</th>\n",
       "      <th>Provider Id</th>\n",
       "      <th>Provider Name</th>\n",
       "      <th>Provider Street Address</th>\n",
       "      <th>Provider City</th>\n",
       "      <th>Provider State</th>\n",
       "      <th>Provider Zip Code</th>\n",
       "      <th>Hospital Referral Region Description</th>\n",
       "      <th>Total Discharges</th>\n",
       "      <th>Average Covered Charges</th>\n",
       "      <th>Average Total Payments</th>\n",
       "      <th>Average Medicare Payments</th>\n",
       "    </tr>\n",
       "  </thead>\n",
       "  <tbody>\n",
       "    <tr>\n",
       "      <th>0</th>\n",
       "      <td>039 - EXTRACRANIAL PROCEDURES W/O CC/MCC</td>\n",
       "      <td>10001</td>\n",
       "      <td>SOUTHEAST ALABAMA MEDICAL CENTER</td>\n",
       "      <td>1108 ROSS CLARK CIRCLE</td>\n",
       "      <td>DOTHAN</td>\n",
       "      <td>AL</td>\n",
       "      <td>36301</td>\n",
       "      <td>AL - Dothan</td>\n",
       "      <td>91</td>\n",
       "      <td>$32963.07</td>\n",
       "      <td>$5777.24</td>\n",
       "      <td>$4763.73</td>\n",
       "    </tr>\n",
       "    <tr>\n",
       "      <th>1</th>\n",
       "      <td>039 - EXTRACRANIAL PROCEDURES W/O CC/MCC</td>\n",
       "      <td>10005</td>\n",
       "      <td>MARSHALL MEDICAL CENTER SOUTH</td>\n",
       "      <td>2505 U S HIGHWAY 431 NORTH</td>\n",
       "      <td>BOAZ</td>\n",
       "      <td>AL</td>\n",
       "      <td>35957</td>\n",
       "      <td>AL - Birmingham</td>\n",
       "      <td>14</td>\n",
       "      <td>$15131.85</td>\n",
       "      <td>$5787.57</td>\n",
       "      <td>$4976.71</td>\n",
       "    </tr>\n",
       "    <tr>\n",
       "      <th>2</th>\n",
       "      <td>039 - EXTRACRANIAL PROCEDURES W/O CC/MCC</td>\n",
       "      <td>10006</td>\n",
       "      <td>ELIZA COFFEE MEMORIAL HOSPITAL</td>\n",
       "      <td>205 MARENGO STREET</td>\n",
       "      <td>FLORENCE</td>\n",
       "      <td>AL</td>\n",
       "      <td>35631</td>\n",
       "      <td>AL - Birmingham</td>\n",
       "      <td>24</td>\n",
       "      <td>$37560.37</td>\n",
       "      <td>$5434.95</td>\n",
       "      <td>$4453.79</td>\n",
       "    </tr>\n",
       "    <tr>\n",
       "      <th>3</th>\n",
       "      <td>039 - EXTRACRANIAL PROCEDURES W/O CC/MCC</td>\n",
       "      <td>10011</td>\n",
       "      <td>ST VINCENT'S EAST</td>\n",
       "      <td>50 MEDICAL PARK EAST DRIVE</td>\n",
       "      <td>BIRMINGHAM</td>\n",
       "      <td>AL</td>\n",
       "      <td>35235</td>\n",
       "      <td>AL - Birmingham</td>\n",
       "      <td>25</td>\n",
       "      <td>$13998.28</td>\n",
       "      <td>$5417.56</td>\n",
       "      <td>$4129.16</td>\n",
       "    </tr>\n",
       "    <tr>\n",
       "      <th>4</th>\n",
       "      <td>039 - EXTRACRANIAL PROCEDURES W/O CC/MCC</td>\n",
       "      <td>10016</td>\n",
       "      <td>SHELBY BAPTIST MEDICAL CENTER</td>\n",
       "      <td>1000 FIRST STREET NORTH</td>\n",
       "      <td>ALABASTER</td>\n",
       "      <td>AL</td>\n",
       "      <td>35007</td>\n",
       "      <td>AL - Birmingham</td>\n",
       "      <td>18</td>\n",
       "      <td>$31633.27</td>\n",
       "      <td>$5658.33</td>\n",
       "      <td>$4851.44</td>\n",
       "    </tr>\n",
       "  </tbody>\n",
       "</table>\n",
       "</div>"
      ],
      "text/plain": [
       "                             DRG Definition  Provider Id  \\\n",
       "0  039 - EXTRACRANIAL PROCEDURES W/O CC/MCC        10001   \n",
       "1  039 - EXTRACRANIAL PROCEDURES W/O CC/MCC        10005   \n",
       "2  039 - EXTRACRANIAL PROCEDURES W/O CC/MCC        10006   \n",
       "3  039 - EXTRACRANIAL PROCEDURES W/O CC/MCC        10011   \n",
       "4  039 - EXTRACRANIAL PROCEDURES W/O CC/MCC        10016   \n",
       "\n",
       "                      Provider Name     Provider Street Address Provider City  \\\n",
       "0  SOUTHEAST ALABAMA MEDICAL CENTER      1108 ROSS CLARK CIRCLE        DOTHAN   \n",
       "1     MARSHALL MEDICAL CENTER SOUTH  2505 U S HIGHWAY 431 NORTH          BOAZ   \n",
       "2    ELIZA COFFEE MEMORIAL HOSPITAL          205 MARENGO STREET      FLORENCE   \n",
       "3                 ST VINCENT'S EAST  50 MEDICAL PARK EAST DRIVE    BIRMINGHAM   \n",
       "4     SHELBY BAPTIST MEDICAL CENTER     1000 FIRST STREET NORTH     ALABASTER   \n",
       "\n",
       "  Provider State  Provider Zip Code Hospital Referral Region Description  \\\n",
       "0             AL              36301                          AL - Dothan   \n",
       "1             AL              35957                      AL - Birmingham   \n",
       "2             AL              35631                      AL - Birmingham   \n",
       "3             AL              35235                      AL - Birmingham   \n",
       "4             AL              35007                      AL - Birmingham   \n",
       "\n",
       "    Total Discharges   Average Covered Charges   Average Total Payments   \\\n",
       "0                  91                 $32963.07                 $5777.24   \n",
       "1                  14                 $15131.85                 $5787.57   \n",
       "2                  24                 $37560.37                 $5434.95   \n",
       "3                  25                 $13998.28                 $5417.56   \n",
       "4                  18                 $31633.27                 $5658.33   \n",
       "\n",
       "  Average Medicare Payments  \n",
       "0                  $4763.73  \n",
       "1                  $4976.71  \n",
       "2                  $4453.79  \n",
       "3                  $4129.16  \n",
       "4                  $4851.44  "
      ]
     },
     "execution_count": 1,
     "metadata": {},
     "output_type": "execute_result"
    }
   ],
   "source": [
    "import pandas as pd\n",
    "import seaborn as sns\n",
    "import numpy as np\n",
    "\n",
    "data = pd.read_csv('inpatientCharges.csv')\n",
    "data.head(5)"
   ]
  },
  {
   "cell_type": "markdown",
   "metadata": {},
   "source": [
    "Basic overview"
   ]
  },
  {
   "cell_type": "code",
   "execution_count": 2,
   "metadata": {},
   "outputs": [
    {
     "name": "stdout",
     "output_type": "stream",
     "text": [
      "(163065, 12)\n",
      "Index(['DRG Definition', 'Provider Id', 'Provider Name',\n",
      "       'Provider Street Address', 'Provider City', 'Provider State',\n",
      "       'Provider Zip Code', 'Hospital Referral Region Description',\n",
      "       ' Total Discharges ', ' Average Covered Charges ',\n",
      "       ' Average Total Payments ', 'Average Medicare Payments'],\n",
      "      dtype='object')\n"
     ]
    },
    {
     "data": {
      "text/html": [
       "<div>\n",
       "<style scoped>\n",
       "    .dataframe tbody tr th:only-of-type {\n",
       "        vertical-align: middle;\n",
       "    }\n",
       "\n",
       "    .dataframe tbody tr th {\n",
       "        vertical-align: top;\n",
       "    }\n",
       "\n",
       "    .dataframe thead th {\n",
       "        text-align: right;\n",
       "    }\n",
       "</style>\n",
       "<table border=\"1\" class=\"dataframe\">\n",
       "  <thead>\n",
       "    <tr style=\"text-align: right;\">\n",
       "      <th></th>\n",
       "      <th>Provider Id</th>\n",
       "      <th>Provider Zip Code</th>\n",
       "      <th>Total Discharges</th>\n",
       "    </tr>\n",
       "  </thead>\n",
       "  <tbody>\n",
       "    <tr>\n",
       "      <th>count</th>\n",
       "      <td>163065.000000</td>\n",
       "      <td>163065.000000</td>\n",
       "      <td>163065.000000</td>\n",
       "    </tr>\n",
       "    <tr>\n",
       "      <th>mean</th>\n",
       "      <td>255569.865428</td>\n",
       "      <td>47938.121908</td>\n",
       "      <td>42.776304</td>\n",
       "    </tr>\n",
       "    <tr>\n",
       "      <th>std</th>\n",
       "      <td>151563.671767</td>\n",
       "      <td>27854.323080</td>\n",
       "      <td>51.104042</td>\n",
       "    </tr>\n",
       "    <tr>\n",
       "      <th>min</th>\n",
       "      <td>10001.000000</td>\n",
       "      <td>1040.000000</td>\n",
       "      <td>11.000000</td>\n",
       "    </tr>\n",
       "    <tr>\n",
       "      <th>25%</th>\n",
       "      <td>110092.000000</td>\n",
       "      <td>27261.000000</td>\n",
       "      <td>17.000000</td>\n",
       "    </tr>\n",
       "    <tr>\n",
       "      <th>50%</th>\n",
       "      <td>250007.000000</td>\n",
       "      <td>44309.000000</td>\n",
       "      <td>27.000000</td>\n",
       "    </tr>\n",
       "    <tr>\n",
       "      <th>75%</th>\n",
       "      <td>380075.000000</td>\n",
       "      <td>72901.000000</td>\n",
       "      <td>49.000000</td>\n",
       "    </tr>\n",
       "    <tr>\n",
       "      <th>max</th>\n",
       "      <td>670077.000000</td>\n",
       "      <td>99835.000000</td>\n",
       "      <td>3383.000000</td>\n",
       "    </tr>\n",
       "  </tbody>\n",
       "</table>\n",
       "</div>"
      ],
      "text/plain": [
       "         Provider Id  Provider Zip Code   Total Discharges \n",
       "count  163065.000000      163065.000000       163065.000000\n",
       "mean   255569.865428       47938.121908           42.776304\n",
       "std    151563.671767       27854.323080           51.104042\n",
       "min     10001.000000        1040.000000           11.000000\n",
       "25%    110092.000000       27261.000000           17.000000\n",
       "50%    250007.000000       44309.000000           27.000000\n",
       "75%    380075.000000       72901.000000           49.000000\n",
       "max    670077.000000       99835.000000         3383.000000"
      ]
     },
     "execution_count": 2,
     "metadata": {},
     "output_type": "execute_result"
    }
   ],
   "source": [
    "print(data.shape)\n",
    "print(data.columns) # check column names\n",
    "data.describe() # Get the Simple Summary Statistics"
   ]
  },
  {
   "cell_type": "markdown",
   "metadata": {},
   "source": [
    "Data Cleaning"
   ]
  },
  {
   "cell_type": "code",
   "execution_count": 3,
   "metadata": {},
   "outputs": [],
   "source": [
    "data.columns = ['DRG_Definition', 'Provider_Id', 'Provider_Name',\n",
    "                'Provider_Street_Address', 'Provider_City', 'Provider_State',\n",
    "                'Provider_Zip_Code', 'Hospital_Referral_Region_Description',\n",
    "                'Total_Discharges', 'Average_Covered_Charges',\n",
    "                'Average_Total_Payments', 'Average_Medicare_Payments']"
   ]
  },
  {
   "cell_type": "code",
   "execution_count": 4,
   "metadata": {},
   "outputs": [
    {
     "data": {
      "text/html": [
       "<div>\n",
       "<style scoped>\n",
       "    .dataframe tbody tr th:only-of-type {\n",
       "        vertical-align: middle;\n",
       "    }\n",
       "\n",
       "    .dataframe tbody tr th {\n",
       "        vertical-align: top;\n",
       "    }\n",
       "\n",
       "    .dataframe thead th {\n",
       "        text-align: right;\n",
       "    }\n",
       "</style>\n",
       "<table border=\"1\" class=\"dataframe\">\n",
       "  <thead>\n",
       "    <tr style=\"text-align: right;\">\n",
       "      <th></th>\n",
       "      <th>DRG_Definition</th>\n",
       "      <th>Provider_Id</th>\n",
       "      <th>Provider_Name</th>\n",
       "      <th>Provider_Street_Address</th>\n",
       "      <th>Provider_City</th>\n",
       "      <th>Provider_State</th>\n",
       "      <th>Provider_Zip_Code</th>\n",
       "      <th>Hospital_Referral_Region_Description</th>\n",
       "      <th>Total_Discharges</th>\n",
       "      <th>Average_Covered_Charges</th>\n",
       "      <th>Average_Total_Payments</th>\n",
       "      <th>Average_Medicare_Payments</th>\n",
       "    </tr>\n",
       "  </thead>\n",
       "  <tbody>\n",
       "    <tr>\n",
       "      <th>0</th>\n",
       "      <td>039 - EXTRACRANIAL PROCEDURES W/O CC/MCC</td>\n",
       "      <td>10001</td>\n",
       "      <td>SOUTHEAST ALABAMA MEDICAL CENTER</td>\n",
       "      <td>1108 ROSS CLARK CIRCLE</td>\n",
       "      <td>DOTHAN</td>\n",
       "      <td>AL</td>\n",
       "      <td>36301</td>\n",
       "      <td>AL - Dothan</td>\n",
       "      <td>91</td>\n",
       "      <td>$32963.07</td>\n",
       "      <td>$5777.24</td>\n",
       "      <td>$4763.73</td>\n",
       "    </tr>\n",
       "    <tr>\n",
       "      <th>1</th>\n",
       "      <td>039 - EXTRACRANIAL PROCEDURES W/O CC/MCC</td>\n",
       "      <td>10005</td>\n",
       "      <td>MARSHALL MEDICAL CENTER SOUTH</td>\n",
       "      <td>2505 U S HIGHWAY 431 NORTH</td>\n",
       "      <td>BOAZ</td>\n",
       "      <td>AL</td>\n",
       "      <td>35957</td>\n",
       "      <td>AL - Birmingham</td>\n",
       "      <td>14</td>\n",
       "      <td>$15131.85</td>\n",
       "      <td>$5787.57</td>\n",
       "      <td>$4976.71</td>\n",
       "    </tr>\n",
       "    <tr>\n",
       "      <th>2</th>\n",
       "      <td>039 - EXTRACRANIAL PROCEDURES W/O CC/MCC</td>\n",
       "      <td>10006</td>\n",
       "      <td>ELIZA COFFEE MEMORIAL HOSPITAL</td>\n",
       "      <td>205 MARENGO STREET</td>\n",
       "      <td>FLORENCE</td>\n",
       "      <td>AL</td>\n",
       "      <td>35631</td>\n",
       "      <td>AL - Birmingham</td>\n",
       "      <td>24</td>\n",
       "      <td>$37560.37</td>\n",
       "      <td>$5434.95</td>\n",
       "      <td>$4453.79</td>\n",
       "    </tr>\n",
       "    <tr>\n",
       "      <th>3</th>\n",
       "      <td>039 - EXTRACRANIAL PROCEDURES W/O CC/MCC</td>\n",
       "      <td>10011</td>\n",
       "      <td>ST VINCENT'S EAST</td>\n",
       "      <td>50 MEDICAL PARK EAST DRIVE</td>\n",
       "      <td>BIRMINGHAM</td>\n",
       "      <td>AL</td>\n",
       "      <td>35235</td>\n",
       "      <td>AL - Birmingham</td>\n",
       "      <td>25</td>\n",
       "      <td>$13998.28</td>\n",
       "      <td>$5417.56</td>\n",
       "      <td>$4129.16</td>\n",
       "    </tr>\n",
       "    <tr>\n",
       "      <th>4</th>\n",
       "      <td>039 - EXTRACRANIAL PROCEDURES W/O CC/MCC</td>\n",
       "      <td>10016</td>\n",
       "      <td>SHELBY BAPTIST MEDICAL CENTER</td>\n",
       "      <td>1000 FIRST STREET NORTH</td>\n",
       "      <td>ALABASTER</td>\n",
       "      <td>AL</td>\n",
       "      <td>35007</td>\n",
       "      <td>AL - Birmingham</td>\n",
       "      <td>18</td>\n",
       "      <td>$31633.27</td>\n",
       "      <td>$5658.33</td>\n",
       "      <td>$4851.44</td>\n",
       "    </tr>\n",
       "  </tbody>\n",
       "</table>\n",
       "</div>"
      ],
      "text/plain": [
       "                             DRG_Definition  Provider_Id  \\\n",
       "0  039 - EXTRACRANIAL PROCEDURES W/O CC/MCC        10001   \n",
       "1  039 - EXTRACRANIAL PROCEDURES W/O CC/MCC        10005   \n",
       "2  039 - EXTRACRANIAL PROCEDURES W/O CC/MCC        10006   \n",
       "3  039 - EXTRACRANIAL PROCEDURES W/O CC/MCC        10011   \n",
       "4  039 - EXTRACRANIAL PROCEDURES W/O CC/MCC        10016   \n",
       "\n",
       "                      Provider_Name     Provider_Street_Address Provider_City  \\\n",
       "0  SOUTHEAST ALABAMA MEDICAL CENTER      1108 ROSS CLARK CIRCLE        DOTHAN   \n",
       "1     MARSHALL MEDICAL CENTER SOUTH  2505 U S HIGHWAY 431 NORTH          BOAZ   \n",
       "2    ELIZA COFFEE MEMORIAL HOSPITAL          205 MARENGO STREET      FLORENCE   \n",
       "3                 ST VINCENT'S EAST  50 MEDICAL PARK EAST DRIVE    BIRMINGHAM   \n",
       "4     SHELBY BAPTIST MEDICAL CENTER     1000 FIRST STREET NORTH     ALABASTER   \n",
       "\n",
       "  Provider_State  Provider_Zip_Code Hospital_Referral_Region_Description  \\\n",
       "0             AL              36301                          AL - Dothan   \n",
       "1             AL              35957                      AL - Birmingham   \n",
       "2             AL              35631                      AL - Birmingham   \n",
       "3             AL              35235                      AL - Birmingham   \n",
       "4             AL              35007                      AL - Birmingham   \n",
       "\n",
       "   Total_Discharges Average_Covered_Charges Average_Total_Payments  \\\n",
       "0                91               $32963.07               $5777.24   \n",
       "1                14               $15131.85               $5787.57   \n",
       "2                24               $37560.37               $5434.95   \n",
       "3                25               $13998.28               $5417.56   \n",
       "4                18               $31633.27               $5658.33   \n",
       "\n",
       "  Average_Medicare_Payments  \n",
       "0                  $4763.73  \n",
       "1                  $4976.71  \n",
       "2                  $4453.79  \n",
       "3                  $4129.16  \n",
       "4                  $4851.44  "
      ]
     },
     "execution_count": 4,
     "metadata": {},
     "output_type": "execute_result"
    }
   ],
   "source": [
    "#data['Average_Covered_Charges'] = data['Average_Covered_Charges'].str.strip('$')\n",
    "#data['Average_Total_Payments'] = data['Average_Total_Payments'].str.strip('$')\n",
    "#data['Average_Medicare_Payments'] = data['Average_Medicare_Payments'].str.strip('$')\n",
    "data.head(5)"
   ]
  },
  {
   "cell_type": "code",
   "execution_count": 5,
   "metadata": {},
   "outputs": [],
   "source": [
    "#!pip install squarify"
   ]
  },
  {
   "cell_type": "code",
   "execution_count": 6,
   "metadata": {},
   "outputs": [
    {
     "data": {
      "text/plain": [
       "count       163065\n",
       "unique      147842\n",
       "top       $4370.00\n",
       "freq             9\n",
       "Name: Average_Total_Payments, dtype: object"
      ]
     },
     "execution_count": 6,
     "metadata": {},
     "output_type": "execute_result"
    }
   ],
   "source": [
    "data['Average_Total_Payments'].describe()"
   ]
  },
  {
   "cell_type": "code",
   "execution_count": 7,
   "metadata": {},
   "outputs": [
    {
     "name": "stderr",
     "output_type": "stream",
     "text": [
      "<ipython-input-7-a4718f4a9b0a>:5: FutureWarning: The default value of regex will change from True to False in a future version.\n",
      "  data['Average_Total_Payments'] = (data['Average_Total_Payments']\n",
      "<ipython-input-7-a4718f4a9b0a>:7: FutureWarning: The default value of regex will change from True to False in a future version.\n",
      "  data['Average_Medicare_Payments'] = (data['Average_Medicare_Payments']\n"
     ]
    }
   ],
   "source": [
    "data['DRG_Definition'] = data['DRG_Definition'].astype('category')\n",
    "data['Provider_State'] = data['Provider_State'].astype('category')\n",
    "data['Provider_City'] = data['Provider_City'].astype('category')\n",
    "data['Provider_Id'] = data['Provider_Id'].astype('category')\n",
    "data['Average_Total_Payments'] = (data['Average_Total_Payments']\n",
    "                                  .str.replace(r'[^-+\\d.]', '').astype(float))\n",
    "data['Average_Medicare_Payments'] = (data['Average_Medicare_Payments']\n",
    "                                    .str.replace(r'[^-+\\d.]', '').astype(float))"
   ]
  },
  {
   "cell_type": "markdown",
   "metadata": {},
   "source": [
    "# EDA"
   ]
  },
  {
   "cell_type": "code",
   "execution_count": 8,
   "metadata": {},
   "outputs": [
    {
     "data": {
      "text/plain": [
       "<AxesSubplot:xlabel='Provider_State', ylabel='Count'>"
      ]
     },
     "execution_count": 8,
     "metadata": {},
     "output_type": "execute_result"
    },
    {
     "data": {
      "image/png": "[encoded data removed]",
      "text/plain": [
       "<Figure size 864x396 with 1 Axes>"
      ]
     },
     "metadata": {},
     "output_type": "display_data"
    }
   ],
   "source": [
    "import matplotlib.pyplot as plt\n",
    "plt.rcParams[\"figure.figsize\"] = (12,5.5)\n",
    "sns.histplot(data['Provider_State'])"
   ]
  },
  {
   "cell_type": "code",
   "execution_count": 9,
   "metadata": {},
   "outputs": [],
   "source": [
    "state_cnt = data['Provider_State'].value_counts()\n",
    "state_cnt = pd.DataFrame(state_cnt)\n",
    "#state_cnt"
   ]
  },
  {
   "cell_type": "code",
   "execution_count": 10,
   "metadata": {},
   "outputs": [
    {
     "data": {
      "image/png": "[encoded data removed]",
      "text/plain": [
       "<Figure size 864x396 with 1 Axes>"
      ]
     },
     "metadata": {},
     "output_type": "display_data"
    }
   ],
   "source": [
    "import squarify\n",
    "squarify.plot(state_cnt['Provider_State'], label=state_cnt.index)\n",
    "plt.show()"
   ]
  },
  {
   "cell_type": "code",
   "execution_count": 11,
   "metadata": {},
   "outputs": [
    {
     "data": {
      "text/plain": [
       "(array([ 0,  1,  2,  3,  4,  5,  6,  7,  8,  9, 10, 11, 12, 13, 14, 15, 16,\n",
       "        17, 18, 19]),\n",
       " [Text(0, 0, 'CHICAGO'),\n",
       "  Text(1, 0, 'BALTIMORE'),\n",
       "  Text(2, 0, 'HOUSTON'),\n",
       "  Text(3, 0, 'PHILADELPHIA'),\n",
       "  Text(4, 0, 'BROOKLYN'),\n",
       "  Text(5, 0, 'SPRINGFIELD'),\n",
       "  Text(6, 0, 'COLUMBUS'),\n",
       "  Text(7, 0, 'LOS ANGELES'),\n",
       "  Text(8, 0, 'NEW YORK'),\n",
       "  Text(9, 0, 'DALLAS'),\n",
       "  Text(10, 0, 'LAS VEGAS'),\n",
       "  Text(11, 0, 'JACKSON'),\n",
       "  Text(12, 0, 'JACKSONVILLE'),\n",
       "  Text(13, 0, 'COLUMBIA'),\n",
       "  Text(14, 0, 'WASHINGTON'),\n",
       "  Text(15, 0, 'CINCINNATI'),\n",
       "  Text(16, 0, 'MIAMI'),\n",
       "  Text(17, 0, 'CLEVELAND'),\n",
       "  Text(18, 0, 'BOSTON'),\n",
       "  Text(19, 0, 'INDIANAPOLIS')])"
      ]
     },
     "execution_count": 11,
     "metadata": {},
     "output_type": "execute_result"
    },
    {
     "data": {
      "image/png": "[encoded data removed]",
      "text/plain": [
       "<Figure size 1080x360 with 1 Axes>"
      ]
     },
     "metadata": {},
     "output_type": "display_data"
    }
   ],
   "source": [
    "plt.figure(figsize=(15,5))\n",
    "ch = sns.countplot(x='Provider_City',data=data,order=data['Provider_City'].value_counts()[:20].index)\n",
    "plt.xticks(rotation = 90)"
   ]
  },
  {
   "cell_type": "markdown",
   "metadata": {},
   "source": [
    "# Feature 1: Average of the average total payments by each provider"
   ]
  },
  {
   "cell_type": "code",
   "execution_count": 12,
   "metadata": {},
   "outputs": [],
   "source": [
    "mean_by_provider = data.groupby(['Provider_Name'])['Average_Total_Payments'].mean()\n",
    "mean_by_provider = pd.DataFrame(mean_by_provider)\n",
    "mean_by_provider.columns = ['mean_by_provider']\n",
    "#mean_by_provider"
   ]
  },
  {
   "cell_type": "code",
   "execution_count": 13,
   "metadata": {},
   "outputs": [
    {
     "data": {
      "text/plain": [
       "count    163065.000000\n",
       "mean       9707.473804\n",
       "std        2655.889627\n",
       "min        3291.310000\n",
       "25%        8015.357342\n",
       "50%        9264.698039\n",
       "75%       10837.113854\n",
       "max       50552.610000\n",
       "Name: mean_by_provider, dtype: float64"
      ]
     },
     "execution_count": 13,
     "metadata": {},
     "output_type": "execute_result"
    }
   ],
   "source": [
    "# add the new feature average of the average total payments by each provider\n",
    "data1 = pd.merge(data, mean_by_provider, how='left', on=['Provider_Name'])\n",
    "# Feature 1: average of the average total payments by each provider\n",
    "data1['mean_by_provider'] = np.where(data1['mean_by_provider']==0,0, data1['mean_by_provider'])\n",
    "data1['mean_by_provider'].describe()"
   ]
  },
  {
   "cell_type": "code",
   "execution_count": 14,
   "metadata": {},
   "outputs": [
    {
     "data": {
      "text/plain": [
       "<AxesSubplot:xlabel='Provider_State', ylabel='mean_by_provider'>"
      ]
     },
     "execution_count": 14,
     "metadata": {},
     "output_type": "execute_result"
    },
    {
     "data": {
      "image/png": "[encoded data removed]",
      "text/plain": [
       "<Figure size 864x396 with 1 Axes>"
      ]
     },
     "metadata": {},
     "output_type": "display_data"
    }
   ],
   "source": [
    "sns.set(style=\"whitegrid\")\n",
    "sns.boxplot(x=\"Provider_State\", y=\"mean_by_provider\",\n",
    "            color=\"b\",  data=data1)"
   ]
  },
  {
   "cell_type": "markdown",
   "metadata": {},
   "source": [
    "This variable records the mean of each provider. It could make a detection when we compare each of them with other providers such as other providers from the same state. For example, the above box plot shows the outliers of each state."
   ]
  },
  {
   "cell_type": "markdown",
   "metadata": {},
   "source": [
    "# Feature 2: The ratio of the mean of the average total payments by each provider"
   ]
  },
  {
   "cell_type": "code",
   "execution_count": 15,
   "metadata": {},
   "outputs": [],
   "source": [
    "ratio_mean_by_provider = data.groupby(['Provider_Name'])['Average_Total_Payments'].mean()\n",
    "ratio_mean_by_provider = pd.DataFrame(ratio_mean_by_provider)\n",
    "ratio_mean_by_provider.columns = ['ratio_mean_by_provider']\n",
    "#ratio_mean_by_provider"
   ]
  },
  {
   "cell_type": "code",
   "execution_count": 16,
   "metadata": {},
   "outputs": [
    {
     "data": {
      "text/plain": [
       "count    163065.000000\n",
       "mean          1.313644\n",
       "std           0.581753\n",
       "min           0.120945\n",
       "25%           0.841027\n",
       "50%           1.283607\n",
       "75%           1.728707\n",
       "max           7.010555\n",
       "Name: ratio_mean_by_provider, dtype: float64"
      ]
     },
     "execution_count": 16,
     "metadata": {},
     "output_type": "execute_result"
    }
   ],
   "source": [
    "# add the new feature average of the average total payments by each provider\n",
    "data2 = pd.merge(data1, ratio_mean_by_provider, how='left', on=['Provider_Name'])\n",
    "# Feature 2: ratio of the mean of the average total payments by each provider\n",
    "data2['ratio_mean_by_provider'] = np.where(data2['ratio_mean_by_provider']==0,0, data2['ratio_mean_by_provider']/data2['Average_Total_Payments'])\n",
    "data2['ratio_mean_by_provider'].describe()"
   ]
  },
  {
   "cell_type": "code",
   "execution_count": 17,
   "metadata": {},
   "outputs": [
    {
     "data": {
      "text/plain": [
       "<AxesSubplot:xlabel='ratio_mean_by_provider', ylabel='Count'>"
      ]
     },
     "execution_count": 17,
     "metadata": {},
     "output_type": "execute_result"
    },
    {
     "data": {
      "image/png": "[encoded data removed]",
      "text/plain": [
       "<Figure size 864x396 with 1 Axes>"
      ]
     },
     "metadata": {},
     "output_type": "display_data"
    }
   ],
   "source": [
    "sns.histplot(data2['ratio_mean_by_provider'])"
   ]
  },
  {
   "cell_type": "markdown",
   "metadata": {},
   "source": [
    "This feature records the ratio of the mean of each provider. We could find outliers by comparing the ratio of all providers. The cases with a very large ratio could be the outliers. For example, in the above histogram, the ones above 3 means that they have an average total cost that is more than 3 times greater than the mean of this provider."
   ]
  },
  {
   "cell_type": "markdown",
   "metadata": {},
   "source": [
    "# Feature 3: Median of the average total payments by each provider"
   ]
  },
  {
   "cell_type": "code",
   "execution_count": 18,
   "metadata": {},
   "outputs": [],
   "source": [
    "median_by_provider = data.groupby(['Provider_Name'])['Average_Total_Payments'].mean()\n",
    "median_by_provider = pd.DataFrame(median_by_provider)\n",
    "median_by_provider.columns = ['median_by_provider']\n",
    "#median_by_provider"
   ]
  },
  {
   "cell_type": "code",
   "execution_count": 19,
   "metadata": {},
   "outputs": [
    {
     "data": {
      "text/plain": [
       "count    163065.000000\n",
       "mean       9707.473804\n",
       "std        2655.889627\n",
       "min        3291.310000\n",
       "25%        8015.357342\n",
       "50%        9264.698039\n",
       "75%       10837.113854\n",
       "max       50552.610000\n",
       "Name: median_by_provider, dtype: float64"
      ]
     },
     "execution_count": 19,
     "metadata": {},
     "output_type": "execute_result"
    }
   ],
   "source": [
    "# add the new feature median of the average total payments by each provider\n",
    "data3 = pd.merge(data2, median_by_provider, how='left', on=['Provider_Name'])\n",
    "# Feature 3: Median of the average total payments by each provider\n",
    "data3['median_by_provider'] = np.where(data3['median_by_provider']==0,0, data3['median_by_provider'])\n",
    "data3['median_by_provider'].describe()"
   ]
  },
  {
   "cell_type": "markdown",
   "metadata": {},
   "source": [
    "Similar as the previous one, this variable records the median of each provider. Sometimes it could be more useful than the mean since sometimes the mean could be affected by outliers."
   ]
  },
  {
   "cell_type": "markdown",
   "metadata": {},
   "source": [
    "# Feature 4: Ratio of the median of the average total payments by each provider"
   ]
  },
  {
   "cell_type": "code",
   "execution_count": 20,
   "metadata": {},
   "outputs": [
    {
     "data": {
      "text/html": [
       "<div>\n",
       "<style scoped>\n",
       "    .dataframe tbody tr th:only-of-type {\n",
       "        vertical-align: middle;\n",
       "    }\n",
       "\n",
       "    .dataframe tbody tr th {\n",
       "        vertical-align: top;\n",
       "    }\n",
       "\n",
       "    .dataframe thead th {\n",
       "        text-align: right;\n",
       "    }\n",
       "</style>\n",
       "<table border=\"1\" class=\"dataframe\">\n",
       "  <thead>\n",
       "    <tr style=\"text-align: right;\">\n",
       "      <th></th>\n",
       "      <th>ratio_median_by_provider</th>\n",
       "    </tr>\n",
       "    <tr>\n",
       "      <th>Provider_Name</th>\n",
       "      <th></th>\n",
       "    </tr>\n",
       "  </thead>\n",
       "  <tbody>\n",
       "    <tr>\n",
       "      <th>ABBEVILLE GENERAL HOSPITAL</th>\n",
       "      <td>6663.217222</td>\n",
       "    </tr>\n",
       "    <tr>\n",
       "      <th>ABBOTT NORTHWESTERN HOSPITAL</th>\n",
       "      <td>10904.566289</td>\n",
       "    </tr>\n",
       "    <tr>\n",
       "      <th>ABILENE REGIONAL MEDICAL CENTER</th>\n",
       "      <td>8861.500862</td>\n",
       "    </tr>\n",
       "    <tr>\n",
       "      <th>ABINGTON MEMORIAL HOSPITAL</th>\n",
       "      <td>10321.999293</td>\n",
       "    </tr>\n",
       "    <tr>\n",
       "      <th>ACMH HOSPITAL</th>\n",
       "      <td>5901.026667</td>\n",
       "    </tr>\n",
       "    <tr>\n",
       "      <th>...</th>\n",
       "      <td>...</td>\n",
       "    </tr>\n",
       "    <tr>\n",
       "      <th>YAVAPAI REGIONAL MEDICAL CENTER-EAST</th>\n",
       "      <td>7369.189630</td>\n",
       "    </tr>\n",
       "    <tr>\n",
       "      <th>YORK HOSPITAL</th>\n",
       "      <td>9887.716286</td>\n",
       "    </tr>\n",
       "    <tr>\n",
       "      <th>YUKON KUSKOKWIM DELTA REG HOSPITAL</th>\n",
       "      <td>9939.553333</td>\n",
       "    </tr>\n",
       "    <tr>\n",
       "      <th>YUMA REGIONAL MEDICAL CENTER</th>\n",
       "      <td>10317.902989</td>\n",
       "    </tr>\n",
       "    <tr>\n",
       "      <th>ZUNI COMPREHENSIVE COMMUNITY HEALTH CENTER</th>\n",
       "      <td>9500.750000</td>\n",
       "    </tr>\n",
       "  </tbody>\n",
       "</table>\n",
       "<p>3201 rows × 1 columns</p>\n",
       "</div>"
      ],
      "text/plain": [
       "                                            ratio_median_by_provider\n",
       "Provider_Name                                                       \n",
       "ABBEVILLE GENERAL HOSPITAL                               6663.217222\n",
       "ABBOTT NORTHWESTERN HOSPITAL                            10904.566289\n",
       "ABILENE REGIONAL MEDICAL CENTER                          8861.500862\n",
       "ABINGTON MEMORIAL HOSPITAL                              10321.999293\n",
       "ACMH HOSPITAL                                            5901.026667\n",
       "...                                                              ...\n",
       "YAVAPAI REGIONAL MEDICAL CENTER-EAST                     7369.189630\n",
       "YORK HOSPITAL                                            9887.716286\n",
       "YUKON KUSKOKWIM DELTA REG HOSPITAL                       9939.553333\n",
       "YUMA REGIONAL MEDICAL CENTER                            10317.902989\n",
       "ZUNI COMPREHENSIVE COMMUNITY HEALTH CENTER               9500.750000\n",
       "\n",
       "[3201 rows x 1 columns]"
      ]
     },
     "execution_count": 20,
     "metadata": {},
     "output_type": "execute_result"
    }
   ],
   "source": [
    "ratio_median_by_provider = data.groupby(['Provider_Name'])['Average_Total_Payments'].mean()\n",
    "ratio_median_by_provider = pd.DataFrame(ratio_median_by_provider)\n",
    "ratio_median_by_provider.columns = ['ratio_median_by_provider']\n",
    "ratio_median_by_provider"
   ]
  },
  {
   "cell_type": "code",
   "execution_count": 21,
   "metadata": {},
   "outputs": [
    {
     "data": {
      "text/plain": [
       "count    163065.000000\n",
       "mean          1.313644\n",
       "std           0.581753\n",
       "min           0.120945\n",
       "25%           0.841027\n",
       "50%           1.283607\n",
       "75%           1.728707\n",
       "max           7.010555\n",
       "Name: ratio_median_by_provider, dtype: float64"
      ]
     },
     "execution_count": 21,
     "metadata": {},
     "output_type": "execute_result"
    }
   ],
   "source": [
    "# add the new feature average of the average total payments by each provider\n",
    "data4 = pd.merge(data3, ratio_median_by_provider, how='left', on=['Provider_Name'])\n",
    "# Feature 4: Ratio of the median of the average total payments by each provider\n",
    "data4['ratio_median_by_provider'] = np.where(data4['ratio_median_by_provider']==0,0, data4['ratio_median_by_provider']/data4['Average_Total_Payments'])\n",
    "data4['ratio_median_by_provider'].describe()"
   ]
  },
  {
   "cell_type": "code",
   "execution_count": 22,
   "metadata": {},
   "outputs": [
    {
     "data": {
      "text/plain": [
       "<AxesSubplot:xlabel='ratio_median_by_provider', ylabel='Count'>"
      ]
     },
     "execution_count": 22,
     "metadata": {},
     "output_type": "execute_result"
    },
    {
     "data": {
      "image/png": "[encoded data removed]",
      "text/plain": [
       "<Figure size 864x396 with 1 Axes>"
      ]
     },
     "metadata": {},
     "output_type": "display_data"
    }
   ],
   "source": [
    "sns.histplot(data4['ratio_median_by_provider'])"
   ]
  },
  {
   "cell_type": "markdown",
   "metadata": {},
   "source": [
    "Similar as feature 2, this feature records the ratio of the median of each provider. We could find outliers by comparing the ratio of all providers. The cases with a very large ratio could be the outliers. For example, in the above histogram, the ones above 3 are having an average total cost that is more than 3 times greater than the median of this provider."
   ]
  },
  {
   "cell_type": "markdown",
   "metadata": {},
   "source": [
    "# Feature 5: Average payments that pay by beneficiary or payments by third parties for coordination of benefits"
   ]
  },
  {
   "cell_type": "code",
   "execution_count": 23,
   "metadata": {},
   "outputs": [],
   "source": [
    "Average_beneficiary_Payments = data['Average_Total_Payments'] - data['Average_Medicare_Payments']\n",
    "Average_beneficiary_Payments = pd.DataFrame(Average_beneficiary_Payments)\n",
    "Average_beneficiary_Payments.columns = ['Average_beneficiary_Payments']\n",
    "#Average_beneficiary_Payments"
   ]
  },
  {
   "cell_type": "code",
   "execution_count": 24,
   "metadata": {},
   "outputs": [
    {
     "data": {
      "text/plain": [
       "count    163065.000000\n",
       "mean       1212.982840\n",
       "std        1148.097584\n",
       "min           0.000000\n",
       "25%         776.310000\n",
       "50%         935.720000\n",
       "75%        1221.410000\n",
       "max       75998.660000\n",
       "Name: Average_beneficiary_Payments, dtype: float64"
      ]
     },
     "execution_count": 24,
     "metadata": {},
     "output_type": "execute_result"
    }
   ],
   "source": [
    "# add the new feature average of the average total payments by each provider\n",
    "data5 = data4\n",
    "data5['Average_beneficiary_Payments'] = Average_beneficiary_Payments\n",
    "# Feature 5: Average payments that pay by beneficiary or payments by third parties for coordination of benefits\n",
    "data5['Average_beneficiary_Payments'].describe()"
   ]
  },
  {
   "cell_type": "code",
   "execution_count": 25,
   "metadata": {},
   "outputs": [
    {
     "data": {
      "text/plain": [
       "<AxesSubplot:xlabel='Average_beneficiary_Payments', ylabel='Count'>"
      ]
     },
     "execution_count": 25,
     "metadata": {},
     "output_type": "execute_result"
    },
    {
     "data": {
      "image/png": "[encoded data removed]",
      "text/plain": [
       "<Figure size 864x396 with 1 Axes>"
      ]
     },
     "metadata": {},
     "output_type": "display_data"
    }
   ],
   "source": [
    "sns.histplot(data5['Average_beneficiary_Payments'])"
   ]
  },
  {
   "cell_type": "markdown",
   "metadata": {},
   "source": [
    "According to the data description, Average Total Payments refers to what Medicare actually pays to the provider, and co-payment and deductible amounts that the beneficiary is responsible for and payments by third parties for coordination of benefits. Therefore, I use Average_Total_Payments minus Average_Medicare_Payments to get the number that pay by beneficiary or payments by third parties for coordination of benefits. We can see that the max amount in this feature is 75998.66, which is extremely high. By this feature, we could detect the abnormal high amount of pay that beneficiary that would neet to pay as outliers."
   ]
  },
  {
   "cell_type": "markdown",
   "metadata": {},
   "source": [
    "# Feature 6: Ratio of average payments that pay by beneficiary or payments by third parties for coordination of benefits"
   ]
  },
  {
   "cell_type": "code",
   "execution_count": 26,
   "metadata": {},
   "outputs": [
    {
     "data": {
      "text/html": [
       "<div>\n",
       "<style scoped>\n",
       "    .dataframe tbody tr th:only-of-type {\n",
       "        vertical-align: middle;\n",
       "    }\n",
       "\n",
       "    .dataframe tbody tr th {\n",
       "        vertical-align: top;\n",
       "    }\n",
       "\n",
       "    .dataframe thead th {\n",
       "        text-align: right;\n",
       "    }\n",
       "</style>\n",
       "<table border=\"1\" class=\"dataframe\">\n",
       "  <thead>\n",
       "    <tr style=\"text-align: right;\">\n",
       "      <th></th>\n",
       "      <th>ratio_Average_beneficiary_Payments</th>\n",
       "    </tr>\n",
       "  </thead>\n",
       "  <tbody>\n",
       "    <tr>\n",
       "      <th>0</th>\n",
       "      <td>0.175432</td>\n",
       "    </tr>\n",
       "    <tr>\n",
       "      <th>1</th>\n",
       "      <td>0.140104</td>\n",
       "    </tr>\n",
       "    <tr>\n",
       "      <th>2</th>\n",
       "      <td>0.180528</td>\n",
       "    </tr>\n",
       "    <tr>\n",
       "      <th>3</th>\n",
       "      <td>0.237819</td>\n",
       "    </tr>\n",
       "    <tr>\n",
       "      <th>4</th>\n",
       "      <td>0.142602</td>\n",
       "    </tr>\n",
       "    <tr>\n",
       "      <th>...</th>\n",
       "      <td>...</td>\n",
       "    </tr>\n",
       "    <tr>\n",
       "      <th>163060</th>\n",
       "      <td>0.193196</td>\n",
       "    </tr>\n",
       "    <tr>\n",
       "      <th>163061</th>\n",
       "      <td>0.342070</td>\n",
       "    </tr>\n",
       "    <tr>\n",
       "      <th>163062</th>\n",
       "      <td>0.288551</td>\n",
       "    </tr>\n",
       "    <tr>\n",
       "      <th>163063</th>\n",
       "      <td>0.106295</td>\n",
       "    </tr>\n",
       "    <tr>\n",
       "      <th>163064</th>\n",
       "      <td>0.184290</td>\n",
       "    </tr>\n",
       "  </tbody>\n",
       "</table>\n",
       "<p>163065 rows × 1 columns</p>\n",
       "</div>"
      ],
      "text/plain": [
       "        ratio_Average_beneficiary_Payments\n",
       "0                                 0.175432\n",
       "1                                 0.140104\n",
       "2                                 0.180528\n",
       "3                                 0.237819\n",
       "4                                 0.142602\n",
       "...                                    ...\n",
       "163060                            0.193196\n",
       "163061                            0.342070\n",
       "163062                            0.288551\n",
       "163063                            0.106295\n",
       "163064                            0.184290\n",
       "\n",
       "[163065 rows x 1 columns]"
      ]
     },
     "execution_count": 26,
     "metadata": {},
     "output_type": "execute_result"
    }
   ],
   "source": [
    "ratio_Average_beneficiary_Payments = data5['Average_beneficiary_Payments'] / data5['Average_Total_Payments']\n",
    "ratio_Average_beneficiary_Payments = pd.DataFrame(ratio_Average_beneficiary_Payments)\n",
    "ratio_Average_beneficiary_Payments.columns = ['ratio_Average_beneficiary_Payments']\n",
    "ratio_Average_beneficiary_Payments"
   ]
  },
  {
   "cell_type": "code",
   "execution_count": 27,
   "metadata": {},
   "outputs": [
    {
     "data": {
      "text/plain": [
       "count    163065.000000\n",
       "mean          0.153455\n",
       "std           0.087911\n",
       "min           0.000000\n",
       "25%           0.086496\n",
       "50%           0.139811\n",
       "75%           0.203366\n",
       "max           0.956845\n",
       "Name: ratio_Average_beneficiary_Payments, dtype: float64"
      ]
     },
     "execution_count": 27,
     "metadata": {},
     "output_type": "execute_result"
    }
   ],
   "source": [
    "# add the new feature average of the average total payments by each provider\n",
    "data6 = data5\n",
    "data6['ratio_Average_beneficiary_Payments'] = ratio_Average_beneficiary_Payments\n",
    "# Feature 6: Ratio of average payments that pay by beneficiary or payments by third parties for coordination of benefits\n",
    "data6['ratio_Average_beneficiary_Payments'].describe()"
   ]
  },
  {
   "cell_type": "code",
   "execution_count": 28,
   "metadata": {},
   "outputs": [
    {
     "data": {
      "text/plain": [
       "<AxesSubplot:xlabel='ratio_Average_beneficiary_Payments', ylabel='Count'>"
      ]
     },
     "execution_count": 28,
     "metadata": {},
     "output_type": "execute_result"
    },
    {
     "data": {
      "image/png": "[encoded data removed]",
      "text/plain": [
       "<Figure size 864x396 with 1 Axes>"
      ]
     },
     "metadata": {},
     "output_type": "display_data"
    }
   ],
   "source": [
    "sns.histplot(data6['ratio_Average_beneficiary_Payments'])"
   ]
  },
  {
   "cell_type": "markdown",
   "metadata": {},
   "source": [
    "This feature is the ratio of the previous feature divided by Average_Total_Payments. This would give as a clue of how much percent dose the beneficiaries might need to pay even with the medical care. We can see that most of the data has below 40%, so the cases that are higher than 40% might be the anomalies."
   ]
  },
  {
   "cell_type": "markdown",
   "metadata": {},
   "source": [
    "# Feature 7: Average of total discharges by state"
   ]
  },
  {
   "cell_type": "code",
   "execution_count": 29,
   "metadata": {},
   "outputs": [],
   "source": [
    "discharge_by_states = data.groupby(['Provider_State'])['Total_Discharges'].mean()\n",
    "discharge_by_states = pd.DataFrame(discharge_by_states)\n",
    "discharge_by_states.columns = ['discharge_by_states']\n",
    "#discharge_by_states"
   ]
  },
  {
   "cell_type": "code",
   "execution_count": 30,
   "metadata": {},
   "outputs": [
    {
     "data": {
      "text/plain": [
       "count    163065.000000\n",
       "mean         42.776304\n",
       "std           5.874590\n",
       "min          26.457490\n",
       "25%          38.520878\n",
       "50%          41.852824\n",
       "75%          47.456635\n",
       "max          67.901015\n",
       "Name: discharge_by_states, dtype: float64"
      ]
     },
     "execution_count": 30,
     "metadata": {},
     "output_type": "execute_result"
    }
   ],
   "source": [
    "# add the new feature average of the average total payments by each provider\n",
    "data7 = pd.merge(data6, discharge_by_states, how='left', on=['Provider_State'])\n",
    "# Feature 7: Average of total discharges by state\n",
    "data7['discharge_by_states'] = np.where(data7['discharge_by_states']==0,0, data7['discharge_by_states'])\n",
    "data7['discharge_by_states'].describe()"
   ]
  },
  {
   "cell_type": "code",
   "execution_count": 31,
   "metadata": {},
   "outputs": [
    {
     "data": {
      "text/plain": [
       "<AxesSubplot:xlabel='discharge_by_states', ylabel='count'>"
      ]
     },
     "execution_count": 31,
     "metadata": {},
     "output_type": "execute_result"
    },
    {
     "data": {
      "image/png": "[encoded data removed]",
      "text/plain": [
       "<Figure size 864x396 with 1 Axes>"
      ]
     },
     "metadata": {},
     "output_type": "display_data"
    }
   ],
   "source": [
    "sns.countplot(x='discharge_by_states',data=data7,order=data7['discharge_by_states'].value_counts().index)\n",
    "#plt.xticks(rotation = 90)"
   ]
  },
  {
   "cell_type": "markdown",
   "metadata": {},
   "source": [
    "According to data description, Total_Discharges represents the number of beneficiaries who were released from the inpatient hospital after receiving care. From this feature, we could see that there is more than 2 times of difference from the largest to the smallest. Also, some states are having significantly higher count than the others."
   ]
  },
  {
   "cell_type": "markdown",
   "metadata": {},
   "source": [
    "# Feature 8: Average of average total payment by state"
   ]
  },
  {
   "cell_type": "code",
   "execution_count": 32,
   "metadata": {},
   "outputs": [],
   "source": [
    "total_payments_by_states = data.groupby(['Provider_State'])['Average_Total_Payments'].median()\n",
    "total_payments_by_states = pd.DataFrame(total_payments_by_states)\n",
    "total_payments_by_states.columns = ['total_payments_by_states']\n",
    "total_payments_by_states = total_payments_by_states.reset_index()"
   ]
  },
  {
   "cell_type": "code",
   "execution_count": 33,
   "metadata": {},
   "outputs": [
    {
     "data": {
      "text/plain": [
       "count    163065.000000\n",
       "mean       7270.891803\n",
       "std         989.463374\n",
       "min        5876.370000\n",
       "25%        6578.980000\n",
       "50%        6927.475000\n",
       "75%        7671.360000\n",
       "max       11190.080000\n",
       "Name: total_payments_by_states, dtype: float64"
      ]
     },
     "execution_count": 33,
     "metadata": {},
     "output_type": "execute_result"
    }
   ],
   "source": [
    "# add the new feature average of the average total payments by each provider\n",
    "data8 = pd.merge(data7, total_payments_by_states, how='left', on=['Provider_State'])\n",
    "# Feature 8: Average of average total payment by state\n",
    "data8['total_payments_by_states'] = np.where(data8['total_payments_by_states']==0,0, data8['total_payments_by_states'])\n",
    "data8['total_payments_by_states'].describe()"
   ]
  },
  {
   "cell_type": "code",
   "execution_count": 34,
   "metadata": {},
   "outputs": [
    {
     "data": {
      "text/plain": [
       "<AxesSubplot:xlabel='total_payments_by_states', ylabel='count'>"
      ]
     },
     "execution_count": 34,
     "metadata": {},
     "output_type": "execute_result"
    },
    {
     "data": {
      "image/png": "[encoded data removed]",
      "text/plain": [
       "<Figure size 864x396 with 1 Axes>"
      ]
     },
     "metadata": {},
     "output_type": "display_data"
    }
   ],
   "source": [
    "sns.countplot(x='total_payments_by_states',data=data8,order=data8['total_payments_by_states'].value_counts().index)\n",
    "#plt.xticks(rotation = 90)"
   ]
  },
  {
   "cell_type": "code",
   "execution_count": 35,
   "metadata": {},
   "outputs": [
    {
     "data": {
      "text/plain": [
       "<seaborn.axisgrid.FacetGrid at 0x7ff4bfb9e610>"
      ]
     },
     "execution_count": 35,
     "metadata": {},
     "output_type": "execute_result"
    },
    {
     "data": {
      "image/png": "[encoded data removed]",
      "text/plain": [
       "<Figure size 360x360 with 1 Axes>"
      ]
     },
     "metadata": {},
     "output_type": "display_data"
    }
   ],
   "source": [
    "sns.set(style=\"white\")\n",
    "# Plot miles per gallon against horsepower with other semantics\n",
    "sns.relplot(x=\"Average_Total_Payments\",\n",
    "            y=\"Total_Discharges\",\n",
    "            hue=None,\n",
    "            size=None,\n",
    "            alpha=0.5,\n",
    "            data=data8)"
   ]
  },
  {
   "cell_type": "code",
   "execution_count": 36,
   "metadata": {},
   "outputs": [],
   "source": [
    "sample_data = data8.sample(n = 10000)"
   ]
  },
  {
   "cell_type": "code",
   "execution_count": 37,
   "metadata": {},
   "outputs": [],
   "source": [
    "#X = sample_data[\"Total_Discharges\"].values.reshape(-1,).astype('float32')\n",
    "#y = sample_data[\"Average_Total_Payments\"].values.reshape(-1,).astype('float32')\n",
    "#fit = np.polyfit(np.log(X), y, 1)\n",
    "#print(fit)"
   ]
  },
  {
   "cell_type": "code",
   "execution_count": 38,
   "metadata": {},
   "outputs": [],
   "source": [
    "#fig,(ax1) = plt.subplots(1, figsize = (12,6))\n",
    "#ax1.scatter (X, y, s = 8)\n",
    "#plt.xlabel(\"Average_Total_Payments\")\n",
    "#plt.ylabel(\"Total_Discharges\")\n",
    "#y = fit[0] + fit[1] * np.log(X)\n",
    "#plt.plot(X,y)\n",
    "#plt.show()"
   ]
  },
  {
   "cell_type": "code",
   "execution_count": 39,
   "metadata": {},
   "outputs": [
    {
     "data": {
      "text/plain": [
       "<seaborn.axisgrid.FacetGrid at 0x7ff4c8cf1bb0>"
      ]
     },
     "execution_count": 39,
     "metadata": {},
     "output_type": "execute_result"
    },
    {
     "data": {
      "image/png": "[encoded data removed]",
      "text/plain": [
       "<Figure size 360x360 with 1 Axes>"
      ]
     },
     "metadata": {},
     "output_type": "display_data"
    }
   ],
   "source": [
    "sns.set(style=\"white\")\n",
    "# Plot miles per gallon against horsepower with other semantics\n",
    "sns.relplot(x=\"total_payments_by_states\",\n",
    "            y=\"discharge_by_states\",\n",
    "            hue=None,\n",
    "            size=None,\n",
    "            alpha=0.5,\n",
    "            data=data8)"
   ]
  },
  {
   "cell_type": "markdown",
   "metadata": {},
   "source": [
    "This feature is the average of average total payment by state. We would like to see if there is a pattern for the total payment given the geographic information. For the variables, we see that Average_Total_Payments and Total_Discharges shows a log or square kind of distribution. In order to ensure that, I create another graph with this feature vs discharge_by_states and comparing with that graph that is created with the average number of both variables. We could see that it is not showing any inter correlation."
   ]
  },
  {
   "cell_type": "markdown",
   "metadata": {},
   "source": [
    "# Feature 9: ratio_Average_beneficiary_Payments categories"
   ]
  },
  {
   "cell_type": "code",
   "execution_count": 40,
   "metadata": {},
   "outputs": [],
   "source": [
    "def func(x):\n",
    "    if x <= 0.2:\n",
    "        return 'Less than 0.2'\n",
    "    elif x > 0.2 and x <= 0.4:\n",
    "        return 'Between 0.2 and 0.4'\n",
    "    return 'Greater than 0.4'\n",
    "\n",
    "data9 = data8\n",
    "data9['ratio_Average_beneficiary_Payments_c'] = data9['ratio_Average_beneficiary_Payments'].apply(func)\n",
    "#data9['ratio_Average_beneficiary_Payments_c']"
   ]
  },
  {
   "cell_type": "code",
   "execution_count": 41,
   "metadata": {},
   "outputs": [
    {
     "data": {
      "text/plain": [
       "Less than 0.2          120592\n",
       "Between 0.2 and 0.4     40185\n",
       "Greater than 0.4         2288\n",
       "Name: ratio_Average_beneficiary_Payments_c, dtype: int64"
      ]
     },
     "execution_count": 41,
     "metadata": {},
     "output_type": "execute_result"
    }
   ],
   "source": [
    "data9['ratio_Average_beneficiary_Payments_c'].value_counts()"
   ]
  },
  {
   "cell_type": "code",
   "execution_count": 42,
   "metadata": {},
   "outputs": [
    {
     "data": {
      "text/plain": [
       "<seaborn.axisgrid.FacetGrid at 0x7ff4a2604be0>"
      ]
     },
     "execution_count": 42,
     "metadata": {},
     "output_type": "execute_result"
    },
    {
     "data": {
      "image/png": "[encoded data removed]",
      "text/plain": [
       "<Figure size 580.3x360 with 1 Axes>"
      ]
     },
     "metadata": {},
     "output_type": "display_data"
    }
   ],
   "source": [
    "sns.set(style=\"white\")\n",
    "# Plot miles per gallon against horsepower with other semantics\n",
    "sns.relplot(x=\"Average_Total_Payments\",\n",
    "            y=\"Total_Discharges\",\n",
    "            hue=\"ratio_Average_beneficiary_Payments_c\",\n",
    "            size=None,\n",
    "            alpha=0.5,\n",
    "            data=data9)"
   ]
  },
  {
   "cell_type": "code",
   "execution_count": 43,
   "metadata": {},
   "outputs": [
    {
     "data": {
      "text/plain": [
       "<seaborn.axisgrid.FacetGrid at 0x7ff4ba9f9ac0>"
      ]
     },
     "execution_count": 43,
     "metadata": {},
     "output_type": "execute_result"
    },
    {
     "data": {
      "image/png": "[encoded data removed]",
      "text/plain": [
       "<Figure size 580.3x360 with 1 Axes>"
      ]
     },
     "metadata": {},
     "output_type": "display_data"
    }
   ],
   "source": [
    "sns.set(style=\"white\")\n",
    "# Plot miles per gallon against horsepower with other semantics\n",
    "sns.relplot(x=\"total_payments_by_states\",\n",
    "            y=\"discharge_by_states\",\n",
    "            hue=\"ratio_Average_beneficiary_Payments_c\",\n",
    "            size=None,\n",
    "            alpha=0.5,\n",
    "            data=data9)"
   ]
  },
  {
   "cell_type": "markdown",
   "metadata": {},
   "source": [
    "I used feature 6, ratio of average payments that pay by beneficiary or payments by third parties for coordination of benefits, to create this categorical variable. Since most data are below 40%, I set \"Greater than 0.4\" to be the first category. The middle of the slope is at 0.2, so I had the other two categories as \"Between 0.2 and 0.4\" and \"Less than 0.2\". The above 2 plots are using this variable to interact with 2 different groups of scatter plot variables."
   ]
  },
  {
   "cell_type": "markdown",
   "metadata": {},
   "source": [
    "# Feature 10: Max of average total payment by state"
   ]
  },
  {
   "cell_type": "code",
   "execution_count": 44,
   "metadata": {},
   "outputs": [],
   "source": [
    "max_payments_by_states = data.groupby(['Provider_State'])['Average_Total_Payments'].max()\n",
    "max_payments_by_states = pd.DataFrame(max_payments_by_states)\n",
    "max_payments_by_states.columns = ['max_payments_by_states']\n",
    "max_payments_by_states = max_payments_by_states.reset_index()"
   ]
  },
  {
   "cell_type": "code",
   "execution_count": 45,
   "metadata": {},
   "outputs": [
    {
     "data": {
      "image/png": "[encoded data removed]",
      "text/plain": [
       "<Figure size 864x396 with 1 Axes>"
      ]
     },
     "metadata": {},
     "output_type": "display_data"
    }
   ],
   "source": [
    "fig = plt.figure()\n",
    "ax = fig.add_axes([0,0,1,1])\n",
    "ax.bar(max_payments_by_states['Provider_State'],max_payments_by_states['max_payments_by_states'], color = 'b',  width = 0.25)\n",
    "ax.bar(total_payments_by_states['Provider_State'],total_payments_by_states['total_payments_by_states'], color = 'r',  width = 0.25)\n",
    "plt.show()"
   ]
  },
  {
   "cell_type": "code",
   "execution_count": 46,
   "metadata": {},
   "outputs": [
    {
     "data": {
      "text/plain": [
       "count    163065.000000\n",
       "mean      85168.378484\n",
       "std       30586.213435\n",
       "min       39845.680000\n",
       "25%       64668.660000\n",
       "50%       73887.440000\n",
       "75%       95868.640000\n",
       "max      156158.180000\n",
       "Name: max_payments_by_states, dtype: float64"
      ]
     },
     "execution_count": 46,
     "metadata": {},
     "output_type": "execute_result"
    }
   ],
   "source": [
    "# add the new feature average of the average total payments by each provider\n",
    "data10 = pd.merge(data9, max_payments_by_states, how='left', on=['Provider_State'])\n",
    "# Feature 10: Max of average total payment by state\n",
    "data10['max_payments_by_states'] = np.where(data10['max_payments_by_states']==0,0, data10['max_payments_by_states'])\n",
    "data10['max_payments_by_states'].describe()"
   ]
  },
  {
   "cell_type": "markdown",
   "metadata": {},
   "source": [
    "This feature shows the max number of Average_Total_Payments for each state. Using this feature, I graphed the max_payments_by_states vs total_payments_by_states (shows the mean). The result shows that for some states, such as California Illinois and New York, the max number of payment is more than 10 times greater than the average. This shows that it is possible that large cities might have a larger possibility to get an outlier in Average_Total_Payments."
   ]
  },
  {
   "cell_type": "code",
   "execution_count": 47,
   "metadata": {},
   "outputs": [
    {
     "data": {
      "text/plain": [
       "<AxesSubplot:xlabel='Total_Discharges'>"
      ]
     },
     "execution_count": 47,
     "metadata": {},
     "output_type": "execute_result"
    },
    {
     "data": {
      "image/png": "[encoded data removed]",
      "text/plain": [
       "<Figure size 864x396 with 1 Axes>"
      ]
     },
     "metadata": {},
     "output_type": "display_data"
    }
   ],
   "source": [
    "sns.boxplot(x=data9[\"Total_Discharges\"])"
   ]
  },
  {
   "cell_type": "markdown",
   "metadata": {},
   "source": []
  },
  {
   "cell_type": "code",
   "execution_count": 48,
   "metadata": {},
   "outputs": [],
   "source": [
    "#!pip install pyod"
   ]
  },
  {
   "cell_type": "markdown",
   "metadata": {},
   "source": [
    "# Week 5 Assignment"
   ]
  },
  {
   "cell_type": "markdown",
   "metadata": {},
   "source": [
    "Add on to week 4 assignment, here is the week 5 modeling"
   ]
  },
  {
   "cell_type": "code",
   "execution_count": 49,
   "metadata": {},
   "outputs": [
    {
     "data": {
      "text/html": [
       "<div>\n",
       "<style scoped>\n",
       "    .dataframe tbody tr th:only-of-type {\n",
       "        vertical-align: middle;\n",
       "    }\n",
       "\n",
       "    .dataframe tbody tr th {\n",
       "        vertical-align: top;\n",
       "    }\n",
       "\n",
       "    .dataframe thead th {\n",
       "        text-align: right;\n",
       "    }\n",
       "</style>\n",
       "<table border=\"1\" class=\"dataframe\">\n",
       "  <thead>\n",
       "    <tr style=\"text-align: right;\">\n",
       "      <th></th>\n",
       "      <th>DRG_Definition</th>\n",
       "      <th>Provider_Id</th>\n",
       "      <th>Provider_Name</th>\n",
       "      <th>Provider_Street_Address</th>\n",
       "      <th>Provider_City</th>\n",
       "      <th>Provider_State</th>\n",
       "      <th>Provider_Zip_Code</th>\n",
       "      <th>Hospital_Referral_Region_Description</th>\n",
       "      <th>Total_Discharges</th>\n",
       "      <th>Average_Covered_Charges</th>\n",
       "      <th>...</th>\n",
       "      <th>mean_by_provider</th>\n",
       "      <th>ratio_mean_by_provider</th>\n",
       "      <th>median_by_provider</th>\n",
       "      <th>ratio_median_by_provider</th>\n",
       "      <th>Average_beneficiary_Payments</th>\n",
       "      <th>ratio_Average_beneficiary_Payments</th>\n",
       "      <th>discharge_by_states</th>\n",
       "      <th>total_payments_by_states</th>\n",
       "      <th>ratio_Average_beneficiary_Payments_c</th>\n",
       "      <th>max_payments_by_states</th>\n",
       "    </tr>\n",
       "  </thead>\n",
       "  <tbody>\n",
       "    <tr>\n",
       "      <th>0</th>\n",
       "      <td>039 - EXTRACRANIAL PROCEDURES W/O CC/MCC</td>\n",
       "      <td>10001</td>\n",
       "      <td>SOUTHEAST ALABAMA MEDICAL CENTER</td>\n",
       "      <td>1108 ROSS CLARK CIRCLE</td>\n",
       "      <td>DOTHAN</td>\n",
       "      <td>AL</td>\n",
       "      <td>36301</td>\n",
       "      <td>AL - Dothan</td>\n",
       "      <td>91</td>\n",
       "      <td>$32963.07</td>\n",
       "      <td>...</td>\n",
       "      <td>8749.025109</td>\n",
       "      <td>1.514395</td>\n",
       "      <td>8749.025109</td>\n",
       "      <td>1.514395</td>\n",
       "      <td>1013.51</td>\n",
       "      <td>0.175432</td>\n",
       "      <td>39.258322</td>\n",
       "      <td>5876.37</td>\n",
       "      <td>Less than 0.2</td>\n",
       "      <td>48198.38</td>\n",
       "    </tr>\n",
       "    <tr>\n",
       "      <th>1</th>\n",
       "      <td>039 - EXTRACRANIAL PROCEDURES W/O CC/MCC</td>\n",
       "      <td>10005</td>\n",
       "      <td>MARSHALL MEDICAL CENTER SOUTH</td>\n",
       "      <td>2505 U S HIGHWAY 431 NORTH</td>\n",
       "      <td>BOAZ</td>\n",
       "      <td>AL</td>\n",
       "      <td>35957</td>\n",
       "      <td>AL - Birmingham</td>\n",
       "      <td>14</td>\n",
       "      <td>$15131.85</td>\n",
       "      <td>...</td>\n",
       "      <td>6812.131224</td>\n",
       "      <td>1.177028</td>\n",
       "      <td>6812.131224</td>\n",
       "      <td>1.177028</td>\n",
       "      <td>810.86</td>\n",
       "      <td>0.140104</td>\n",
       "      <td>39.258322</td>\n",
       "      <td>5876.37</td>\n",
       "      <td>Less than 0.2</td>\n",
       "      <td>48198.38</td>\n",
       "    </tr>\n",
       "    <tr>\n",
       "      <th>2</th>\n",
       "      <td>039 - EXTRACRANIAL PROCEDURES W/O CC/MCC</td>\n",
       "      <td>10006</td>\n",
       "      <td>ELIZA COFFEE MEMORIAL HOSPITAL</td>\n",
       "      <td>205 MARENGO STREET</td>\n",
       "      <td>FLORENCE</td>\n",
       "      <td>AL</td>\n",
       "      <td>35631</td>\n",
       "      <td>AL - Birmingham</td>\n",
       "      <td>24</td>\n",
       "      <td>$37560.37</td>\n",
       "      <td>...</td>\n",
       "      <td>8197.237907</td>\n",
       "      <td>1.508245</td>\n",
       "      <td>8197.237907</td>\n",
       "      <td>1.508245</td>\n",
       "      <td>981.16</td>\n",
       "      <td>0.180528</td>\n",
       "      <td>39.258322</td>\n",
       "      <td>5876.37</td>\n",
       "      <td>Less than 0.2</td>\n",
       "      <td>48198.38</td>\n",
       "    </tr>\n",
       "    <tr>\n",
       "      <th>3</th>\n",
       "      <td>039 - EXTRACRANIAL PROCEDURES W/O CC/MCC</td>\n",
       "      <td>10011</td>\n",
       "      <td>ST VINCENT'S EAST</td>\n",
       "      <td>50 MEDICAL PARK EAST DRIVE</td>\n",
       "      <td>BIRMINGHAM</td>\n",
       "      <td>AL</td>\n",
       "      <td>35235</td>\n",
       "      <td>AL - Birmingham</td>\n",
       "      <td>25</td>\n",
       "      <td>$13998.28</td>\n",
       "      <td>...</td>\n",
       "      <td>8181.648391</td>\n",
       "      <td>1.510209</td>\n",
       "      <td>8181.648391</td>\n",
       "      <td>1.510209</td>\n",
       "      <td>1288.40</td>\n",
       "      <td>0.237819</td>\n",
       "      <td>39.258322</td>\n",
       "      <td>5876.37</td>\n",
       "      <td>Between 0.2 and 0.4</td>\n",
       "      <td>48198.38</td>\n",
       "    </tr>\n",
       "    <tr>\n",
       "      <th>4</th>\n",
       "      <td>039 - EXTRACRANIAL PROCEDURES W/O CC/MCC</td>\n",
       "      <td>10016</td>\n",
       "      <td>SHELBY BAPTIST MEDICAL CENTER</td>\n",
       "      <td>1000 FIRST STREET NORTH</td>\n",
       "      <td>ALABASTER</td>\n",
       "      <td>AL</td>\n",
       "      <td>35007</td>\n",
       "      <td>AL - Birmingham</td>\n",
       "      <td>18</td>\n",
       "      <td>$31633.27</td>\n",
       "      <td>...</td>\n",
       "      <td>7789.416250</td>\n",
       "      <td>1.376628</td>\n",
       "      <td>7789.416250</td>\n",
       "      <td>1.376628</td>\n",
       "      <td>806.89</td>\n",
       "      <td>0.142602</td>\n",
       "      <td>39.258322</td>\n",
       "      <td>5876.37</td>\n",
       "      <td>Less than 0.2</td>\n",
       "      <td>48198.38</td>\n",
       "    </tr>\n",
       "  </tbody>\n",
       "</table>\n",
       "<p>5 rows × 22 columns</p>\n",
       "</div>"
      ],
      "text/plain": [
       "                             DRG_Definition Provider_Id  \\\n",
       "0  039 - EXTRACRANIAL PROCEDURES W/O CC/MCC       10001   \n",
       "1  039 - EXTRACRANIAL PROCEDURES W/O CC/MCC       10005   \n",
       "2  039 - EXTRACRANIAL PROCEDURES W/O CC/MCC       10006   \n",
       "3  039 - EXTRACRANIAL PROCEDURES W/O CC/MCC       10011   \n",
       "4  039 - EXTRACRANIAL PROCEDURES W/O CC/MCC       10016   \n",
       "\n",
       "                      Provider_Name     Provider_Street_Address Provider_City  \\\n",
       "0  SOUTHEAST ALABAMA MEDICAL CENTER      1108 ROSS CLARK CIRCLE        DOTHAN   \n",
       "1     MARSHALL MEDICAL CENTER SOUTH  2505 U S HIGHWAY 431 NORTH          BOAZ   \n",
       "2    ELIZA COFFEE MEMORIAL HOSPITAL          205 MARENGO STREET      FLORENCE   \n",
       "3                 ST VINCENT'S EAST  50 MEDICAL PARK EAST DRIVE    BIRMINGHAM   \n",
       "4     SHELBY BAPTIST MEDICAL CENTER     1000 FIRST STREET NORTH     ALABASTER   \n",
       "\n",
       "  Provider_State  Provider_Zip_Code Hospital_Referral_Region_Description  \\\n",
       "0             AL              36301                          AL - Dothan   \n",
       "1             AL              35957                      AL - Birmingham   \n",
       "2             AL              35631                      AL - Birmingham   \n",
       "3             AL              35235                      AL - Birmingham   \n",
       "4             AL              35007                      AL - Birmingham   \n",
       "\n",
       "   Total_Discharges Average_Covered_Charges  ...  mean_by_provider  \\\n",
       "0                91               $32963.07  ...       8749.025109   \n",
       "1                14               $15131.85  ...       6812.131224   \n",
       "2                24               $37560.37  ...       8197.237907   \n",
       "3                25               $13998.28  ...       8181.648391   \n",
       "4                18               $31633.27  ...       7789.416250   \n",
       "\n",
       "   ratio_mean_by_provider  median_by_provider  ratio_median_by_provider  \\\n",
       "0                1.514395         8749.025109                  1.514395   \n",
       "1                1.177028         6812.131224                  1.177028   \n",
       "2                1.508245         8197.237907                  1.508245   \n",
       "3                1.510209         8181.648391                  1.510209   \n",
       "4                1.376628         7789.416250                  1.376628   \n",
       "\n",
       "   Average_beneficiary_Payments  ratio_Average_beneficiary_Payments  \\\n",
       "0                       1013.51                            0.175432   \n",
       "1                        810.86                            0.140104   \n",
       "2                        981.16                            0.180528   \n",
       "3                       1288.40                            0.237819   \n",
       "4                        806.89                            0.142602   \n",
       "\n",
       "   discharge_by_states  total_payments_by_states  \\\n",
       "0            39.258322                   5876.37   \n",
       "1            39.258322                   5876.37   \n",
       "2            39.258322                   5876.37   \n",
       "3            39.258322                   5876.37   \n",
       "4            39.258322                   5876.37   \n",
       "\n",
       "   ratio_Average_beneficiary_Payments_c  max_payments_by_states  \n",
       "0                         Less than 0.2                48198.38  \n",
       "1                         Less than 0.2                48198.38  \n",
       "2                         Less than 0.2                48198.38  \n",
       "3                   Between 0.2 and 0.4                48198.38  \n",
       "4                         Less than 0.2                48198.38  \n",
       "\n",
       "[5 rows x 22 columns]"
      ]
     },
     "execution_count": 49,
     "metadata": {},
     "output_type": "execute_result"
    }
   ],
   "source": [
    "data10.head()"
   ]
  },
  {
   "cell_type": "markdown",
   "metadata": {},
   "source": [
    "I am going to use most of the features that I made in week 4 to create the model. data10 is the dataframe that stores all variables from the file and all the new variables as well."
   ]
  },
  {
   "cell_type": "markdown",
   "metadata": {},
   "source": [
    "# HBOS"
   ]
  },
  {
   "cell_type": "code",
   "execution_count": 50,
   "metadata": {},
   "outputs": [
    {
     "data": {
      "text/html": [
       "<div>\n",
       "<style scoped>\n",
       "    .dataframe tbody tr th:only-of-type {\n",
       "        vertical-align: middle;\n",
       "    }\n",
       "\n",
       "    .dataframe tbody tr th {\n",
       "        vertical-align: top;\n",
       "    }\n",
       "\n",
       "    .dataframe thead th {\n",
       "        text-align: right;\n",
       "    }\n",
       "</style>\n",
       "<table border=\"1\" class=\"dataframe\">\n",
       "  <thead>\n",
       "    <tr style=\"text-align: right;\">\n",
       "      <th></th>\n",
       "      <th>Average_Total_Payments</th>\n",
       "      <th>Average_Medicare_Payments</th>\n",
       "      <th>ratio_mean_by_provider</th>\n",
       "      <th>ratio_Average_beneficiary_Payments</th>\n",
       "      <th>total_payments_by_states</th>\n",
       "      <th>discharge_by_states</th>\n",
       "    </tr>\n",
       "  </thead>\n",
       "  <tbody>\n",
       "    <tr>\n",
       "      <th>0</th>\n",
       "      <td>5777.24</td>\n",
       "      <td>4763.73</td>\n",
       "      <td>1.514395</td>\n",
       "      <td>0.175432</td>\n",
       "      <td>5876.37</td>\n",
       "      <td>39.258322</td>\n",
       "    </tr>\n",
       "    <tr>\n",
       "      <th>1</th>\n",
       "      <td>5787.57</td>\n",
       "      <td>4976.71</td>\n",
       "      <td>1.177028</td>\n",
       "      <td>0.140104</td>\n",
       "      <td>5876.37</td>\n",
       "      <td>39.258322</td>\n",
       "    </tr>\n",
       "    <tr>\n",
       "      <th>2</th>\n",
       "      <td>5434.95</td>\n",
       "      <td>4453.79</td>\n",
       "      <td>1.508245</td>\n",
       "      <td>0.180528</td>\n",
       "      <td>5876.37</td>\n",
       "      <td>39.258322</td>\n",
       "    </tr>\n",
       "    <tr>\n",
       "      <th>3</th>\n",
       "      <td>5417.56</td>\n",
       "      <td>4129.16</td>\n",
       "      <td>1.510209</td>\n",
       "      <td>0.237819</td>\n",
       "      <td>5876.37</td>\n",
       "      <td>39.258322</td>\n",
       "    </tr>\n",
       "    <tr>\n",
       "      <th>4</th>\n",
       "      <td>5658.33</td>\n",
       "      <td>4851.44</td>\n",
       "      <td>1.376628</td>\n",
       "      <td>0.142602</td>\n",
       "      <td>5876.37</td>\n",
       "      <td>39.258322</td>\n",
       "    </tr>\n",
       "  </tbody>\n",
       "</table>\n",
       "</div>"
      ],
      "text/plain": [
       "   Average_Total_Payments  Average_Medicare_Payments  ratio_mean_by_provider  \\\n",
       "0                 5777.24                    4763.73                1.514395   \n",
       "1                 5787.57                    4976.71                1.177028   \n",
       "2                 5434.95                    4453.79                1.508245   \n",
       "3                 5417.56                    4129.16                1.510209   \n",
       "4                 5658.33                    4851.44                1.376628   \n",
       "\n",
       "   ratio_Average_beneficiary_Payments  total_payments_by_states  \\\n",
       "0                            0.175432                   5876.37   \n",
       "1                            0.140104                   5876.37   \n",
       "2                            0.180528                   5876.37   \n",
       "3                            0.237819                   5876.37   \n",
       "4                            0.142602                   5876.37   \n",
       "\n",
       "   discharge_by_states  \n",
       "0            39.258322  \n",
       "1            39.258322  \n",
       "2            39.258322  \n",
       "3            39.258322  \n",
       "4            39.258322  "
      ]
     },
     "execution_count": 50,
     "metadata": {},
     "output_type": "execute_result"
    }
   ],
   "source": [
    "X = data10[['Average_Total_Payments','Average_Medicare_Payments','ratio_mean_by_provider','ratio_Average_beneficiary_Payments','total_payments_by_states','discharge_by_states']]\n",
    "X.head()"
   ]
  },
  {
   "cell_type": "code",
   "execution_count": 51,
   "metadata": {},
   "outputs": [
    {
     "name": "stdout",
     "output_type": "stream",
     "text": [
      "The threshold for the defined contamination rate: 14.30712839623882\n",
      "The data: {0: 154915, 1: 8150}\n"
     ]
    }
   ],
   "source": [
    "from pyod.models.hbos import HBOS\n",
    "n_bins = 50\n",
    "hbos = HBOS(n_bins=n_bins,contamination=0.05)\n",
    "hbos.fit(X)\n",
    "\n",
    "y_scores_hbos = hbos.decision_function(X)\n",
    "y_pred_hbos = hbos.predict(X)\n",
    "\n",
    "# Threshold for the defined contamination rate\n",
    "print(\"The threshold for the defined contamination rate:\" , hbos.threshold_)\n",
    "\n",
    "def count_stat(vector):\n",
    "    # Because it is '0' and '1', we can run a count statistic.\n",
    "    unique, counts = np.unique(vector, return_counts=True)\n",
    "    return dict(zip(unique, counts))\n",
    "\n",
    "print(\"The data:\", count_stat(y_pred_hbos))"
   ]
  },
  {
   "cell_type": "markdown",
   "metadata": {},
   "source": [
    "The model shows that we have a contamination rate of 14.307. Based on the model, any observation that has an anomaly score value that is greater than 14.307 is considered as an outlier. Also, within the 163065 of observations, 8150 are outliers and 154915 are not."
   ]
  },
  {
   "cell_type": "code",
   "execution_count": 52,
   "metadata": {},
   "outputs": [
    {
     "data": {
      "image/png": "[encoded data removed]",
      "text/plain": [
       "<Figure size 864x396 with 1 Axes>"
      ]
     },
     "metadata": {},
     "output_type": "display_data"
    }
   ],
   "source": [
    "import matplotlib.pyplot as plt\n",
    "plt.hist(y_scores_hbos, bins='auto')  # arguments are passed to np.histogram\n",
    "plt.title(\"Histogram with 'auto' bins\")\n",
    "plt.xlabel('HBOS')\n",
    "plt.show()"
   ]
  },
  {
   "cell_type": "markdown",
   "metadata": {},
   "source": [
    "Another way to determine the threshold is to use the histogram of the outlier score, which allows us to select a threshold value by the graph. We can see that the histogram suggest that the threshold value is 14, which is slightly lower than the previous method."
   ]
  },
  {
   "cell_type": "code",
   "execution_count": 53,
   "metadata": {},
   "outputs": [
    {
     "data": {
      "text/html": [
       "<div>\n",
       "<style scoped>\n",
       "    .dataframe tbody tr th:only-of-type {\n",
       "        vertical-align: middle;\n",
       "    }\n",
       "\n",
       "    .dataframe tbody tr th {\n",
       "        vertical-align: top;\n",
       "    }\n",
       "\n",
       "    .dataframe thead th {\n",
       "        text-align: right;\n",
       "    }\n",
       "</style>\n",
       "<table border=\"1\" class=\"dataframe\">\n",
       "  <thead>\n",
       "    <tr style=\"text-align: right;\">\n",
       "      <th></th>\n",
       "      <th>Group</th>\n",
       "      <th>Count</th>\n",
       "      <th>Count %</th>\n",
       "      <th>Average_Total_Payments</th>\n",
       "      <th>Average_Medicare_Payments</th>\n",
       "      <th>ratio_mean_by_provider</th>\n",
       "      <th>ratio_Average_beneficiary_Payments</th>\n",
       "      <th>total_payments_by_states</th>\n",
       "      <th>discharge_by_states</th>\n",
       "      <th>Anomaly_Score</th>\n",
       "    </tr>\n",
       "  </thead>\n",
       "  <tbody>\n",
       "    <tr>\n",
       "      <th>0</th>\n",
       "      <td>Normal</td>\n",
       "      <td>154910</td>\n",
       "      <td>94.998927</td>\n",
       "      <td>9599.36</td>\n",
       "      <td>8458.14</td>\n",
       "      <td>1.29</td>\n",
       "      <td>0.14</td>\n",
       "      <td>7279.51</td>\n",
       "      <td>42.83</td>\n",
       "      <td>11.47</td>\n",
       "    </tr>\n",
       "    <tr>\n",
       "      <th>1</th>\n",
       "      <td>Outlier</td>\n",
       "      <td>8155</td>\n",
       "      <td>5.001073</td>\n",
       "      <td>11761.16</td>\n",
       "      <td>9184.91</td>\n",
       "      <td>1.67</td>\n",
       "      <td>0.33</td>\n",
       "      <td>7107.14</td>\n",
       "      <td>41.79</td>\n",
       "      <td>15.31</td>\n",
       "    </tr>\n",
       "  </tbody>\n",
       "</table>\n",
       "</div>"
      ],
      "text/plain": [
       "     Group   Count    Count %  Average_Total_Payments  \\\n",
       "0   Normal  154910  94.998927                 9599.36   \n",
       "1  Outlier    8155   5.001073                11761.16   \n",
       "\n",
       "   Average_Medicare_Payments  ratio_mean_by_provider  \\\n",
       "0                    8458.14                    1.29   \n",
       "1                    9184.91                    1.67   \n",
       "\n",
       "   ratio_Average_beneficiary_Payments  total_payments_by_states  \\\n",
       "0                                0.14                   7279.51   \n",
       "1                                0.33                   7107.14   \n",
       "\n",
       "   discharge_by_states  Anomaly_Score  \n",
       "0                42.83          11.47  \n",
       "1                41.79          15.31  "
      ]
     },
     "execution_count": 53,
     "metadata": {},
     "output_type": "execute_result"
    }
   ],
   "source": [
    "threshold = hbos.threshold_ # Or other value from the above histogram\n",
    "\n",
    "def descriptive_stat_threshold(df,pred_score, threshold):\n",
    "    # Let's see how many '0's and '1's.\n",
    "    df = pd.DataFrame(df)\n",
    "    df['Anomaly_Score'] = pred_score\n",
    "    df['Group'] = np.where(df['Anomaly_Score']< threshold, 'Normal', 'Outlier')\n",
    "\n",
    "    # Now let's show the summary statistics:\n",
    "    cnt = df.groupby('Group')['Anomaly_Score'].count().reset_index().rename(columns={'Anomaly_Score':'Count'})\n",
    "    cnt['Count %'] = (cnt['Count'] / cnt['Count'].sum()) * 100 # The count and count %\n",
    "    stat = df.groupby('Group').mean().round(2).reset_index() # The avg.\n",
    "    stat = cnt.merge(stat, left_on='Group',right_on='Group') # Put the count and the avg. together\n",
    "    return (stat)\n",
    "\n",
    "descriptive_stat_threshold(X,y_scores_hbos, threshold)"
   ]
  },
  {
   "cell_type": "markdown",
   "metadata": {},
   "source": [
    "The table shows the size of the outlier group, which is about 5.001 percent. It also shows the average anomaly score, which verifies the data in the outlier group are outliers by having the outlier much higher than normal average anomaly score. Also, we can see the feature statistics in each group. We supposed to see the feature values in the outlier group either higher or lower than those of the normal group, which we did."
   ]
  },
  {
   "cell_type": "code",
   "execution_count": 54,
   "metadata": {},
   "outputs": [
    {
     "data": {
      "text/html": [
       "<div>\n",
       "<style scoped>\n",
       "    .dataframe tbody tr th:only-of-type {\n",
       "        vertical-align: middle;\n",
       "    }\n",
       "\n",
       "    .dataframe tbody tr th {\n",
       "        vertical-align: top;\n",
       "    }\n",
       "\n",
       "    .dataframe thead th {\n",
       "        text-align: right;\n",
       "    }\n",
       "</style>\n",
       "<table border=\"1\" class=\"dataframe\">\n",
       "  <thead>\n",
       "    <tr style=\"text-align: right;\">\n",
       "      <th>Pred</th>\n",
       "      <th>0</th>\n",
       "      <th>1</th>\n",
       "    </tr>\n",
       "    <tr>\n",
       "      <th>Actual</th>\n",
       "      <th></th>\n",
       "      <th></th>\n",
       "    </tr>\n",
       "  </thead>\n",
       "  <tbody>\n",
       "    <tr>\n",
       "      <th>0</th>\n",
       "      <td>154910</td>\n",
       "      <td>5</td>\n",
       "    </tr>\n",
       "    <tr>\n",
       "      <th>1</th>\n",
       "      <td>0</td>\n",
       "      <td>8150</td>\n",
       "    </tr>\n",
       "  </tbody>\n",
       "</table>\n",
       "</div>"
      ],
      "text/plain": [
       "Pred         0     1\n",
       "Actual              \n",
       "0       154910     5\n",
       "1            0  8150"
      ]
     },
     "execution_count": 54,
     "metadata": {},
     "output_type": "execute_result"
    }
   ],
   "source": [
    "Actual_pred = pd.DataFrame({'Actual': y_pred_hbos, 'Anomaly_Score': y_scores_hbos})\n",
    "Actual_pred['Pred'] = np.where(Actual_pred['Anomaly_Score']< threshold,0,1)\n",
    "pd.crosstab(Actual_pred['Actual'],Actual_pred['Pred'])"
   ]
  },
  {
   "cell_type": "markdown",
   "metadata": {},
   "source": [
    "There is the confusion matrix that used to understand the model performance. The matrix shows that the  model did a good job since it identifies 8150 out of 8150 of outliers and 154910 out of 154915 normal group, only missed 5."
   ]
  },
  {
   "cell_type": "markdown",
   "metadata": {},
   "source": [
    "# Week 6 Assignment"
   ]
  },
  {
   "cell_type": "code",
   "execution_count": 55,
   "metadata": {},
   "outputs": [
    {
     "data": {
      "text/html": [
       "<div>\n",
       "<style scoped>\n",
       "    .dataframe tbody tr th:only-of-type {\n",
       "        vertical-align: middle;\n",
       "    }\n",
       "\n",
       "    .dataframe tbody tr th {\n",
       "        vertical-align: top;\n",
       "    }\n",
       "\n",
       "    .dataframe thead th {\n",
       "        text-align: right;\n",
       "    }\n",
       "</style>\n",
       "<table border=\"1\" class=\"dataframe\">\n",
       "  <thead>\n",
       "    <tr style=\"text-align: right;\">\n",
       "      <th></th>\n",
       "      <th>Average_Total_Payments</th>\n",
       "      <th>Average_Medicare_Payments</th>\n",
       "      <th>ratio_mean_by_provider</th>\n",
       "      <th>ratio_Average_beneficiary_Payments</th>\n",
       "      <th>total_payments_by_states</th>\n",
       "      <th>discharge_by_states</th>\n",
       "    </tr>\n",
       "  </thead>\n",
       "  <tbody>\n",
       "    <tr>\n",
       "      <th>0</th>\n",
       "      <td>5777.24</td>\n",
       "      <td>4763.73</td>\n",
       "      <td>1.514395</td>\n",
       "      <td>0.175432</td>\n",
       "      <td>5876.37</td>\n",
       "      <td>39.258322</td>\n",
       "    </tr>\n",
       "    <tr>\n",
       "      <th>1</th>\n",
       "      <td>5787.57</td>\n",
       "      <td>4976.71</td>\n",
       "      <td>1.177028</td>\n",
       "      <td>0.140104</td>\n",
       "      <td>5876.37</td>\n",
       "      <td>39.258322</td>\n",
       "    </tr>\n",
       "    <tr>\n",
       "      <th>2</th>\n",
       "      <td>5434.95</td>\n",
       "      <td>4453.79</td>\n",
       "      <td>1.508245</td>\n",
       "      <td>0.180528</td>\n",
       "      <td>5876.37</td>\n",
       "      <td>39.258322</td>\n",
       "    </tr>\n",
       "    <tr>\n",
       "      <th>3</th>\n",
       "      <td>5417.56</td>\n",
       "      <td>4129.16</td>\n",
       "      <td>1.510209</td>\n",
       "      <td>0.237819</td>\n",
       "      <td>5876.37</td>\n",
       "      <td>39.258322</td>\n",
       "    </tr>\n",
       "    <tr>\n",
       "      <th>4</th>\n",
       "      <td>5658.33</td>\n",
       "      <td>4851.44</td>\n",
       "      <td>1.376628</td>\n",
       "      <td>0.142602</td>\n",
       "      <td>5876.37</td>\n",
       "      <td>39.258322</td>\n",
       "    </tr>\n",
       "  </tbody>\n",
       "</table>\n",
       "</div>"
      ],
      "text/plain": [
       "   Average_Total_Payments  Average_Medicare_Payments  ratio_mean_by_provider  \\\n",
       "0                 5777.24                    4763.73                1.514395   \n",
       "1                 5787.57                    4976.71                1.177028   \n",
       "2                 5434.95                    4453.79                1.508245   \n",
       "3                 5417.56                    4129.16                1.510209   \n",
       "4                 5658.33                    4851.44                1.376628   \n",
       "\n",
       "   ratio_Average_beneficiary_Payments  total_payments_by_states  \\\n",
       "0                            0.175432                   5876.37   \n",
       "1                            0.140104                   5876.37   \n",
       "2                            0.180528                   5876.37   \n",
       "3                            0.237819                   5876.37   \n",
       "4                            0.142602                   5876.37   \n",
       "\n",
       "   discharge_by_states  \n",
       "0            39.258322  \n",
       "1            39.258322  \n",
       "2            39.258322  \n",
       "3            39.258322  \n",
       "4            39.258322  "
      ]
     },
     "execution_count": 55,
     "metadata": {},
     "output_type": "execute_result"
    }
   ],
   "source": [
    "X = data10[['Average_Total_Payments','Average_Medicare_Payments','ratio_mean_by_provider','ratio_Average_beneficiary_Payments','total_payments_by_states','discharge_by_states']]\n",
    "X.head()"
   ]
  },
  {
   "cell_type": "markdown",
   "metadata": {},
   "source": [
    "# ECOD"
   ]
  },
  {
   "cell_type": "markdown",
   "metadata": {},
   "source": [
    "ECOD model determine outliers by measuring the location in a distribution. By multiplies the estimated tail probabilities of all dimensions, it could get the anomaly score for an observation. The pro of using ECOD is that it could save time for large dataset since it has no hyper-parameters to turn."
   ]
  },
  {
   "cell_type": "code",
   "execution_count": 56,
   "metadata": {},
   "outputs": [
    {
     "name": "stdout",
     "output_type": "stream",
     "text": [
      "The threshold for the defined contamination rate: 16.9613119824961\n",
      "The data: {0: 154911, 1: 8154}\n"
     ]
    }
   ],
   "source": [
    "from pyod.models.ecod import ECOD\n",
    "ecod = ECOD(contamination=0.05)\n",
    "ecod.fit(X)\n",
    "\n",
    "y_scores_ecod = ecod.decision_function(X)\n",
    "y_pred_ecod = ecod.predict(X)\n",
    "\n",
    "# Threshold for the defined contamination rate\n",
    "print(\"The threshold for the defined contamination rate:\" , ecod.threshold_)\n",
    "\n",
    "def count_stat(vector):\n",
    "    # Because it is '0' and '1', we can run a count statistic.\n",
    "    unique, counts = np.unique(vector, return_counts=True)\n",
    "    return dict(zip(unique, counts))\n",
    "\n",
    "print(\"The data:\", count_stat(y_pred_ecod))"
   ]
  },
  {
   "cell_type": "markdown",
   "metadata": {},
   "source": [
    "The model shows that we have a contamination rate of 16.961. Based on the model, any observation that has an anomaly score value that is greater than 16.961 is considered as an outlier. Also, within the 163065 of observations, 8154 are outliers and 154911 are not."
   ]
  },
  {
   "cell_type": "code",
   "execution_count": 57,
   "metadata": {},
   "outputs": [
    {
     "data": {
      "image/png": "[encoded data removed]",
      "text/plain": [
       "<Figure size 864x396 with 1 Axes>"
      ]
     },
     "metadata": {},
     "output_type": "display_data"
    }
   ],
   "source": [
    "ecod.explain_outlier(154911)"
   ]
  },
  {
   "cell_type": "markdown",
   "metadata": {},
   "source": [
    "Since the univariate outlier scores are all below the 95% cutoff band, we could see that ECOD model does not work for this data as much."
   ]
  },
  {
   "cell_type": "code",
   "execution_count": 58,
   "metadata": {},
   "outputs": [
    {
     "data": {
      "image/png": "[encoded data removed]",
      "text/plain": [
       "<Figure size 864x396 with 1 Axes>"
      ]
     },
     "metadata": {},
     "output_type": "display_data"
    }
   ],
   "source": [
    "plt.hist(y_scores_ecod, bins='auto') # arguments are passed to np.histogram\n",
    "plt.title(\"Outlier score\")\n",
    "plt.show()"
   ]
  },
  {
   "cell_type": "markdown",
   "metadata": {},
   "source": [
    "Another way to determine the threshold is to use the histogram of the outlier score, which allows us to select a threshold value by the graph. We can see that the histogram suggest that the threshold value is 16, which is slightly lower than the previous method."
   ]
  },
  {
   "cell_type": "code",
   "execution_count": 59,
   "metadata": {},
   "outputs": [
    {
     "data": {
      "text/html": [
       "<div>\n",
       "<style scoped>\n",
       "    .dataframe tbody tr th:only-of-type {\n",
       "        vertical-align: middle;\n",
       "    }\n",
       "\n",
       "    .dataframe tbody tr th {\n",
       "        vertical-align: top;\n",
       "    }\n",
       "\n",
       "    .dataframe thead th {\n",
       "        text-align: right;\n",
       "    }\n",
       "</style>\n",
       "<table border=\"1\" class=\"dataframe\">\n",
       "  <thead>\n",
       "    <tr style=\"text-align: right;\">\n",
       "      <th></th>\n",
       "      <th>Group</th>\n",
       "      <th>Count</th>\n",
       "      <th>Count %</th>\n",
       "      <th>Average_Total_Payments</th>\n",
       "      <th>Average_Medicare_Payments</th>\n",
       "      <th>ratio_mean_by_provider</th>\n",
       "      <th>ratio_Average_beneficiary_Payments</th>\n",
       "      <th>total_payments_by_states</th>\n",
       "      <th>discharge_by_states</th>\n",
       "      <th>Anomaly_Score</th>\n",
       "    </tr>\n",
       "  </thead>\n",
       "  <tbody>\n",
       "    <tr>\n",
       "      <th>0</th>\n",
       "      <td>Normal</td>\n",
       "      <td>154911</td>\n",
       "      <td>94.99954</td>\n",
       "      <td>8880.01</td>\n",
       "      <td>7705.85</td>\n",
       "      <td>1.32</td>\n",
       "      <td>0.15</td>\n",
       "      <td>7259.40</td>\n",
       "      <td>42.82</td>\n",
       "      <td>9.33</td>\n",
       "    </tr>\n",
       "    <tr>\n",
       "      <th>1</th>\n",
       "      <td>Outlier</td>\n",
       "      <td>8154</td>\n",
       "      <td>5.00046</td>\n",
       "      <td>25427.72</td>\n",
       "      <td>23477.17</td>\n",
       "      <td>1.13</td>\n",
       "      <td>0.16</td>\n",
       "      <td>7489.26</td>\n",
       "      <td>42.01</td>\n",
       "      <td>20.13</td>\n",
       "    </tr>\n",
       "  </tbody>\n",
       "</table>\n",
       "</div>"
      ],
      "text/plain": [
       "     Group   Count   Count %  Average_Total_Payments  \\\n",
       "0   Normal  154911  94.99954                 8880.01   \n",
       "1  Outlier    8154   5.00046                25427.72   \n",
       "\n",
       "   Average_Medicare_Payments  ratio_mean_by_provider  \\\n",
       "0                    7705.85                    1.32   \n",
       "1                   23477.17                    1.13   \n",
       "\n",
       "   ratio_Average_beneficiary_Payments  total_payments_by_states  \\\n",
       "0                                0.15                   7259.40   \n",
       "1                                0.16                   7489.26   \n",
       "\n",
       "   discharge_by_states  Anomaly_Score  \n",
       "0                42.82           9.33  \n",
       "1                42.01          20.13  "
      ]
     },
     "execution_count": 59,
     "metadata": {},
     "output_type": "execute_result"
    }
   ],
   "source": [
    "threshold = ecod.threshold_ # Or other value from the above histogram\n",
    "\n",
    "def descriptive_stat_threshold(df,pred_score, threshold):\n",
    "    # Let's see how many '0's and '1's.\n",
    "    df = pd.DataFrame(df)\n",
    "    df['Anomaly_Score'] = pred_score\n",
    "    df['Group'] = np.where(df['Anomaly_Score']< threshold, 'Normal', 'Outlier')\n",
    "\n",
    "    # Now let's show the summary statistics:\n",
    "    cnt = df.groupby('Group')['Anomaly_Score'].count().reset_index().rename(columns={'Anomaly_Score':'Count'})\n",
    "    cnt['Count %'] = (cnt['Count'] / cnt['Count'].sum()) * 100 # The count and count %\n",
    "    stat = df.groupby('Group').mean().round(2).reset_index() # The avg.\n",
    "    stat = cnt.merge(stat, left_on='Group',right_on='Group') # Put the count and the avg. together\n",
    "    return (stat)\n",
    "\n",
    "descriptive_stat_threshold(X,y_scores_ecod, threshold)"
   ]
  },
  {
   "cell_type": "markdown",
   "metadata": {},
   "source": [
    "The table shows the size of the outlier group, which is about 5.0005 percent. It also shows the average anomaly score, which verifies the data in the outlier group are outliers by having the outlier much higher than normal average anomaly score. Also, we can see the feature statistics in each group. We supposed to see the feature values in the outlier group either higher or lower than those of the normal group, which we did."
   ]
  },
  {
   "cell_type": "code",
   "execution_count": 60,
   "metadata": {},
   "outputs": [
    {
     "data": {
      "text/html": [
       "<div>\n",
       "<style scoped>\n",
       "    .dataframe tbody tr th:only-of-type {\n",
       "        vertical-align: middle;\n",
       "    }\n",
       "\n",
       "    .dataframe tbody tr th {\n",
       "        vertical-align: top;\n",
       "    }\n",
       "\n",
       "    .dataframe thead th {\n",
       "        text-align: right;\n",
       "    }\n",
       "</style>\n",
       "<table border=\"1\" class=\"dataframe\">\n",
       "  <thead>\n",
       "    <tr style=\"text-align: right;\">\n",
       "      <th>Pred</th>\n",
       "      <th>0</th>\n",
       "      <th>1</th>\n",
       "    </tr>\n",
       "    <tr>\n",
       "      <th>Actual</th>\n",
       "      <th></th>\n",
       "      <th></th>\n",
       "    </tr>\n",
       "  </thead>\n",
       "  <tbody>\n",
       "    <tr>\n",
       "      <th>0</th>\n",
       "      <td>154911</td>\n",
       "      <td>0</td>\n",
       "    </tr>\n",
       "    <tr>\n",
       "      <th>1</th>\n",
       "      <td>0</td>\n",
       "      <td>8154</td>\n",
       "    </tr>\n",
       "  </tbody>\n",
       "</table>\n",
       "</div>"
      ],
      "text/plain": [
       "Pred         0     1\n",
       "Actual              \n",
       "0       154911     0\n",
       "1            0  8154"
      ]
     },
     "execution_count": 60,
     "metadata": {},
     "output_type": "execute_result"
    }
   ],
   "source": [
    "Actual_pred = pd.DataFrame({'Actual': y_pred_ecod, 'Anomaly_Score': y_scores_ecod})\n",
    "Actual_pred['Pred'] = np.where(Actual_pred['Anomaly_Score']< threshold,0,1)\n",
    "pd.crosstab(Actual_pred['Actual'],Actual_pred['Pred'])"
   ]
  },
  {
   "cell_type": "markdown",
   "metadata": {},
   "source": [
    "There is the confusion matrix that used to understand the model performance. The matrix shows that the model did a good job since it identifies 8154 out of 8154 of outliers and identifies 154911 out of 154911 of the normal group."
   ]
  },
  {
   "cell_type": "markdown",
   "metadata": {},
   "source": [
    "# PCA"
   ]
  },
  {
   "cell_type": "markdown",
   "metadata": {},
   "source": [
    "PCA performs a linear transformation to convert a set of data points of possibly correlated variables into a set of data points of linearly uncorrelated variables. Also, PCA finds new variables that the original variables are just their linear combinations."
   ]
  },
  {
   "cell_type": "code",
   "execution_count": 118,
   "metadata": {},
   "outputs": [
    {
     "data": {
      "text/plain": "   Average_Total_Payments  Average_Medicare_Payments  ratio_mean_by_provider  \\\n0                 5777.24                    4763.73                1.514395   \n1                 5787.57                    4976.71                1.177028   \n2                 5434.95                    4453.79                1.508245   \n3                 5417.56                    4129.16                1.510209   \n4                 5658.33                    4851.44                1.376628   \n\n   ratio_Average_beneficiary_Payments  total_payments_by_states  \\\n0                            0.175432                   5876.37   \n1                            0.140104                   5876.37   \n2                            0.180528                   5876.37   \n3                            0.237819                   5876.37   \n4                            0.142602                   5876.37   \n\n   discharge_by_states  \n0            39.258322  \n1            39.258322  \n2            39.258322  \n3            39.258322  \n4            39.258322  ",
      "text/html": "<div>\n<style scoped>\n    .dataframe tbody tr th:only-of-type {\n        vertical-align: middle;\n    }\n\n    .dataframe tbody tr th {\n        vertical-align: top;\n    }\n\n    .dataframe thead th {\n        text-align: right;\n    }\n</style>\n<table border=\"1\" class=\"dataframe\">\n  <thead>\n    <tr style=\"text-align: right;\">\n      <th></th>\n      <th>Average_Total_Payments</th>\n      <th>Average_Medicare_Payments</th>\n      <th>ratio_mean_by_provider</th>\n      <th>ratio_Average_beneficiary_Payments</th>\n      <th>total_payments_by_states</th>\n      <th>discharge_by_states</th>\n    </tr>\n  </thead>\n  <tbody>\n    <tr>\n      <th>0</th>\n      <td>5777.24</td>\n      <td>4763.73</td>\n      <td>1.514395</td>\n      <td>0.175432</td>\n      <td>5876.37</td>\n      <td>39.258322</td>\n    </tr>\n    <tr>\n      <th>1</th>\n      <td>5787.57</td>\n      <td>4976.71</td>\n      <td>1.177028</td>\n      <td>0.140104</td>\n      <td>5876.37</td>\n      <td>39.258322</td>\n    </tr>\n    <tr>\n      <th>2</th>\n      <td>5434.95</td>\n      <td>4453.79</td>\n      <td>1.508245</td>\n      <td>0.180528</td>\n      <td>5876.37</td>\n      <td>39.258322</td>\n    </tr>\n    <tr>\n      <th>3</th>\n      <td>5417.56</td>\n      <td>4129.16</td>\n      <td>1.510209</td>\n      <td>0.237819</td>\n      <td>5876.37</td>\n      <td>39.258322</td>\n    </tr>\n    <tr>\n      <th>4</th>\n      <td>5658.33</td>\n      <td>4851.44</td>\n      <td>1.376628</td>\n      <td>0.142602</td>\n      <td>5876.37</td>\n      <td>39.258322</td>\n    </tr>\n  </tbody>\n</table>\n</div>"
     },
     "execution_count": 118,
     "metadata": {},
     "output_type": "execute_result"
    }
   ],
   "source": [
    "X = data10[['Average_Total_Payments','Average_Medicare_Payments','ratio_mean_by_provider','ratio_Average_beneficiary_Payments','total_payments_by_states','discharge_by_states']]\n",
    "X.head()"
   ]
  },
  {
   "cell_type": "code",
   "execution_count": 119,
   "metadata": {},
   "outputs": [
    {
     "name": "stdout",
     "output_type": "stream",
     "text": [
      "The threshold for the defined contamination rate: 16.9613119824961\n",
      "The data: {0: 154911, 1: 8154}\n"
     ]
    }
   ],
   "source": [
    "from pyod.models.pca import PCA\n",
    "pca = PCA(contamination=0.05)\n",
    "pca.fit(X)\n",
    "\n",
    "# get the prediction labels and outlier scores of the training data\n",
    "y_pred_pca = pca.labels_  # binary labels (0: inliers, 1: outliers)\n",
    "y_scores_pca = pca.decision_scores_  # .decision_scores_ yields the raw outlier scores for the training data\n",
    "\n",
    "# Threshold for the defined contamination rate\n",
    "print(\"The threshold for the defined contamination rate:\" , ecod.threshold_)\n",
    "\n",
    "def count_stat(vector):\n",
    "    # Because it is '0' and '1', we can run a count statistic.\n",
    "    unique, counts = np.unique(vector, return_counts=True)\n",
    "    return dict(zip(unique, counts))\n",
    "\n",
    "print(\"The data:\", count_stat(y_pred_pca))"
   ]
  },
  {
   "cell_type": "markdown",
   "metadata": {},
   "source": [
    "The model shows that we have a contamination rate of 16.961. Based on the model, any observation that has an anomaly score value that is greater than 16.961 is considered as an outlier. Also, within the 163065 of observations, 8154 are outliers and 154911 are not."
   ]
  },
  {
   "cell_type": "code",
   "execution_count": 63,
   "metadata": {},
   "outputs": [
    {
     "data": {
      "text/plain": [
       "{'contamination': 0.05,\n",
       " 'copy': True,\n",
       " 'iterated_power': 'auto',\n",
       " 'n_components': None,\n",
       " 'n_selected_components': None,\n",
       " 'random_state': None,\n",
       " 'standardization': True,\n",
       " 'svd_solver': 'auto',\n",
       " 'tol': 0.0,\n",
       " 'weighted': True,\n",
       " 'whiten': False}"
      ]
     },
     "execution_count": 63,
     "metadata": {},
     "output_type": "execute_result"
    }
   ],
   "source": [
    "pca.get_params()"
   ]
  },
  {
   "cell_type": "markdown",
   "metadata": {},
   "source": [
    "We could see if the default parameter performs normalization before executing PCA. The standardization is true, which means that it performs normalization."
   ]
  },
  {
   "cell_type": "code",
   "execution_count": 64,
   "metadata": {},
   "outputs": [
    {
     "data": {
      "text/plain": [
       "[array([2.96188727, 1.03615862, 0.98233013, 0.68185368, 0.3328462 ,\n",
       "        0.0049609 ]),\n",
       " array([0.49364485, 0.17269204, 0.16372068, 0.11364158, 0.05547403,\n",
       "        0.00082681])]"
      ]
     },
     "execution_count": 64,
     "metadata": {},
     "output_type": "execute_result"
    }
   ],
   "source": [
    "[pca.explained_variance_,\n",
    " pca.explained_variance_ratio_]"
   ]
  },
  {
   "cell_type": "markdown",
   "metadata": {},
   "source": [
    "This output shows the first PC explains 49.4% variance, the second PC explains an additional 17.3%, the third 16.4%, and so on. The sum of the explained variance shall sum up to 100%."
   ]
  },
  {
   "cell_type": "code",
   "execution_count": 65,
   "metadata": {},
   "outputs": [
    {
     "data": {
      "text/html": [
       "<div>\n",
       "<style scoped>\n",
       "    .dataframe tbody tr th:only-of-type {\n",
       "        vertical-align: middle;\n",
       "    }\n",
       "\n",
       "    .dataframe tbody tr th {\n",
       "        vertical-align: top;\n",
       "    }\n",
       "\n",
       "    .dataframe thead th {\n",
       "        text-align: right;\n",
       "    }\n",
       "</style>\n",
       "<table border=\"1\" class=\"dataframe\">\n",
       "  <thead>\n",
       "    <tr style=\"text-align: right;\">\n",
       "      <th></th>\n",
       "      <th>Group</th>\n",
       "      <th>Count</th>\n",
       "      <th>Count %</th>\n",
       "      <th>Average_Total_Payments</th>\n",
       "      <th>Average_Medicare_Payments</th>\n",
       "      <th>ratio_mean_by_provider</th>\n",
       "      <th>ratio_Average_beneficiary_Payments</th>\n",
       "      <th>total_payments_by_states</th>\n",
       "      <th>discharge_by_states</th>\n",
       "      <th>Anomaly_Score</th>\n",
       "    </tr>\n",
       "  </thead>\n",
       "  <tbody>\n",
       "    <tr>\n",
       "      <th>0</th>\n",
       "      <td>Normal</td>\n",
       "      <td>154911</td>\n",
       "      <td>94.99954</td>\n",
       "      <td>8530.14</td>\n",
       "      <td>7395.56</td>\n",
       "      <td>1.35</td>\n",
       "      <td>0.15</td>\n",
       "      <td>7242.10</td>\n",
       "      <td>42.78</td>\n",
       "      <td>2807.95</td>\n",
       "    </tr>\n",
       "    <tr>\n",
       "      <th>1</th>\n",
       "      <td>Outlier</td>\n",
       "      <td>8154</td>\n",
       "      <td>5.00046</td>\n",
       "      <td>32074.67</td>\n",
       "      <td>29372.19</td>\n",
       "      <td>0.57</td>\n",
       "      <td>0.13</td>\n",
       "      <td>7817.85</td>\n",
       "      <td>42.77</td>\n",
       "      <td>7272.34</td>\n",
       "    </tr>\n",
       "  </tbody>\n",
       "</table>\n",
       "</div>"
      ],
      "text/plain": [
       "     Group   Count   Count %  Average_Total_Payments  \\\n",
       "0   Normal  154911  94.99954                 8530.14   \n",
       "1  Outlier    8154   5.00046                32074.67   \n",
       "\n",
       "   Average_Medicare_Payments  ratio_mean_by_provider  \\\n",
       "0                    7395.56                    1.35   \n",
       "1                   29372.19                    0.57   \n",
       "\n",
       "   ratio_Average_beneficiary_Payments  total_payments_by_states  \\\n",
       "0                                0.15                   7242.10   \n",
       "1                                0.13                   7817.85   \n",
       "\n",
       "   discharge_by_states  Anomaly_Score  \n",
       "0                42.78        2807.95  \n",
       "1                42.77        7272.34  "
      ]
     },
     "execution_count": 65,
     "metadata": {},
     "output_type": "execute_result"
    }
   ],
   "source": [
    "threshold = pca.threshold_\n",
    "threshold\n",
    "\n",
    "def descriptive_stat_threshold(df,pred_score, threshold):\n",
    "    # Let's see how many '0's and '1's.\n",
    "    df = pd.DataFrame(df)\n",
    "    df['Anomaly_Score'] = pred_score\n",
    "    df['Group'] = np.where(df['Anomaly_Score']< threshold, 'Normal', 'Outlier')\n",
    "\n",
    "    # Now let's show the summary statistics:\n",
    "    cnt = df.groupby('Group')['Anomaly_Score'].count().reset_index().rename(columns={'Anomaly_Score':'Count'})\n",
    "    cnt['Count %'] = (cnt['Count'] / cnt['Count'].sum()) * 100 # The count and count %\n",
    "    stat = df.groupby('Group').mean().round(2).reset_index() # The avg.\n",
    "    stat = cnt.merge(stat, left_on='Group',right_on='Group') # Put the count and the avg. together\n",
    "    return (stat)\n",
    "\n",
    "descriptive_stat_threshold(X,y_scores_pca, threshold)"
   ]
  },
  {
   "cell_type": "markdown",
   "metadata": {},
   "source": [
    "The table shows the size of the outlier group, which is about 5.0005 percent. It also shows the average anomaly score, which verifies the data in the outlier group are outliers by having the outlier much higher than normal average anomaly score. Also, we can see the feature statistics in each group. We supposed to see the feature values in the outlier group either higher or lower than those of the normal group, which we did."
   ]
  },
  {
   "cell_type": "code",
   "execution_count": 66,
   "metadata": {},
   "outputs": [
    {
     "data": {
      "text/html": [
       "<div>\n",
       "<style scoped>\n",
       "    .dataframe tbody tr th:only-of-type {\n",
       "        vertical-align: middle;\n",
       "    }\n",
       "\n",
       "    .dataframe tbody tr th {\n",
       "        vertical-align: top;\n",
       "    }\n",
       "\n",
       "    .dataframe thead th {\n",
       "        text-align: right;\n",
       "    }\n",
       "</style>\n",
       "<table border=\"1\" class=\"dataframe\">\n",
       "  <thead>\n",
       "    <tr style=\"text-align: right;\">\n",
       "      <th>Pred</th>\n",
       "      <th>0</th>\n",
       "      <th>1</th>\n",
       "    </tr>\n",
       "    <tr>\n",
       "      <th>Actual</th>\n",
       "      <th></th>\n",
       "      <th></th>\n",
       "    </tr>\n",
       "  </thead>\n",
       "  <tbody>\n",
       "    <tr>\n",
       "      <th>0</th>\n",
       "      <td>154911</td>\n",
       "      <td>0</td>\n",
       "    </tr>\n",
       "    <tr>\n",
       "      <th>1</th>\n",
       "      <td>0</td>\n",
       "      <td>8154</td>\n",
       "    </tr>\n",
       "  </tbody>\n",
       "</table>\n",
       "</div>"
      ],
      "text/plain": [
       "Pred         0     1\n",
       "Actual              \n",
       "0       154911     0\n",
       "1            0  8154"
      ]
     },
     "execution_count": 66,
     "metadata": {},
     "output_type": "execute_result"
    }
   ],
   "source": [
    "Actual_pred = pd.DataFrame({'Actual': y_pred_pca, 'Anomaly_Score': y_scores_pca})\n",
    "Actual_pred['Pred'] = np.where(Actual_pred['Anomaly_Score']< threshold,0,1)\n",
    "pd.crosstab(Actual_pred['Actual'],Actual_pred['Pred'])"
   ]
  },
  {
   "cell_type": "markdown",
   "metadata": {},
   "source": [
    "There is the confusion matrix that used to understand the model performance. The matrix shows that the model did a good job since it identifies 8154 out of 8154 of outliers and identifies 154911 out of 154911 of the normal group."
   ]
  },
  {
   "cell_type": "code",
   "execution_count": 67,
   "metadata": {},
   "outputs": [
    {
     "data": {
      "text/html": [
       "<div>\n",
       "<style scoped>\n",
       "    .dataframe tbody tr th:only-of-type {\n",
       "        vertical-align: middle;\n",
       "    }\n",
       "\n",
       "    .dataframe tbody tr th {\n",
       "        vertical-align: top;\n",
       "    }\n",
       "\n",
       "    .dataframe thead th {\n",
       "        text-align: right;\n",
       "    }\n",
       "</style>\n",
       "<table border=\"1\" class=\"dataframe\">\n",
       "  <thead>\n",
       "    <tr style=\"text-align: right;\">\n",
       "      <th></th>\n",
       "      <th>HBO_Score</th>\n",
       "      <th>ECOD_Score</th>\n",
       "      <th>PCA_Score</th>\n",
       "      <th>HBOS_pred</th>\n",
       "      <th>ECOD_pred</th>\n",
       "      <th>PCA_pred</th>\n",
       "    </tr>\n",
       "  </thead>\n",
       "  <tbody>\n",
       "    <tr>\n",
       "      <th>0</th>\n",
       "      <td>11.446965</td>\n",
       "      <td>9.284058</td>\n",
       "      <td>2514.831309</td>\n",
       "      <td>0</td>\n",
       "      <td>0</td>\n",
       "      <td>0</td>\n",
       "    </tr>\n",
       "    <tr>\n",
       "      <th>1</th>\n",
       "      <td>11.196570</td>\n",
       "      <td>8.639228</td>\n",
       "      <td>2482.254070</td>\n",
       "      <td>0</td>\n",
       "      <td>0</td>\n",
       "      <td>0</td>\n",
       "    </tr>\n",
       "    <tr>\n",
       "      <th>2</th>\n",
       "      <td>11.446893</td>\n",
       "      <td>9.622639</td>\n",
       "      <td>2555.777538</td>\n",
       "      <td>0</td>\n",
       "      <td>0</td>\n",
       "      <td>0</td>\n",
       "    </tr>\n",
       "    <tr>\n",
       "      <th>3</th>\n",
       "      <td>12.212569</td>\n",
       "      <td>10.555706</td>\n",
       "      <td>2828.334601</td>\n",
       "      <td>0</td>\n",
       "      <td>0</td>\n",
       "      <td>0</td>\n",
       "    </tr>\n",
       "    <tr>\n",
       "      <th>4</th>\n",
       "      <td>11.056275</td>\n",
       "      <td>8.752504</td>\n",
       "      <td>2466.713570</td>\n",
       "      <td>0</td>\n",
       "      <td>0</td>\n",
       "      <td>0</td>\n",
       "    </tr>\n",
       "  </tbody>\n",
       "</table>\n",
       "</div>"
      ],
      "text/plain": [
       "   HBO_Score  ECOD_Score    PCA_Score  HBOS_pred  ECOD_pred  PCA_pred\n",
       "0  11.446965    9.284058  2514.831309          0          0         0\n",
       "1  11.196570    8.639228  2482.254070          0          0         0\n",
       "2  11.446893    9.622639  2555.777538          0          0         0\n",
       "3  12.212569   10.555706  2828.334601          0          0         0\n",
       "4  11.056275    8.752504  2466.713570          0          0         0"
      ]
     },
     "execution_count": 67,
     "metadata": {},
     "output_type": "execute_result"
    }
   ],
   "source": [
    "# Put the actual, the HBO score and the ECOD score together\n",
    "Actual_preds = pd.DataFrame({'HBO_Score': y_scores_hbos,\n",
    "                             'ECOD_Score': y_scores_ecod,\n",
    "                             'PCA_Score': y_scores_pca})\n",
    "Actual_preds['HBOS_pred'] = np.where(Actual_preds['HBO_Score']>hbos.threshold_,1,0)\n",
    "Actual_preds['ECOD_pred'] = np.where(Actual_preds['ECOD_Score']>ecod.threshold_,1,0)\n",
    "Actual_preds['PCA_pred'] = np.where(Actual_preds['PCA_Score']>pca.threshold_,1,0)\n",
    "Actual_preds.head()"
   ]
  },
  {
   "cell_type": "markdown",
   "metadata": {},
   "source": [
    "This table shows the comparison of three models, HBOS, ECOD, and PCA."
   ]
  },
  {
   "cell_type": "code",
   "execution_count": 68,
   "metadata": {},
   "outputs": [
    {
     "data": {
      "text/html": [
       "<div>\n",
       "<style scoped>\n",
       "    .dataframe tbody tr th:only-of-type {\n",
       "        vertical-align: middle;\n",
       "    }\n",
       "\n",
       "    .dataframe tbody tr th {\n",
       "        vertical-align: top;\n",
       "    }\n",
       "\n",
       "    .dataframe thead th {\n",
       "        text-align: right;\n",
       "    }\n",
       "</style>\n",
       "<table border=\"1\" class=\"dataframe\">\n",
       "  <thead>\n",
       "    <tr style=\"text-align: right;\">\n",
       "      <th>ECOD_pred</th>\n",
       "      <th>0</th>\n",
       "      <th>1</th>\n",
       "    </tr>\n",
       "    <tr>\n",
       "      <th>HBOS_pred</th>\n",
       "      <th></th>\n",
       "      <th></th>\n",
       "    </tr>\n",
       "  </thead>\n",
       "  <tbody>\n",
       "    <tr>\n",
       "      <th>0</th>\n",
       "      <td>150188</td>\n",
       "      <td>4727</td>\n",
       "    </tr>\n",
       "    <tr>\n",
       "      <th>1</th>\n",
       "      <td>4723</td>\n",
       "      <td>3427</td>\n",
       "    </tr>\n",
       "  </tbody>\n",
       "</table>\n",
       "</div>"
      ],
      "text/plain": [
       "ECOD_pred       0     1\n",
       "HBOS_pred              \n",
       "0          150188  4727\n",
       "1            4723  3427"
      ]
     },
     "execution_count": 68,
     "metadata": {},
     "output_type": "execute_result"
    }
   ],
   "source": [
    "pd.crosstab(Actual_preds['HBOS_pred'],Actual_preds['ECOD_pred'])"
   ]
  },
  {
   "cell_type": "markdown",
   "metadata": {},
   "source": [
    "By cross-tabulate the HBOS and the ECOD predictions, 3427 observations are identified by both models to be outliers."
   ]
  },
  {
   "cell_type": "code",
   "execution_count": 69,
   "metadata": {},
   "outputs": [
    {
     "data": {
      "text/html": [
       "<div>\n",
       "<style scoped>\n",
       "    .dataframe tbody tr th:only-of-type {\n",
       "        vertical-align: middle;\n",
       "    }\n",
       "\n",
       "    .dataframe tbody tr th {\n",
       "        vertical-align: top;\n",
       "    }\n",
       "\n",
       "    .dataframe thead th {\n",
       "        text-align: right;\n",
       "    }\n",
       "</style>\n",
       "<table border=\"1\" class=\"dataframe\">\n",
       "  <thead>\n",
       "    <tr style=\"text-align: right;\">\n",
       "      <th>PCA_pred</th>\n",
       "      <th>0</th>\n",
       "      <th>1</th>\n",
       "    </tr>\n",
       "    <tr>\n",
       "      <th>HBOS_pred</th>\n",
       "      <th></th>\n",
       "      <th></th>\n",
       "    </tr>\n",
       "  </thead>\n",
       "  <tbody>\n",
       "    <tr>\n",
       "      <th>0</th>\n",
       "      <td>148908</td>\n",
       "      <td>6007</td>\n",
       "    </tr>\n",
       "    <tr>\n",
       "      <th>1</th>\n",
       "      <td>6003</td>\n",
       "      <td>2147</td>\n",
       "    </tr>\n",
       "  </tbody>\n",
       "</table>\n",
       "</div>"
      ],
      "text/plain": [
       "PCA_pred        0     1\n",
       "HBOS_pred              \n",
       "0          148908  6007\n",
       "1            6003  2147"
      ]
     },
     "execution_count": 69,
     "metadata": {},
     "output_type": "execute_result"
    }
   ],
   "source": [
    "pd.crosstab(Actual_preds['HBOS_pred'],Actual_preds['PCA_pred'])"
   ]
  },
  {
   "cell_type": "markdown",
   "metadata": {},
   "source": [
    "By cross-tabulate the HBOS and the PCA predictions, 2147 observations are identified by both models to be outliers."
   ]
  },
  {
   "cell_type": "code",
   "execution_count": 70,
   "metadata": {},
   "outputs": [
    {
     "data": {
      "text/html": [
       "<div>\n",
       "<style scoped>\n",
       "    .dataframe tbody tr th:only-of-type {\n",
       "        vertical-align: middle;\n",
       "    }\n",
       "\n",
       "    .dataframe tbody tr th {\n",
       "        vertical-align: top;\n",
       "    }\n",
       "\n",
       "    .dataframe thead th {\n",
       "        text-align: right;\n",
       "    }\n",
       "</style>\n",
       "<table border=\"1\" class=\"dataframe\">\n",
       "  <thead>\n",
       "    <tr style=\"text-align: right;\">\n",
       "      <th>PCA_pred</th>\n",
       "      <th>0</th>\n",
       "      <th>1</th>\n",
       "    </tr>\n",
       "    <tr>\n",
       "      <th>ECOD_pred</th>\n",
       "      <th></th>\n",
       "      <th></th>\n",
       "    </tr>\n",
       "  </thead>\n",
       "  <tbody>\n",
       "    <tr>\n",
       "      <th>0</th>\n",
       "      <td>152065</td>\n",
       "      <td>2846</td>\n",
       "    </tr>\n",
       "    <tr>\n",
       "      <th>1</th>\n",
       "      <td>2846</td>\n",
       "      <td>5308</td>\n",
       "    </tr>\n",
       "  </tbody>\n",
       "</table>\n",
       "</div>"
      ],
      "text/plain": [
       "PCA_pred        0     1\n",
       "ECOD_pred              \n",
       "0          152065  2846\n",
       "1            2846  5308"
      ]
     },
     "execution_count": 70,
     "metadata": {},
     "output_type": "execute_result"
    }
   ],
   "source": [
    "pd.crosstab(Actual_preds['ECOD_pred'],Actual_preds['PCA_pred'])"
   ]
  },
  {
   "cell_type": "markdown",
   "metadata": {},
   "source": [
    "By cross-tabulate the ECOD and the PCA predictions, 5308 observations are identified by both models to be outliers."
   ]
  },
  {
   "cell_type": "markdown",
   "metadata": {},
   "source": [
    "# Week 7 Assignment"
   ]
  },
  {
   "cell_type": "code",
   "execution_count": 90,
   "metadata": {},
   "outputs": [
    {
     "data": {
      "text/html": [
       "<div>\n",
       "<style scoped>\n",
       "    .dataframe tbody tr th:only-of-type {\n",
       "        vertical-align: middle;\n",
       "    }\n",
       "\n",
       "    .dataframe tbody tr th {\n",
       "        vertical-align: top;\n",
       "    }\n",
       "\n",
       "    .dataframe thead th {\n",
       "        text-align: right;\n",
       "    }\n",
       "</style>\n",
       "<table border=\"1\" class=\"dataframe\">\n",
       "  <thead>\n",
       "    <tr style=\"text-align: right;\">\n",
       "      <th></th>\n",
       "      <th>Average_Total_Payments</th>\n",
       "      <th>Average_Medicare_Payments</th>\n",
       "      <th>ratio_mean_by_provider</th>\n",
       "      <th>ratio_Average_beneficiary_Payments</th>\n",
       "      <th>total_payments_by_states</th>\n",
       "      <th>discharge_by_states</th>\n",
       "    </tr>\n",
       "  </thead>\n",
       "  <tbody>\n",
       "    <tr>\n",
       "      <th>0</th>\n",
       "      <td>5777.24</td>\n",
       "      <td>4763.73</td>\n",
       "      <td>1.514395</td>\n",
       "      <td>0.175432</td>\n",
       "      <td>5876.37</td>\n",
       "      <td>39.258322</td>\n",
       "    </tr>\n",
       "    <tr>\n",
       "      <th>1</th>\n",
       "      <td>5787.57</td>\n",
       "      <td>4976.71</td>\n",
       "      <td>1.177028</td>\n",
       "      <td>0.140104</td>\n",
       "      <td>5876.37</td>\n",
       "      <td>39.258322</td>\n",
       "    </tr>\n",
       "    <tr>\n",
       "      <th>2</th>\n",
       "      <td>5434.95</td>\n",
       "      <td>4453.79</td>\n",
       "      <td>1.508245</td>\n",
       "      <td>0.180528</td>\n",
       "      <td>5876.37</td>\n",
       "      <td>39.258322</td>\n",
       "    </tr>\n",
       "    <tr>\n",
       "      <th>3</th>\n",
       "      <td>5417.56</td>\n",
       "      <td>4129.16</td>\n",
       "      <td>1.510209</td>\n",
       "      <td>0.237819</td>\n",
       "      <td>5876.37</td>\n",
       "      <td>39.258322</td>\n",
       "    </tr>\n",
       "    <tr>\n",
       "      <th>4</th>\n",
       "      <td>5658.33</td>\n",
       "      <td>4851.44</td>\n",
       "      <td>1.376628</td>\n",
       "      <td>0.142602</td>\n",
       "      <td>5876.37</td>\n",
       "      <td>39.258322</td>\n",
       "    </tr>\n",
       "  </tbody>\n",
       "</table>\n",
       "</div>"
      ],
      "text/plain": [
       "   Average_Total_Payments  Average_Medicare_Payments  ratio_mean_by_provider  \\\n",
       "0                 5777.24                    4763.73                1.514395   \n",
       "1                 5787.57                    4976.71                1.177028   \n",
       "2                 5434.95                    4453.79                1.508245   \n",
       "3                 5417.56                    4129.16                1.510209   \n",
       "4                 5658.33                    4851.44                1.376628   \n",
       "\n",
       "   ratio_Average_beneficiary_Payments  total_payments_by_states  \\\n",
       "0                            0.175432                   5876.37   \n",
       "1                            0.140104                   5876.37   \n",
       "2                            0.180528                   5876.37   \n",
       "3                            0.237819                   5876.37   \n",
       "4                            0.142602                   5876.37   \n",
       "\n",
       "   discharge_by_states  \n",
       "0            39.258322  \n",
       "1            39.258322  \n",
       "2            39.258322  \n",
       "3            39.258322  \n",
       "4            39.258322  "
      ]
     },
     "execution_count": 90,
     "metadata": {},
     "output_type": "execute_result"
    }
   ],
   "source": [
    "X = data10[['Average_Total_Payments','Average_Medicare_Payments','ratio_mean_by_provider','ratio_Average_beneficiary_Payments','total_payments_by_states','discharge_by_states']]\n",
    "X.head()"
   ]
  },
  {
   "cell_type": "markdown",
   "metadata": {},
   "source": [
    "# Autoencoder"
   ]
  },
  {
   "cell_type": "markdown",
   "metadata": {},
   "source": [
    "Autoencoder detect anomaly by a special type of neural network, which is copying the input values to the output value and find the hidden core layer. In an autoencoder model, the number of neurons in the hidden layers has to be less than that of the input layers. Then it can extract the essential information of the input values and learn the most patterns of the data and ignore the noises when the number of neurons in the hidden layers is less than that of the input layers. This cannot achieve when the neurons in the hidden layers is more than the input layers since the neural network will be given too much capacity to lean the data."
   ]
  },
  {
   "cell_type": "code",
   "execution_count": 74,
   "metadata": {},
   "outputs": [
    {
     "name": "stdout",
     "output_type": "stream",
     "text": [
      "Model: \"sequential\"\n",
      "_________________________________________________________________\n",
      " Layer (type)                Output Shape              Param #   \n",
      "=================================================================\n",
      " dense (Dense)               (None, 6)                 42        \n",
      "                                                                 \n",
      " dropout (Dropout)           (None, 6)                 0         \n",
      "                                                                 \n",
      " dense_1 (Dense)             (None, 6)                 42        \n",
      "                                                                 \n",
      " dropout_1 (Dropout)         (None, 6)                 0         \n",
      "                                                                 \n",
      " dense_2 (Dense)             (None, 2)                 14        \n",
      "                                                                 \n",
      " dropout_2 (Dropout)         (None, 2)                 0         \n",
      "                                                                 \n",
      " dense_3 (Dense)             (None, 2)                 6         \n",
      "                                                                 \n",
      " dropout_3 (Dropout)         (None, 2)                 0         \n",
      "                                                                 \n",
      " dense_4 (Dense)             (None, 6)                 18        \n",
      "                                                                 \n",
      "=================================================================\n",
      "Total params: 122\n",
      "Trainable params: 122\n",
      "Non-trainable params: 0\n",
      "_________________________________________________________________\n",
      "None\n",
      "Epoch 1/100\n",
      "4587/4587 [==============================] - 10s 2ms/step - loss: 1.0983 - val_loss: 1.0202\n",
      "Epoch 2/100\n",
      "4587/4587 [==============================] - 10s 2ms/step - loss: 1.0047 - val_loss: 1.0098\n",
      "Epoch 3/100\n",
      "4587/4587 [==============================] - 8s 2ms/step - loss: 1.0001 - val_loss: 1.0084\n",
      "Epoch 4/100\n",
      "4587/4587 [==============================] - 7s 2ms/step - loss: 0.9994 - val_loss: 1.0082\n",
      "Epoch 5/100\n",
      "4587/4587 [==============================] - 7s 2ms/step - loss: 0.9992 - val_loss: 1.0081\n",
      "Epoch 6/100\n",
      "4587/4587 [==============================] - 8s 2ms/step - loss: 0.9992 - val_loss: 1.0081\n",
      "Epoch 7/100\n",
      "4587/4587 [==============================] - 8s 2ms/step - loss: 0.9992 - val_loss: 1.0080\n",
      "Epoch 8/100\n",
      "4587/4587 [==============================] - 10s 2ms/step - loss: 0.9991 - val_loss: 1.0080\n",
      "Epoch 9/100\n",
      "4587/4587 [==============================] - 10s 2ms/step - loss: 0.9991 - val_loss: 1.0080\n",
      "Epoch 10/100\n",
      "4587/4587 [==============================] - 11s 2ms/step - loss: 0.9991 - val_loss: 1.0080\n",
      "Epoch 11/100\n",
      "4587/4587 [==============================] - 10s 2ms/step - loss: 0.9991 - val_loss: 1.0080\n",
      "Epoch 12/100\n",
      "4587/4587 [==============================] - 8s 2ms/step - loss: 0.9991 - val_loss: 1.0080\n",
      "Epoch 13/100\n",
      "4587/4587 [==============================] - 8s 2ms/step - loss: 0.9991 - val_loss: 1.0080\n",
      "Epoch 14/100\n",
      "4587/4587 [==============================] - 7s 2ms/step - loss: 0.9991 - val_loss: 1.0080\n",
      "Epoch 15/100\n",
      "4587/4587 [==============================] - 8s 2ms/step - loss: 0.9991 - val_loss: 1.0080\n",
      "Epoch 16/100\n",
      "4587/4587 [==============================] - 8s 2ms/step - loss: 0.9991 - val_loss: 1.0080\n",
      "Epoch 17/100\n",
      "4587/4587 [==============================] - 9s 2ms/step - loss: 0.9991 - val_loss: 1.0080\n",
      "Epoch 18/100\n",
      "4587/4587 [==============================] - 9s 2ms/step - loss: 0.9991 - val_loss: 1.0080\n",
      "Epoch 19/100\n",
      "4587/4587 [==============================] - 8s 2ms/step - loss: 0.9991 - val_loss: 1.0080\n",
      "Epoch 20/100\n",
      "4587/4587 [==============================] - 8s 2ms/step - loss: 0.9991 - val_loss: 1.0080\n",
      "Epoch 21/100\n",
      "4587/4587 [==============================] - 8s 2ms/step - loss: 0.9991 - val_loss: 1.0080\n",
      "Epoch 22/100\n",
      "4587/4587 [==============================] - 8s 2ms/step - loss: 0.9991 - val_loss: 1.0080\n",
      "Epoch 23/100\n",
      "4587/4587 [==============================] - 8s 2ms/step - loss: 0.9991 - val_loss: 1.0080\n",
      "Epoch 24/100\n",
      "4587/4587 [==============================] - 8s 2ms/step - loss: 0.9991 - val_loss: 1.0080\n",
      "Epoch 25/100\n",
      "4587/4587 [==============================] - 8s 2ms/step - loss: 0.9991 - val_loss: 1.0080\n",
      "Epoch 26/100\n",
      "4587/4587 [==============================] - 9s 2ms/step - loss: 0.9991 - val_loss: 1.0080\n",
      "Epoch 27/100\n",
      "4587/4587 [==============================] - 9s 2ms/step - loss: 0.9991 - val_loss: 1.0080\n",
      "Epoch 28/100\n",
      "4587/4587 [==============================] - 8s 2ms/step - loss: 0.9991 - val_loss: 1.0080\n",
      "Epoch 29/100\n",
      "4587/4587 [==============================] - 9s 2ms/step - loss: 0.9991 - val_loss: 1.0080\n",
      "Epoch 30/100\n",
      "4587/4587 [==============================] - 8s 2ms/step - loss: 0.9991 - val_loss: 1.0080\n",
      "Epoch 31/100\n",
      "4587/4587 [==============================] - 8s 2ms/step - loss: 0.9991 - val_loss: 1.0080\n",
      "Epoch 32/100\n",
      "4587/4587 [==============================] - 9s 2ms/step - loss: 0.9991 - val_loss: 1.0080\n",
      "Epoch 33/100\n",
      "4587/4587 [==============================] - 8s 2ms/step - loss: 0.9991 - val_loss: 1.0080\n",
      "Epoch 34/100\n",
      "4587/4587 [==============================] - 7s 2ms/step - loss: 0.9991 - val_loss: 1.0080\n",
      "Epoch 35/100\n",
      "4587/4587 [==============================] - 7s 1ms/step - loss: 0.9991 - val_loss: 1.0080\n",
      "Epoch 36/100\n",
      "4587/4587 [==============================] - 6s 1ms/step - loss: 0.9991 - val_loss: 1.0080\n",
      "Epoch 37/100\n",
      "4587/4587 [==============================] - 6s 1ms/step - loss: 0.9991 - val_loss: 1.0080\n",
      "Epoch 38/100\n",
      "4587/4587 [==============================] - 6s 1ms/step - loss: 0.9991 - val_loss: 1.0080\n",
      "Epoch 39/100\n",
      "4587/4587 [==============================] - 5s 1ms/step - loss: 0.9991 - val_loss: 1.0080\n",
      "Epoch 40/100\n",
      "4587/4587 [==============================] - 6s 1ms/step - loss: 0.9991 - val_loss: 1.0080\n",
      "Epoch 41/100\n",
      "4587/4587 [==============================] - 6s 1ms/step - loss: 0.9991 - val_loss: 1.0080\n",
      "Epoch 42/100\n",
      "4587/4587 [==============================] - 5s 1ms/step - loss: 0.9991 - val_loss: 1.0080\n",
      "Epoch 43/100\n",
      "4587/4587 [==============================] - 6s 1ms/step - loss: 0.9991 - val_loss: 1.0080\n",
      "Epoch 44/100\n",
      "4587/4587 [==============================] - 5s 1ms/step - loss: 0.9991 - val_loss: 1.0080\n",
      "Epoch 45/100\n",
      "4587/4587 [==============================] - 6s 1ms/step - loss: 0.9991 - val_loss: 1.0080\n",
      "Epoch 46/100\n",
      "4587/4587 [==============================] - 6s 1ms/step - loss: 0.9991 - val_loss: 1.0080\n",
      "Epoch 47/100\n",
      "4587/4587 [==============================] - 5s 1ms/step - loss: 0.9991 - val_loss: 1.0080\n",
      "Epoch 48/100\n",
      "4587/4587 [==============================] - 5s 1ms/step - loss: 0.9991 - val_loss: 1.0080\n",
      "Epoch 49/100\n",
      "4587/4587 [==============================] - 5s 1ms/step - loss: 0.9991 - val_loss: 1.0080\n",
      "Epoch 50/100\n",
      "4587/4587 [==============================] - 5s 1ms/step - loss: 0.9991 - val_loss: 1.0080\n",
      "Epoch 51/100\n",
      "4587/4587 [==============================] - 5s 1ms/step - loss: 0.9991 - val_loss: 1.0080\n",
      "Epoch 52/100\n",
      "4587/4587 [==============================] - 5s 1ms/step - loss: 0.9991 - val_loss: 1.0080\n",
      "Epoch 53/100\n",
      "4587/4587 [==============================] - 5s 1ms/step - loss: 0.9991 - val_loss: 1.0080\n",
      "Epoch 54/100\n",
      "4587/4587 [==============================] - 5s 1ms/step - loss: 0.9991 - val_loss: 1.0080\n",
      "Epoch 55/100\n",
      "4587/4587 [==============================] - 5s 1ms/step - loss: 0.9991 - val_loss: 1.0080\n",
      "Epoch 56/100\n",
      "4587/4587 [==============================] - 5s 1ms/step - loss: 0.9991 - val_loss: 1.0080\n",
      "Epoch 57/100\n",
      "4587/4587 [==============================] - 5s 1ms/step - loss: 0.9991 - val_loss: 1.0080\n",
      "Epoch 58/100\n",
      "4587/4587 [==============================] - 5s 1ms/step - loss: 0.9991 - val_loss: 1.0080\n",
      "Epoch 59/100\n",
      "4587/4587 [==============================] - 5s 1ms/step - loss: 0.9991 - val_loss: 1.0080\n",
      "Epoch 60/100\n",
      "4587/4587 [==============================] - 5s 1ms/step - loss: 0.9991 - val_loss: 1.0080\n",
      "Epoch 61/100\n",
      "4587/4587 [==============================] - 5s 1ms/step - loss: 0.9991 - val_loss: 1.0080\n",
      "Epoch 62/100\n",
      "4587/4587 [==============================] - 5s 1ms/step - loss: 0.9991 - val_loss: 1.0080\n",
      "Epoch 63/100\n",
      "4587/4587 [==============================] - 6s 1ms/step - loss: 0.9991 - val_loss: 1.0080\n",
      "Epoch 64/100\n",
      "4587/4587 [==============================] - 5s 1ms/step - loss: 0.9991 - val_loss: 1.0080\n",
      "Epoch 65/100\n",
      "4587/4587 [==============================] - 5s 1ms/step - loss: 0.9991 - val_loss: 1.0080\n",
      "Epoch 66/100\n",
      "4587/4587 [==============================] - 6s 1ms/step - loss: 0.9991 - val_loss: 1.0080\n",
      "Epoch 67/100\n",
      "4587/4587 [==============================] - 6s 1ms/step - loss: 0.9991 - val_loss: 1.0080\n",
      "Epoch 68/100\n",
      "4587/4587 [==============================] - 6s 1ms/step - loss: 0.9991 - val_loss: 1.0080\n",
      "Epoch 69/100\n",
      "4587/4587 [==============================] - 5s 1ms/step - loss: 0.9991 - val_loss: 1.0080\n",
      "Epoch 70/100\n",
      "4587/4587 [==============================] - 5s 1ms/step - loss: 0.9991 - val_loss: 1.0080\n",
      "Epoch 71/100\n",
      "4587/4587 [==============================] - 5s 1ms/step - loss: 0.9991 - val_loss: 1.0080\n",
      "Epoch 72/100\n",
      "4587/4587 [==============================] - 5s 1ms/step - loss: 0.9991 - val_loss: 1.0080\n",
      "Epoch 73/100\n",
      "4587/4587 [==============================] - 5s 1ms/step - loss: 0.9991 - val_loss: 1.0080\n",
      "Epoch 74/100\n",
      "4587/4587 [==============================] - 5s 1ms/step - loss: 0.9991 - val_loss: 1.0080\n",
      "Epoch 75/100\n",
      "4587/4587 [==============================] - 5s 1ms/step - loss: 0.9991 - val_loss: 1.0080\n",
      "Epoch 76/100\n",
      "4587/4587 [==============================] - 5s 1ms/step - loss: 0.9991 - val_loss: 1.0080\n",
      "Epoch 77/100\n",
      "4587/4587 [==============================] - 5s 1ms/step - loss: 0.9991 - val_loss: 1.0080\n",
      "Epoch 78/100\n",
      "4587/4587 [==============================] - 5s 1ms/step - loss: 0.9991 - val_loss: 1.0080\n",
      "Epoch 79/100\n",
      "4587/4587 [==============================] - 4s 901us/step - loss: 0.9991 - val_loss: 1.0080\n",
      "Epoch 80/100\n",
      "4587/4587 [==============================] - 4s 882us/step - loss: 0.9991 - val_loss: 1.0080\n",
      "Epoch 81/100\n",
      "4587/4587 [==============================] - 4s 953us/step - loss: 0.9991 - val_loss: 1.0080\n",
      "Epoch 82/100\n",
      "4587/4587 [==============================] - 4s 895us/step - loss: 0.9991 - val_loss: 1.0080\n",
      "Epoch 83/100\n",
      "4587/4587 [==============================] - 4s 888us/step - loss: 0.9991 - val_loss: 1.0080\n",
      "Epoch 84/100\n",
      "4587/4587 [==============================] - 4s 909us/step - loss: 0.9991 - val_loss: 1.0080\n",
      "Epoch 85/100\n",
      "4587/4587 [==============================] - 4s 905us/step - loss: 0.9991 - val_loss: 1.0080\n",
      "Epoch 86/100\n",
      "4587/4587 [==============================] - 4s 891us/step - loss: 0.9991 - val_loss: 1.0080\n",
      "Epoch 87/100\n",
      "4587/4587 [==============================] - 4s 885us/step - loss: 0.9991 - val_loss: 1.0080\n",
      "Epoch 88/100\n",
      "4587/4587 [==============================] - 4s 953us/step - loss: 0.9991 - val_loss: 1.0080\n",
      "Epoch 89/100\n",
      "4587/4587 [==============================] - 4s 892us/step - loss: 0.9991 - val_loss: 1.0080\n",
      "Epoch 90/100\n",
      "4587/4587 [==============================] - 4s 890us/step - loss: 0.9991 - val_loss: 1.0080\n",
      "Epoch 91/100\n",
      "4587/4587 [==============================] - 4s 954us/step - loss: 0.9991 - val_loss: 1.0080\n",
      "Epoch 92/100\n",
      "4587/4587 [==============================] - 4s 881us/step - loss: 0.9991 - val_loss: 1.0080\n",
      "Epoch 93/100\n",
      "4587/4587 [==============================] - 4s 880us/step - loss: 0.9991 - val_loss: 1.0080\n",
      "Epoch 94/100\n",
      "4587/4587 [==============================] - 4s 894us/step - loss: 0.9991 - val_loss: 1.0080\n",
      "Epoch 95/100\n",
      "4587/4587 [==============================] - 4s 899us/step - loss: 0.9991 - val_loss: 1.0080\n",
      "Epoch 96/100\n",
      "4587/4587 [==============================] - 4s 918us/step - loss: 0.9991 - val_loss: 1.0080\n",
      "Epoch 97/100\n",
      "4587/4587 [==============================] - 4s 949us/step - loss: 0.9991 - val_loss: 1.0080\n",
      "Epoch 98/100\n",
      "4587/4587 [==============================] - 4s 889us/step - loss: 0.9991 - val_loss: 1.0080\n",
      "Epoch 99/100\n",
      "4587/4587 [==============================] - 4s 957us/step - loss: 0.9991 - val_loss: 1.0080\n",
      "Epoch 100/100\n",
      "4587/4587 [==============================] - 4s 883us/step - loss: 0.9991 - val_loss: 1.0080\n",
      "5096/5096 [==============================] - 3s 584us/step\n"
     ]
    },
    {
     "data": {
      "text/plain": [
       "AutoEncoder(batch_size=32, contamination=0.05, dropout_rate=0.2, epochs=100,\n",
       "      hidden_activation='relu', hidden_neurons=[2, 2], l2_regularizer=0.1,\n",
       "      loss=<function mean_squared_error at 0x7ff49e59b3a0>,\n",
       "      optimizer='adam', output_activation='sigmoid', preprocessing=True,\n",
       "      random_state=None, validation_size=0.1, verbose=1)"
      ]
     },
     "execution_count": 74,
     "metadata": {},
     "output_type": "execute_result"
    }
   ],
   "source": [
    "from pyod.models.auto_encoder import AutoEncoder\n",
    "atcdr = AutoEncoder(contamination=0.05, hidden_neurons =[2, 2])\n",
    "atcdr.fit(X)"
   ]
  },
  {
   "cell_type": "code",
   "execution_count": 91,
   "metadata": {},
   "outputs": [
    {
     "name": "stdout",
     "output_type": "stream",
     "text": [
      "5096/5096 [==============================] - 4s 722us/step\n",
      "5096/5096 [==============================] - 4s 725us/step\n",
      "The threshold for the defined contamination rate: 4.124863406346537\n",
      "The training data: {0: 154911, 1: 8154}\n"
     ]
    }
   ],
   "source": [
    "y_scores_auto = atcdr.decision_function(X)\n",
    "y_pred_auto = atcdr.predict(X)\n",
    "\n",
    "# Threshold for the defined comtanimation rate\n",
    "print(\"The threshold for the defined contamination rate:\" , atcdr.threshold_)\n",
    "\n",
    "def count_stat(vector):\n",
    "    # Because it is '0' and '1', we can run a count statistic.\n",
    "    unique, counts = np.unique(vector, return_counts=True)\n",
    "    return dict(zip(unique, counts))\n",
    "\n",
    "print(\"The training data:\", count_stat(y_pred_auto))"
   ]
  },
  {
   "cell_type": "markdown",
   "metadata": {},
   "source": [
    "The model shows that we have a contamination rate of 4.125. Based on the model, any observation that has an anomaly score value that is greater than 4.125 is considered as an outlier. Also, within the 163065 of observations, 8154 are outliers and 154911 are not."
   ]
  },
  {
   "cell_type": "code",
   "execution_count": 92,
   "metadata": {},
   "outputs": [
    {
     "data": {
      "text/html": [
       "<div>\n",
       "<style scoped>\n",
       "    .dataframe tbody tr th:only-of-type {\n",
       "        vertical-align: middle;\n",
       "    }\n",
       "\n",
       "    .dataframe tbody tr th {\n",
       "        vertical-align: top;\n",
       "    }\n",
       "\n",
       "    .dataframe thead th {\n",
       "        text-align: right;\n",
       "    }\n",
       "</style>\n",
       "<table border=\"1\" class=\"dataframe\">\n",
       "  <thead>\n",
       "    <tr style=\"text-align: right;\">\n",
       "      <th></th>\n",
       "      <th>Group</th>\n",
       "      <th>Count</th>\n",
       "      <th>Count %</th>\n",
       "      <th>Average_Total_Payments</th>\n",
       "      <th>Average_Medicare_Payments</th>\n",
       "      <th>ratio_mean_by_provider</th>\n",
       "      <th>ratio_Average_beneficiary_Payments</th>\n",
       "      <th>total_payments_by_states</th>\n",
       "      <th>discharge_by_states</th>\n",
       "      <th>Anomaly_Score</th>\n",
       "    </tr>\n",
       "  </thead>\n",
       "  <tbody>\n",
       "    <tr>\n",
       "      <th>0</th>\n",
       "      <td>Normal</td>\n",
       "      <td>154911</td>\n",
       "      <td>94.99954</td>\n",
       "      <td>8525.79</td>\n",
       "      <td>7392.80</td>\n",
       "      <td>1.35</td>\n",
       "      <td>0.15</td>\n",
       "      <td>7241.93</td>\n",
       "      <td>42.78</td>\n",
       "      <td>1.99</td>\n",
       "    </tr>\n",
       "    <tr>\n",
       "      <th>1</th>\n",
       "      <td>Outlier</td>\n",
       "      <td>8154</td>\n",
       "      <td>5.00046</td>\n",
       "      <td>32157.21</td>\n",
       "      <td>29424.62</td>\n",
       "      <td>0.56</td>\n",
       "      <td>0.13</td>\n",
       "      <td>7821.04</td>\n",
       "      <td>42.76</td>\n",
       "      <td>5.73</td>\n",
       "    </tr>\n",
       "  </tbody>\n",
       "</table>\n",
       "</div>"
      ],
      "text/plain": [
       "     Group   Count   Count %  Average_Total_Payments  \\\n",
       "0   Normal  154911  94.99954                 8525.79   \n",
       "1  Outlier    8154   5.00046                32157.21   \n",
       "\n",
       "   Average_Medicare_Payments  ratio_mean_by_provider  \\\n",
       "0                    7392.80                    1.35   \n",
       "1                   29424.62                    0.56   \n",
       "\n",
       "   ratio_Average_beneficiary_Payments  total_payments_by_states  \\\n",
       "0                                0.15                   7241.93   \n",
       "1                                0.13                   7821.04   \n",
       "\n",
       "   discharge_by_states  Anomaly_Score  \n",
       "0                42.78           1.99  \n",
       "1                42.76           5.73  "
      ]
     },
     "execution_count": 92,
     "metadata": {},
     "output_type": "execute_result"
    }
   ],
   "source": [
    "threshold = atcdr.threshold_ # Or other value from the above histogram\n",
    "\n",
    "def descriptive_stat_threshold(df,pred_score, threshold):\n",
    "    # Let's see how many '0's and '1's.\n",
    "    df = pd.DataFrame(df)\n",
    "    df['Anomaly_Score'] = pred_score\n",
    "    df['Group'] = np.where(df['Anomaly_Score']< threshold, 'Normal', 'Outlier')\n",
    "\n",
    "    # Now let's show the summary statistics:\n",
    "    cnt = df.groupby('Group')['Anomaly_Score'].count().reset_index().rename(columns={'Anomaly_Score':'Count'})\n",
    "    cnt['Count %'] = (cnt['Count'] / cnt['Count'].sum()) * 100 # The count and count %\n",
    "    stat = df.groupby('Group').mean().round(2).reset_index() # The avg.\n",
    "    stat = cnt.merge(stat, left_on='Group',right_on='Group') # Put the count and the avg. together\n",
    "    return (stat)\n",
    "\n",
    "descriptive_stat_threshold(X,y_scores_auto, threshold)"
   ]
  },
  {
   "cell_type": "markdown",
   "metadata": {},
   "source": [
    "The table shows the size of the outlier group, which is about 5.0005 percent. It also shows the average anomaly score, which verifies the data in the outlier group are outliers by having the outlier much higher than normal average anomaly score. Also, we can see the feature statistics in each group. We supposed to see the feature values in the outlier group either higher or lower than those of the normal group, which we did except two variables, ratio_Average_beneficiary_Payments and discharge_by_states."
   ]
  },
  {
   "cell_type": "code",
   "execution_count": 93,
   "metadata": {},
   "outputs": [
    {
     "data": {
      "text/html": [
       "<div>\n",
       "<style scoped>\n",
       "    .dataframe tbody tr th:only-of-type {\n",
       "        vertical-align: middle;\n",
       "    }\n",
       "\n",
       "    .dataframe tbody tr th {\n",
       "        vertical-align: top;\n",
       "    }\n",
       "\n",
       "    .dataframe thead th {\n",
       "        text-align: right;\n",
       "    }\n",
       "</style>\n",
       "<table border=\"1\" class=\"dataframe\">\n",
       "  <thead>\n",
       "    <tr style=\"text-align: right;\">\n",
       "      <th>Pred</th>\n",
       "      <th>0</th>\n",
       "      <th>1</th>\n",
       "    </tr>\n",
       "    <tr>\n",
       "      <th>Actual</th>\n",
       "      <th></th>\n",
       "      <th></th>\n",
       "    </tr>\n",
       "  </thead>\n",
       "  <tbody>\n",
       "    <tr>\n",
       "      <th>0</th>\n",
       "      <td>154911</td>\n",
       "      <td>0</td>\n",
       "    </tr>\n",
       "    <tr>\n",
       "      <th>1</th>\n",
       "      <td>0</td>\n",
       "      <td>8154</td>\n",
       "    </tr>\n",
       "  </tbody>\n",
       "</table>\n",
       "</div>"
      ],
      "text/plain": [
       "Pred         0     1\n",
       "Actual              \n",
       "0       154911     0\n",
       "1            0  8154"
      ]
     },
     "execution_count": 93,
     "metadata": {},
     "output_type": "execute_result"
    }
   ],
   "source": [
    "Actual_pred = pd.DataFrame({'Actual': y_pred_auto, 'Anomaly_Score': y_scores_auto})\n",
    "Actual_pred['Pred'] = np.where(Actual_pred['Anomaly_Score']< threshold,0,1)\n",
    "pd.crosstab(Actual_pred['Actual'],Actual_pred['Pred'])"
   ]
  },
  {
   "cell_type": "markdown",
   "metadata": {},
   "source": [
    "There is the confusion matrix that used to understand the model performance. The matrix shows that the model did a good job since it identifies 8154 out of 8154 of outliers and identifies 154911 out of 154911 of the normal group."
   ]
  },
  {
   "cell_type": "markdown",
   "metadata": {},
   "source": [
    "# Forest"
   ]
  },
  {
   "cell_type": "markdown",
   "metadata": {},
   "source": [
    "IForest identifies outliers by finding the observations that have short average path lengths on the iTrees. It can find the anomalies directly instead of finding the normal data first then identify those that are not."
   ]
  },
  {
   "cell_type": "code",
   "execution_count": 94,
   "metadata": {},
   "outputs": [
    {
     "data": {
      "text/html": [
       "<div>\n",
       "<style scoped>\n",
       "    .dataframe tbody tr th:only-of-type {\n",
       "        vertical-align: middle;\n",
       "    }\n",
       "\n",
       "    .dataframe tbody tr th {\n",
       "        vertical-align: top;\n",
       "    }\n",
       "\n",
       "    .dataframe thead th {\n",
       "        text-align: right;\n",
       "    }\n",
       "</style>\n",
       "<table border=\"1\" class=\"dataframe\">\n",
       "  <thead>\n",
       "    <tr style=\"text-align: right;\">\n",
       "      <th></th>\n",
       "      <th>Average_Total_Payments</th>\n",
       "      <th>Average_Medicare_Payments</th>\n",
       "      <th>ratio_mean_by_provider</th>\n",
       "      <th>ratio_Average_beneficiary_Payments</th>\n",
       "      <th>total_payments_by_states</th>\n",
       "      <th>discharge_by_states</th>\n",
       "    </tr>\n",
       "  </thead>\n",
       "  <tbody>\n",
       "    <tr>\n",
       "      <th>0</th>\n",
       "      <td>5777.24</td>\n",
       "      <td>4763.73</td>\n",
       "      <td>1.514395</td>\n",
       "      <td>0.175432</td>\n",
       "      <td>5876.37</td>\n",
       "      <td>39.258322</td>\n",
       "    </tr>\n",
       "    <tr>\n",
       "      <th>1</th>\n",
       "      <td>5787.57</td>\n",
       "      <td>4976.71</td>\n",
       "      <td>1.177028</td>\n",
       "      <td>0.140104</td>\n",
       "      <td>5876.37</td>\n",
       "      <td>39.258322</td>\n",
       "    </tr>\n",
       "    <tr>\n",
       "      <th>2</th>\n",
       "      <td>5434.95</td>\n",
       "      <td>4453.79</td>\n",
       "      <td>1.508245</td>\n",
       "      <td>0.180528</td>\n",
       "      <td>5876.37</td>\n",
       "      <td>39.258322</td>\n",
       "    </tr>\n",
       "    <tr>\n",
       "      <th>3</th>\n",
       "      <td>5417.56</td>\n",
       "      <td>4129.16</td>\n",
       "      <td>1.510209</td>\n",
       "      <td>0.237819</td>\n",
       "      <td>5876.37</td>\n",
       "      <td>39.258322</td>\n",
       "    </tr>\n",
       "    <tr>\n",
       "      <th>4</th>\n",
       "      <td>5658.33</td>\n",
       "      <td>4851.44</td>\n",
       "      <td>1.376628</td>\n",
       "      <td>0.142602</td>\n",
       "      <td>5876.37</td>\n",
       "      <td>39.258322</td>\n",
       "    </tr>\n",
       "  </tbody>\n",
       "</table>\n",
       "</div>"
      ],
      "text/plain": [
       "   Average_Total_Payments  Average_Medicare_Payments  ratio_mean_by_provider  \\\n",
       "0                 5777.24                    4763.73                1.514395   \n",
       "1                 5787.57                    4976.71                1.177028   \n",
       "2                 5434.95                    4453.79                1.508245   \n",
       "3                 5417.56                    4129.16                1.510209   \n",
       "4                 5658.33                    4851.44                1.376628   \n",
       "\n",
       "   ratio_Average_beneficiary_Payments  total_payments_by_states  \\\n",
       "0                            0.175432                   5876.37   \n",
       "1                            0.140104                   5876.37   \n",
       "2                            0.180528                   5876.37   \n",
       "3                            0.237819                   5876.37   \n",
       "4                            0.142602                   5876.37   \n",
       "\n",
       "   discharge_by_states  \n",
       "0            39.258322  \n",
       "1            39.258322  \n",
       "2            39.258322  \n",
       "3            39.258322  \n",
       "4            39.258322  "
      ]
     },
     "execution_count": 94,
     "metadata": {},
     "output_type": "execute_result"
    }
   ],
   "source": [
    "X = data10[['Average_Total_Payments','Average_Medicare_Payments','ratio_mean_by_provider','ratio_Average_beneficiary_Payments','total_payments_by_states','discharge_by_states']]\n",
    "X.head()"
   ]
  },
  {
   "cell_type": "code",
   "execution_count": 95,
   "metadata": {},
   "outputs": [
    {
     "name": "stdout",
     "output_type": "stream",
     "text": [
      "The threshold for the defined contamination rate: 1.3861535363139015e-17\n",
      "The training data: {0: 154911, 1: 8154}\n"
     ]
    }
   ],
   "source": [
    "from pyod.models.iforest import IForest\n",
    "isft = IForest(contamination=0.05, max_samples=40, behaviour='new')\n",
    "isft.fit(X)\n",
    "\n",
    "y_scores_forest = isft.decision_function(X)\n",
    "y_pred_forest = isft.predict(X)\n",
    "\n",
    "# Threshold for the defined comtanimation rate\n",
    "print(\"The threshold for the defined contamination rate:\" , isft.threshold_)\n",
    "\n",
    "def count_stat(vector):\n",
    "    # Because it is '0' and '1', we can run a count statistic.\n",
    "    unique, counts = np.unique(vector, return_counts=True)\n",
    "    return dict(zip(unique, counts))\n",
    "\n",
    "print(\"The training data:\", count_stat(y_pred_forest))"
   ]
  },
  {
   "cell_type": "markdown",
   "metadata": {},
   "source": [
    "The model shows that we have a contamination rate that is extremely small, which is also the case in the example code Therefore, we will find the threshold using another way later. Also, within the 163065 of observations, 8154 are outliers and 154911 are not."
   ]
  },
  {
   "cell_type": "code",
   "execution_count": 115,
   "metadata": {},
   "outputs": [
    {
     "data": {
      "image/png": "[encoded data removed]",
      "text/plain": [
       "<Figure size 864x396 with 1 Axes>"
      ]
     },
     "metadata": {},
     "output_type": "display_data"
    }
   ],
   "source": [
    "plt.hist(y_scores_forest, bins='auto') # arguments are passed to np.histogram\n",
    "plt.title(\"Outlier score\")\n",
    "plt.show()"
   ]
  },
  {
   "cell_type": "markdown",
   "metadata": {},
   "source": [
    "Another way to determine the threshold is to use the histogram of the outlier score, which allows us to select a threshold value by the graph. We can see that the histogram suggest that the threshold value is around -0.05, which is much more reasonable than the previous method."
   ]
  },
  {
   "cell_type": "code",
   "execution_count": 96,
   "metadata": {},
   "outputs": [
    {
     "data": {
      "text/plain": [
       "{'behaviour': 'new',\n",
       " 'bootstrap': False,\n",
       " 'contamination': 0.05,\n",
       " 'max_features': 1.0,\n",
       " 'max_samples': 40,\n",
       " 'n_estimators': 100,\n",
       " 'n_jobs': 1,\n",
       " 'random_state': None,\n",
       " 'verbose': 0}"
      ]
     },
     "execution_count": 96,
     "metadata": {},
     "output_type": "execute_result"
    }
   ],
   "source": [
    "isft.get_params()"
   ]
  },
  {
   "cell_type": "markdown",
   "metadata": {},
   "source": [
    "Here is the hyper parameters of the model. max_sample is the size of a tree. n_estimators is the number of trees in the ensemble. Max features is the number of features to draw from X to train each base estimator. n_jobs is the number of jobs to run in parallel for both fit and predict."
   ]
  },
  {
   "cell_type": "code",
   "execution_count": 97,
   "metadata": {},
   "outputs": [
    {
     "data": {
      "text/plain": [
       "array([0.18187576, 0.17034824, 0.16975373, 0.18321537, 0.14007187,\n",
       "       0.15473502])"
      ]
     },
     "execution_count": 97,
     "metadata": {},
     "output_type": "execute_result"
    }
   ],
   "source": [
    "isft_vi = isft.feature_importances_\n",
    "isft_vi"
   ]
  },
  {
   "cell_type": "markdown",
   "metadata": {},
   "source": [
    "This the feature importance, which shows the relative strength of features in determining outliers."
   ]
  },
  {
   "cell_type": "code",
   "execution_count": 98,
   "metadata": {},
   "outputs": [
    {
     "data": {
      "text/plain": [
       "<AxesSubplot:>"
      ]
     },
     "execution_count": 98,
     "metadata": {},
     "output_type": "execute_result"
    },
    {
     "data": {
      "image/png": "[encoded data removed]",
      "text/plain": [
       "<Figure size 864x396 with 1 Axes>"
      ]
     },
     "metadata": {},
     "output_type": "display_data"
    }
   ],
   "source": [
    "for_plot = pd.DataFrame({'x_axis':X.columns,\n",
    "                         'y_axis':isft_vi}).sort_values(by='y_axis',ascending=True)\n",
    "for_plot['y_axis'].plot.barh()"
   ]
  },
  {
   "cell_type": "markdown",
   "metadata": {},
   "source": [
    "This is the graph for the feature importance. We can see that the forth and the first features has relatively high importance, which refers to Average_Total_Payments, and ratio_Average_beneficiary_Payments."
   ]
  },
  {
   "cell_type": "code",
   "execution_count": 100,
   "metadata": {},
   "outputs": [
    {
     "data": {
      "text/html": [
       "<div>\n",
       "<style scoped>\n",
       "    .dataframe tbody tr th:only-of-type {\n",
       "        vertical-align: middle;\n",
       "    }\n",
       "\n",
       "    .dataframe tbody tr th {\n",
       "        vertical-align: top;\n",
       "    }\n",
       "\n",
       "    .dataframe thead th {\n",
       "        text-align: right;\n",
       "    }\n",
       "</style>\n",
       "<table border=\"1\" class=\"dataframe\">\n",
       "  <thead>\n",
       "    <tr style=\"text-align: right;\">\n",
       "      <th></th>\n",
       "      <th>Group</th>\n",
       "      <th>Count</th>\n",
       "      <th>Count %</th>\n",
       "      <th>Average_Total_Payments</th>\n",
       "      <th>Average_Medicare_Payments</th>\n",
       "      <th>ratio_mean_by_provider</th>\n",
       "      <th>ratio_Average_beneficiary_Payments</th>\n",
       "      <th>total_payments_by_states</th>\n",
       "      <th>discharge_by_states</th>\n",
       "      <th>Anomaly_Score</th>\n",
       "    </tr>\n",
       "  </thead>\n",
       "  <tbody>\n",
       "    <tr>\n",
       "      <th>0</th>\n",
       "      <td>Normal</td>\n",
       "      <td>154911</td>\n",
       "      <td>94.99954</td>\n",
       "      <td>8395.40</td>\n",
       "      <td>7260.85</td>\n",
       "      <td>1.36</td>\n",
       "      <td>0.16</td>\n",
       "      <td>7238.49</td>\n",
       "      <td>42.82</td>\n",
       "      <td>-0.14</td>\n",
       "    </tr>\n",
       "    <tr>\n",
       "      <th>1</th>\n",
       "      <td>Outlier</td>\n",
       "      <td>8154</td>\n",
       "      <td>5.00046</td>\n",
       "      <td>34634.55</td>\n",
       "      <td>31931.46</td>\n",
       "      <td>0.41</td>\n",
       "      <td>0.09</td>\n",
       "      <td>7886.56</td>\n",
       "      <td>42.03</td>\n",
       "      <td>0.04</td>\n",
       "    </tr>\n",
       "  </tbody>\n",
       "</table>\n",
       "</div>"
      ],
      "text/plain": [
       "     Group   Count   Count %  Average_Total_Payments  \\\n",
       "0   Normal  154911  94.99954                 8395.40   \n",
       "1  Outlier    8154   5.00046                34634.55   \n",
       "\n",
       "   Average_Medicare_Payments  ratio_mean_by_provider  \\\n",
       "0                    7260.85                    1.36   \n",
       "1                   31931.46                    0.41   \n",
       "\n",
       "   ratio_Average_beneficiary_Payments  total_payments_by_states  \\\n",
       "0                                0.16                   7238.49   \n",
       "1                                0.09                   7886.56   \n",
       "\n",
       "   discharge_by_states  Anomaly_Score  \n",
       "0                42.82          -0.14  \n",
       "1                42.03           0.04  "
      ]
     },
     "execution_count": 100,
     "metadata": {},
     "output_type": "execute_result"
    }
   ],
   "source": [
    "threshold = isft.threshold_ # Or other value from the above histogram\n",
    "\n",
    "def descriptive_stat_threshold(df,pred_score, threshold):\n",
    "    # Let's see how many '0's and '1's.\n",
    "    df = pd.DataFrame(df)\n",
    "    df['Anomaly_Score'] = pred_score\n",
    "    df['Group'] = np.where(df['Anomaly_Score']< threshold, 'Normal', 'Outlier')\n",
    "\n",
    "    # Now let's show the summary statistics:\n",
    "    cnt = df.groupby('Group')['Anomaly_Score'].count().reset_index().rename(columns={'Anomaly_Score':'Count'})\n",
    "    cnt['Count %'] = (cnt['Count'] / cnt['Count'].sum()) * 100 # The count and count %\n",
    "    stat = df.groupby('Group').mean().round(2).reset_index() # The avg.\n",
    "    stat = cnt.merge(stat, left_on='Group',right_on='Group') # Put the count and the avg. together\n",
    "    return (stat)\n",
    "\n",
    "descriptive_stat_threshold(X, y_scores_forest, threshold)"
   ]
  },
  {
   "cell_type": "markdown",
   "metadata": {},
   "source": [
    "The table shows the size of the outlier group, which is about 5.0005 percent. It also shows the average anomaly score, which verifies the data in the outlier group are outliers by having the outlier much higher than normal average anomaly score. Also, we can see the feature statistics in each group. We supposed to see the feature values in the outlier group either higher or lower than those of the normal group, which we did except one variables, discharge_by_states."
   ]
  },
  {
   "cell_type": "code",
   "execution_count": 101,
   "metadata": {},
   "outputs": [
    {
     "data": {
      "text/html": [
       "<div>\n",
       "<style scoped>\n",
       "    .dataframe tbody tr th:only-of-type {\n",
       "        vertical-align: middle;\n",
       "    }\n",
       "\n",
       "    .dataframe tbody tr th {\n",
       "        vertical-align: top;\n",
       "    }\n",
       "\n",
       "    .dataframe thead th {\n",
       "        text-align: right;\n",
       "    }\n",
       "</style>\n",
       "<table border=\"1\" class=\"dataframe\">\n",
       "  <thead>\n",
       "    <tr style=\"text-align: right;\">\n",
       "      <th>Pred</th>\n",
       "      <th>0</th>\n",
       "      <th>1</th>\n",
       "    </tr>\n",
       "    <tr>\n",
       "      <th>Actual</th>\n",
       "      <th></th>\n",
       "      <th></th>\n",
       "    </tr>\n",
       "  </thead>\n",
       "  <tbody>\n",
       "    <tr>\n",
       "      <th>0</th>\n",
       "      <td>154911</td>\n",
       "      <td>0</td>\n",
       "    </tr>\n",
       "    <tr>\n",
       "      <th>1</th>\n",
       "      <td>0</td>\n",
       "      <td>8154</td>\n",
       "    </tr>\n",
       "  </tbody>\n",
       "</table>\n",
       "</div>"
      ],
      "text/plain": [
       "Pred         0     1\n",
       "Actual              \n",
       "0       154911     0\n",
       "1            0  8154"
      ]
     },
     "execution_count": 101,
     "metadata": {},
     "output_type": "execute_result"
    }
   ],
   "source": [
    "Actual_pred = pd.DataFrame({'Actual': y_pred_forest, 'Anomaly_Score': y_scores_forest})\n",
    "Actual_pred['Pred'] = np.where(Actual_pred['Anomaly_Score']< threshold,0,1)\n",
    "pd.crosstab(Actual_pred['Actual'],Actual_pred['Pred'])"
   ]
  },
  {
   "cell_type": "markdown",
   "metadata": {},
   "source": [
    "There is the confusion matrix that used to understand the model performance. The matrix shows that the model did a good job since it identifies 8154 out of 8154 of outliers and identifies 154911 out of 154911 of the normal group."
   ]
  },
  {
   "cell_type": "markdown",
   "metadata": {},
   "source": [
    "# Compare Models"
   ]
  },
  {
   "cell_type": "markdown",
   "metadata": {},
   "source": [
    "We have all models including the ones from last week together"
   ]
  },
  {
   "cell_type": "code",
   "execution_count": 107,
   "metadata": {},
   "outputs": [
    {
     "data": {
      "text/html": [
       "<div>\n",
       "<style scoped>\n",
       "    .dataframe tbody tr th:only-of-type {\n",
       "        vertical-align: middle;\n",
       "    }\n",
       "\n",
       "    .dataframe tbody tr th {\n",
       "        vertical-align: top;\n",
       "    }\n",
       "\n",
       "    .dataframe thead th {\n",
       "        text-align: right;\n",
       "    }\n",
       "</style>\n",
       "<table border=\"1\" class=\"dataframe\">\n",
       "  <thead>\n",
       "    <tr style=\"text-align: right;\">\n",
       "      <th></th>\n",
       "      <th>HBOS_Score</th>\n",
       "      <th>ECOD_Score</th>\n",
       "      <th>PCA_Score</th>\n",
       "      <th>Auto_Score</th>\n",
       "      <th>Forest_Score</th>\n",
       "      <th>HBOS_pred</th>\n",
       "      <th>ECOD_pred</th>\n",
       "      <th>PCA_pred</th>\n",
       "      <th>Auto_pred</th>\n",
       "      <th>Forest_pred</th>\n",
       "    </tr>\n",
       "  </thead>\n",
       "  <tbody>\n",
       "    <tr>\n",
       "      <th>0</th>\n",
       "      <td>11.446965</td>\n",
       "      <td>9.284058</td>\n",
       "      <td>2514.831309</td>\n",
       "      <td>1.746398</td>\n",
       "      <td>-0.171774</td>\n",
       "      <td>0</td>\n",
       "      <td>0</td>\n",
       "      <td>0</td>\n",
       "      <td>0</td>\n",
       "      <td>0</td>\n",
       "    </tr>\n",
       "    <tr>\n",
       "      <th>1</th>\n",
       "      <td>11.196570</td>\n",
       "      <td>8.639228</td>\n",
       "      <td>2482.254070</td>\n",
       "      <td>1.708054</td>\n",
       "      <td>-0.169145</td>\n",
       "      <td>0</td>\n",
       "      <td>0</td>\n",
       "      <td>0</td>\n",
       "      <td>0</td>\n",
       "      <td>0</td>\n",
       "    </tr>\n",
       "    <tr>\n",
       "      <th>2</th>\n",
       "      <td>11.446893</td>\n",
       "      <td>9.622639</td>\n",
       "      <td>2555.777538</td>\n",
       "      <td>1.779865</td>\n",
       "      <td>-0.173251</td>\n",
       "      <td>0</td>\n",
       "      <td>0</td>\n",
       "      <td>0</td>\n",
       "      <td>0</td>\n",
       "      <td>0</td>\n",
       "    </tr>\n",
       "    <tr>\n",
       "      <th>3</th>\n",
       "      <td>12.212569</td>\n",
       "      <td>10.555706</td>\n",
       "      <td>2828.334601</td>\n",
       "      <td>2.012290</td>\n",
       "      <td>-0.160887</td>\n",
       "      <td>0</td>\n",
       "      <td>0</td>\n",
       "      <td>0</td>\n",
       "      <td>0</td>\n",
       "      <td>0</td>\n",
       "    </tr>\n",
       "    <tr>\n",
       "      <th>4</th>\n",
       "      <td>11.056275</td>\n",
       "      <td>8.752504</td>\n",
       "      <td>2466.713570</td>\n",
       "      <td>1.702942</td>\n",
       "      <td>-0.172009</td>\n",
       "      <td>0</td>\n",
       "      <td>0</td>\n",
       "      <td>0</td>\n",
       "      <td>0</td>\n",
       "      <td>0</td>\n",
       "    </tr>\n",
       "  </tbody>\n",
       "</table>\n",
       "</div>"
      ],
      "text/plain": [
       "   HBOS_Score  ECOD_Score    PCA_Score  Auto_Score  Forest_Score  HBOS_pred  \\\n",
       "0   11.446965    9.284058  2514.831309    1.746398     -0.171774          0   \n",
       "1   11.196570    8.639228  2482.254070    1.708054     -0.169145          0   \n",
       "2   11.446893    9.622639  2555.777538    1.779865     -0.173251          0   \n",
       "3   12.212569   10.555706  2828.334601    2.012290     -0.160887          0   \n",
       "4   11.056275    8.752504  2466.713570    1.702942     -0.172009          0   \n",
       "\n",
       "   ECOD_pred  PCA_pred  Auto_pred  Forest_pred  \n",
       "0          0         0          0            0  \n",
       "1          0         0          0            0  \n",
       "2          0         0          0            0  \n",
       "3          0         0          0            0  \n",
       "4          0         0          0            0  "
      ]
     },
     "execution_count": 107,
     "metadata": {},
     "output_type": "execute_result"
    }
   ],
   "source": [
    "Actual_preds = pd.DataFrame({'HBOS_Score': y_scores_hbos,\n",
    "                             'ECOD_Score': y_scores_ecod,\n",
    "                             'PCA_Score': y_scores_pca,\n",
    "                             'Auto_Score': y_scores_auto,\n",
    "                             'Forest_Score': y_scores_forest})\n",
    "Actual_preds['HBOS_pred'] = np.where(Actual_preds['HBOS_Score']>hbos.threshold_,1,0)\n",
    "Actual_preds['ECOD_pred'] = np.where(Actual_preds['ECOD_Score']>ecod.threshold_,1,0)\n",
    "Actual_preds['PCA_pred'] = np.where(Actual_preds['PCA_Score']>pca.threshold_,1,0)\n",
    "Actual_preds['Auto_pred'] = np.where(Actual_preds['Auto_Score']>atcdr.threshold_,1,0)\n",
    "Actual_preds['Forest_pred'] = np.where(Actual_preds['Forest_Score']>isft.threshold_,1,0)\n",
    "Actual_preds.head()"
   ]
  },
  {
   "cell_type": "markdown",
   "metadata": {},
   "source": [
    "This table shows the comparison of 5 models, HBOS, ECOD, PCA, Autoencoder, and Forest."
   ]
  },
  {
   "cell_type": "code",
   "execution_count": 108,
   "metadata": {},
   "outputs": [
    {
     "data": {
      "text/html": [
       "<div>\n",
       "<style scoped>\n",
       "    .dataframe tbody tr th:only-of-type {\n",
       "        vertical-align: middle;\n",
       "    }\n",
       "\n",
       "    .dataframe tbody tr th {\n",
       "        vertical-align: top;\n",
       "    }\n",
       "\n",
       "    .dataframe thead th {\n",
       "        text-align: right;\n",
       "    }\n",
       "</style>\n",
       "<table border=\"1\" class=\"dataframe\">\n",
       "  <thead>\n",
       "    <tr style=\"text-align: right;\">\n",
       "      <th>Forest_pred</th>\n",
       "      <th>0</th>\n",
       "      <th>1</th>\n",
       "    </tr>\n",
       "    <tr>\n",
       "      <th>Auto_pred</th>\n",
       "      <th></th>\n",
       "      <th></th>\n",
       "    </tr>\n",
       "  </thead>\n",
       "  <tbody>\n",
       "    <tr>\n",
       "      <th>0</th>\n",
       "      <td>153336</td>\n",
       "      <td>1575</td>\n",
       "    </tr>\n",
       "    <tr>\n",
       "      <th>1</th>\n",
       "      <td>1575</td>\n",
       "      <td>6579</td>\n",
       "    </tr>\n",
       "  </tbody>\n",
       "</table>\n",
       "</div>"
      ],
      "text/plain": [
       "Forest_pred       0     1\n",
       "Auto_pred                \n",
       "0            153336  1575\n",
       "1              1575  6579"
      ]
     },
     "execution_count": 108,
     "metadata": {},
     "output_type": "execute_result"
    }
   ],
   "source": [
    "pd.crosstab(Actual_preds['Auto_pred'],Actual_preds['Forest_pred'])"
   ]
  },
  {
   "cell_type": "markdown",
   "metadata": {},
   "source": [
    "By cross-tabulate the Autoencoder and the Forest predictions, 6579 observations are identified by both models to be outliers."
   ]
  },
  {
   "cell_type": "code",
   "execution_count": 109,
   "metadata": {},
   "outputs": [
    {
     "data": {
      "text/html": [
       "<div>\n",
       "<style scoped>\n",
       "    .dataframe tbody tr th:only-of-type {\n",
       "        vertical-align: middle;\n",
       "    }\n",
       "\n",
       "    .dataframe tbody tr th {\n",
       "        vertical-align: top;\n",
       "    }\n",
       "\n",
       "    .dataframe thead th {\n",
       "        text-align: right;\n",
       "    }\n",
       "</style>\n",
       "<table border=\"1\" class=\"dataframe\">\n",
       "  <thead>\n",
       "    <tr style=\"text-align: right;\">\n",
       "      <th>HBOS_pred</th>\n",
       "      <th>0</th>\n",
       "      <th>1</th>\n",
       "    </tr>\n",
       "    <tr>\n",
       "      <th>Auto_pred</th>\n",
       "      <th></th>\n",
       "      <th></th>\n",
       "    </tr>\n",
       "  </thead>\n",
       "  <tbody>\n",
       "    <tr>\n",
       "      <th>0</th>\n",
       "      <td>148891</td>\n",
       "      <td>6020</td>\n",
       "    </tr>\n",
       "    <tr>\n",
       "      <th>1</th>\n",
       "      <td>6024</td>\n",
       "      <td>2130</td>\n",
       "    </tr>\n",
       "  </tbody>\n",
       "</table>\n",
       "</div>"
      ],
      "text/plain": [
       "HBOS_pred       0     1\n",
       "Auto_pred              \n",
       "0          148891  6020\n",
       "1            6024  2130"
      ]
     },
     "execution_count": 109,
     "metadata": {},
     "output_type": "execute_result"
    }
   ],
   "source": [
    "pd.crosstab(Actual_preds['Auto_pred'],Actual_preds['HBOS_pred'])"
   ]
  },
  {
   "cell_type": "markdown",
   "metadata": {},
   "source": [
    "By cross-tabulate the HBOS and the Autoencoder predictions, 2130 observations are identified by both models to be outliers."
   ]
  },
  {
   "cell_type": "code",
   "execution_count": 110,
   "metadata": {},
   "outputs": [
    {
     "data": {
      "text/html": [
       "<div>\n",
       "<style scoped>\n",
       "    .dataframe tbody tr th:only-of-type {\n",
       "        vertical-align: middle;\n",
       "    }\n",
       "\n",
       "    .dataframe tbody tr th {\n",
       "        vertical-align: top;\n",
       "    }\n",
       "\n",
       "    .dataframe thead th {\n",
       "        text-align: right;\n",
       "    }\n",
       "</style>\n",
       "<table border=\"1\" class=\"dataframe\">\n",
       "  <thead>\n",
       "    <tr style=\"text-align: right;\">\n",
       "      <th>HBOS_pred</th>\n",
       "      <th>0</th>\n",
       "      <th>1</th>\n",
       "    </tr>\n",
       "    <tr>\n",
       "      <th>Forest_pred</th>\n",
       "      <th></th>\n",
       "      <th></th>\n",
       "    </tr>\n",
       "  </thead>\n",
       "  <tbody>\n",
       "    <tr>\n",
       "      <th>0</th>\n",
       "      <td>148319</td>\n",
       "      <td>6592</td>\n",
       "    </tr>\n",
       "    <tr>\n",
       "      <th>1</th>\n",
       "      <td>6596</td>\n",
       "      <td>1558</td>\n",
       "    </tr>\n",
       "  </tbody>\n",
       "</table>\n",
       "</div>"
      ],
      "text/plain": [
       "HBOS_pred         0     1\n",
       "Forest_pred              \n",
       "0            148319  6592\n",
       "1              6596  1558"
      ]
     },
     "execution_count": 110,
     "metadata": {},
     "output_type": "execute_result"
    }
   ],
   "source": [
    "pd.crosstab(Actual_preds['Forest_pred'],Actual_preds['HBOS_pred'])"
   ]
  },
  {
   "cell_type": "markdown",
   "metadata": {},
   "source": [
    "By cross-tabulate the HBOS and the Forest predictions, 1558 observations are identified by both models to be outliers."
   ]
  },
  {
   "cell_type": "code",
   "execution_count": 111,
   "metadata": {},
   "outputs": [
    {
     "data": {
      "text/html": [
       "<div>\n",
       "<style scoped>\n",
       "    .dataframe tbody tr th:only-of-type {\n",
       "        vertical-align: middle;\n",
       "    }\n",
       "\n",
       "    .dataframe tbody tr th {\n",
       "        vertical-align: top;\n",
       "    }\n",
       "\n",
       "    .dataframe thead th {\n",
       "        text-align: right;\n",
       "    }\n",
       "</style>\n",
       "<table border=\"1\" class=\"dataframe\">\n",
       "  <thead>\n",
       "    <tr style=\"text-align: right;\">\n",
       "      <th>ECOD_pred</th>\n",
       "      <th>0</th>\n",
       "      <th>1</th>\n",
       "    </tr>\n",
       "    <tr>\n",
       "      <th>Auto_pred</th>\n",
       "      <th></th>\n",
       "      <th></th>\n",
       "    </tr>\n",
       "  </thead>\n",
       "  <tbody>\n",
       "    <tr>\n",
       "      <th>0</th>\n",
       "      <td>152046</td>\n",
       "      <td>2865</td>\n",
       "    </tr>\n",
       "    <tr>\n",
       "      <th>1</th>\n",
       "      <td>2865</td>\n",
       "      <td>5289</td>\n",
       "    </tr>\n",
       "  </tbody>\n",
       "</table>\n",
       "</div>"
      ],
      "text/plain": [
       "ECOD_pred       0     1\n",
       "Auto_pred              \n",
       "0          152046  2865\n",
       "1            2865  5289"
      ]
     },
     "execution_count": 111,
     "metadata": {},
     "output_type": "execute_result"
    }
   ],
   "source": [
    "pd.crosstab(Actual_preds['Auto_pred'],Actual_preds['ECOD_pred'])"
   ]
  },
  {
   "cell_type": "markdown",
   "metadata": {},
   "source": [
    "By cross-tabulate the Autoencoder and the ECOD predictions, 5289 observations are identified by both models to be outliers."
   ]
  },
  {
   "cell_type": "code",
   "execution_count": 112,
   "metadata": {},
   "outputs": [
    {
     "data": {
      "text/html": [
       "<div>\n",
       "<style scoped>\n",
       "    .dataframe tbody tr th:only-of-type {\n",
       "        vertical-align: middle;\n",
       "    }\n",
       "\n",
       "    .dataframe tbody tr th {\n",
       "        vertical-align: top;\n",
       "    }\n",
       "\n",
       "    .dataframe thead th {\n",
       "        text-align: right;\n",
       "    }\n",
       "</style>\n",
       "<table border=\"1\" class=\"dataframe\">\n",
       "  <thead>\n",
       "    <tr style=\"text-align: right;\">\n",
       "      <th>ECOD_pred</th>\n",
       "      <th>0</th>\n",
       "      <th>1</th>\n",
       "    </tr>\n",
       "    <tr>\n",
       "      <th>Forest_pred</th>\n",
       "      <th></th>\n",
       "      <th></th>\n",
       "    </tr>\n",
       "  </thead>\n",
       "  <tbody>\n",
       "    <tr>\n",
       "      <th>0</th>\n",
       "      <td>151710</td>\n",
       "      <td>3201</td>\n",
       "    </tr>\n",
       "    <tr>\n",
       "      <th>1</th>\n",
       "      <td>3201</td>\n",
       "      <td>4953</td>\n",
       "    </tr>\n",
       "  </tbody>\n",
       "</table>\n",
       "</div>"
      ],
      "text/plain": [
       "ECOD_pred         0     1\n",
       "Forest_pred              \n",
       "0            151710  3201\n",
       "1              3201  4953"
      ]
     },
     "execution_count": 112,
     "metadata": {},
     "output_type": "execute_result"
    }
   ],
   "source": [
    "pd.crosstab(Actual_preds['Forest_pred'],Actual_preds['ECOD_pred'])"
   ]
  },
  {
   "cell_type": "markdown",
   "metadata": {},
   "source": [
    "By cross-tabulate the Forest and the ECOD predictions, 4953 observations are identified by both models to be outliers."
   ]
  },
  {
   "cell_type": "code",
   "execution_count": 113,
   "metadata": {},
   "outputs": [
    {
     "data": {
      "text/html": [
       "<div>\n",
       "<style scoped>\n",
       "    .dataframe tbody tr th:only-of-type {\n",
       "        vertical-align: middle;\n",
       "    }\n",
       "\n",
       "    .dataframe tbody tr th {\n",
       "        vertical-align: top;\n",
       "    }\n",
       "\n",
       "    .dataframe thead th {\n",
       "        text-align: right;\n",
       "    }\n",
       "</style>\n",
       "<table border=\"1\" class=\"dataframe\">\n",
       "  <thead>\n",
       "    <tr style=\"text-align: right;\">\n",
       "      <th>PCA_pred</th>\n",
       "      <th>0</th>\n",
       "      <th>1</th>\n",
       "    </tr>\n",
       "    <tr>\n",
       "      <th>Auto_pred</th>\n",
       "      <th></th>\n",
       "      <th></th>\n",
       "    </tr>\n",
       "  </thead>\n",
       "  <tbody>\n",
       "    <tr>\n",
       "      <th>0</th>\n",
       "      <td>154855</td>\n",
       "      <td>56</td>\n",
       "    </tr>\n",
       "    <tr>\n",
       "      <th>1</th>\n",
       "      <td>56</td>\n",
       "      <td>8098</td>\n",
       "    </tr>\n",
       "  </tbody>\n",
       "</table>\n",
       "</div>"
      ],
      "text/plain": [
       "PCA_pred        0     1\n",
       "Auto_pred              \n",
       "0          154855    56\n",
       "1              56  8098"
      ]
     },
     "execution_count": 113,
     "metadata": {},
     "output_type": "execute_result"
    }
   ],
   "source": [
    "pd.crosstab(Actual_preds['Auto_pred'],Actual_preds['PCA_pred'])"
   ]
  },
  {
   "cell_type": "markdown",
   "metadata": {},
   "source": [
    "By cross-tabulate the Autoencoder and the PCA predictions, 8098 observations are identified by both models to be outliers."
   ]
  },
  {
   "cell_type": "code",
   "execution_count": 114,
   "metadata": {},
   "outputs": [
    {
     "data": {
      "text/html": [
       "<div>\n",
       "<style scoped>\n",
       "    .dataframe tbody tr th:only-of-type {\n",
       "        vertical-align: middle;\n",
       "    }\n",
       "\n",
       "    .dataframe tbody tr th {\n",
       "        vertical-align: top;\n",
       "    }\n",
       "\n",
       "    .dataframe thead th {\n",
       "        text-align: right;\n",
       "    }\n",
       "</style>\n",
       "<table border=\"1\" class=\"dataframe\">\n",
       "  <thead>\n",
       "    <tr style=\"text-align: right;\">\n",
       "      <th>PCA_pred</th>\n",
       "      <th>0</th>\n",
       "      <th>1</th>\n",
       "    </tr>\n",
       "    <tr>\n",
       "      <th>Forest_pred</th>\n",
       "      <th></th>\n",
       "      <th></th>\n",
       "    </tr>\n",
       "  </thead>\n",
       "  <tbody>\n",
       "    <tr>\n",
       "      <th>0</th>\n",
       "      <td>153321</td>\n",
       "      <td>1590</td>\n",
       "    </tr>\n",
       "    <tr>\n",
       "      <th>1</th>\n",
       "      <td>1590</td>\n",
       "      <td>6564</td>\n",
       "    </tr>\n",
       "  </tbody>\n",
       "</table>\n",
       "</div>"
      ],
      "text/plain": [
       "PCA_pred          0     1\n",
       "Forest_pred              \n",
       "0            153321  1590\n",
       "1              1590  6564"
      ]
     },
     "execution_count": 114,
     "metadata": {},
     "output_type": "execute_result"
    }
   ],
   "source": [
    "pd.crosstab(Actual_preds['Forest_pred'],Actual_preds['PCA_pred'])"
   ]
  },
  {
   "cell_type": "markdown",
   "metadata": {},
   "source": [
    "By cross-tabulate the Forest and the PCA predictions, 6564 observations are identified by both models to be outliers."
   ]
  },
  {
   "cell_type": "markdown",
   "metadata": {},
   "source": [
    "Comparing all cross-tabulate, Autoencoder and PCA has the most observations that are joint outliers."
   ]
  }
 ],
 "metadata": {
  "kernelspec": {
   "display_name": "Python 3",
   "language": "python",
   "name": "python3"
  },
  "language_info": {
   "codemirror_mode": {
    "name": "ipython",
    "version": 3
   },
   "file_extension": ".py",
   "mimetype": "text/x-python",
   "name": "python",
   "nbconvert_exporter": "python",
   "pygments_lexer": "ipython3",
   "version": "3.8.8"
  }
 },
 "nbformat": 4,
 "nbformat_minor": 1
}
