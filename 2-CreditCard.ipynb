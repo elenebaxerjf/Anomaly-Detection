{
 "cells": [
  {
   "cell_type": "markdown",
   "metadata": {
    "pycharm": {
     "name": "#%% md\n"
    }
   },
   "source": [
    "Emily Ziyi Xiao\n",
    "9/27/2022\n",
    "Assignment 2"
   ]
  },
  {
   "cell_type": "markdown",
   "metadata": {
    "pycharm": {
     "name": "#%% md\n"
    }
   },
   "source": [
    "Data Import"
   ]
  },
  {
   "cell_type": "code",
   "execution_count": 228,
   "metadata": {
    "pycharm": {
     "name": "#%%\n"
    }
   },
   "outputs": [
    {
     "data": {
      "text/html": [
       "<div>\n",
       "<style scoped>\n",
       "    .dataframe tbody tr th:only-of-type {\n",
       "        vertical-align: middle;\n",
       "    }\n",
       "\n",
       "    .dataframe tbody tr th {\n",
       "        vertical-align: top;\n",
       "    }\n",
       "\n",
       "    .dataframe thead th {\n",
       "        text-align: right;\n",
       "    }\n",
       "</style>\n",
       "<table border=\"1\" class=\"dataframe\">\n",
       "  <thead>\n",
       "    <tr style=\"text-align: right;\">\n",
       "      <th></th>\n",
       "      <th>Year-Month</th>\n",
       "      <th>Agency Number</th>\n",
       "      <th>Agency Name</th>\n",
       "      <th>Cardholder Last Name</th>\n",
       "      <th>Cardholder First Initial</th>\n",
       "      <th>Description</th>\n",
       "      <th>Amount</th>\n",
       "      <th>Vendor</th>\n",
       "      <th>Transaction Date</th>\n",
       "      <th>Posted Date</th>\n",
       "      <th>Merchant Category Code (MCC)</th>\n",
       "    </tr>\n",
       "  </thead>\n",
       "  <tbody>\n",
       "    <tr>\n",
       "      <th>0</th>\n",
       "      <td>201307</td>\n",
       "      <td>1000</td>\n",
       "      <td>OKLAHOMA STATE UNIVERSITY</td>\n",
       "      <td>Mason</td>\n",
       "      <td>C</td>\n",
       "      <td>GENERAL PURCHASE</td>\n",
       "      <td>890.00</td>\n",
       "      <td>NACAS</td>\n",
       "      <td>07/30/2013 12:00:00 AM</td>\n",
       "      <td>07/31/2013 12:00:00 AM</td>\n",
       "      <td>CHARITABLE AND SOCIAL SERVICE ORGANIZATIONS</td>\n",
       "    </tr>\n",
       "    <tr>\n",
       "      <th>1</th>\n",
       "      <td>201307</td>\n",
       "      <td>1000</td>\n",
       "      <td>OKLAHOMA STATE UNIVERSITY</td>\n",
       "      <td>Mason</td>\n",
       "      <td>C</td>\n",
       "      <td>ROOM CHARGES</td>\n",
       "      <td>368.96</td>\n",
       "      <td>SHERATON HOTEL</td>\n",
       "      <td>07/30/2013 12:00:00 AM</td>\n",
       "      <td>07/31/2013 12:00:00 AM</td>\n",
       "      <td>SHERATON</td>\n",
       "    </tr>\n",
       "    <tr>\n",
       "      <th>2</th>\n",
       "      <td>201307</td>\n",
       "      <td>1000</td>\n",
       "      <td>OKLAHOMA STATE UNIVERSITY</td>\n",
       "      <td>Massey</td>\n",
       "      <td>J</td>\n",
       "      <td>GENERAL PURCHASE</td>\n",
       "      <td>165.82</td>\n",
       "      <td>SEARS.COM 9300</td>\n",
       "      <td>07/29/2013 12:00:00 AM</td>\n",
       "      <td>07/31/2013 12:00:00 AM</td>\n",
       "      <td>DIRCT MARKETING/DIRCT MARKETERS--NOT ELSEWHERE...</td>\n",
       "    </tr>\n",
       "    <tr>\n",
       "      <th>3</th>\n",
       "      <td>201307</td>\n",
       "      <td>1000</td>\n",
       "      <td>OKLAHOMA STATE UNIVERSITY</td>\n",
       "      <td>Massey</td>\n",
       "      <td>T</td>\n",
       "      <td>GENERAL PURCHASE</td>\n",
       "      <td>96.39</td>\n",
       "      <td>WAL-MART #0137</td>\n",
       "      <td>07/30/2013 12:00:00 AM</td>\n",
       "      <td>07/31/2013 12:00:00 AM</td>\n",
       "      <td>GROCERY STORES,AND SUPERMARKETS</td>\n",
       "    </tr>\n",
       "    <tr>\n",
       "      <th>4</th>\n",
       "      <td>201307</td>\n",
       "      <td>1000</td>\n",
       "      <td>OKLAHOMA STATE UNIVERSITY</td>\n",
       "      <td>Mauro-Herrera</td>\n",
       "      <td>M</td>\n",
       "      <td>HAMMERMILL COPY PLUS COPY EA</td>\n",
       "      <td>125.96</td>\n",
       "      <td>STAPLES DIRECT</td>\n",
       "      <td>07/30/2013 12:00:00 AM</td>\n",
       "      <td>07/31/2013 12:00:00 AM</td>\n",
       "      <td>STATIONERY, OFFICE SUPPLIES, PRINTING AND WRIT...</td>\n",
       "    </tr>\n",
       "  </tbody>\n",
       "</table>\n",
       "</div>"
      ],
      "text/plain": [
       "   Year-Month  Agency Number                Agency Name Cardholder Last Name  \\\n",
       "0      201307           1000  OKLAHOMA STATE UNIVERSITY                Mason   \n",
       "1      201307           1000  OKLAHOMA STATE UNIVERSITY                Mason   \n",
       "2      201307           1000  OKLAHOMA STATE UNIVERSITY               Massey   \n",
       "3      201307           1000  OKLAHOMA STATE UNIVERSITY               Massey   \n",
       "4      201307           1000  OKLAHOMA STATE UNIVERSITY        Mauro-Herrera   \n",
       "\n",
       "  Cardholder First Initial                   Description  Amount  \\\n",
       "0                        C              GENERAL PURCHASE  890.00   \n",
       "1                        C                  ROOM CHARGES  368.96   \n",
       "2                        J              GENERAL PURCHASE  165.82   \n",
       "3                        T              GENERAL PURCHASE   96.39   \n",
       "4                        M  HAMMERMILL COPY PLUS COPY EA  125.96   \n",
       "\n",
       "           Vendor        Transaction Date             Posted Date  \\\n",
       "0           NACAS  07/30/2013 12:00:00 AM  07/31/2013 12:00:00 AM   \n",
       "1  SHERATON HOTEL  07/30/2013 12:00:00 AM  07/31/2013 12:00:00 AM   \n",
       "2  SEARS.COM 9300  07/29/2013 12:00:00 AM  07/31/2013 12:00:00 AM   \n",
       "3  WAL-MART #0137  07/30/2013 12:00:00 AM  07/31/2013 12:00:00 AM   \n",
       "4  STAPLES DIRECT  07/30/2013 12:00:00 AM  07/31/2013 12:00:00 AM   \n",
       "\n",
       "                        Merchant Category Code (MCC)  \n",
       "0        CHARITABLE AND SOCIAL SERVICE ORGANIZATIONS  \n",
       "1                                           SHERATON  \n",
       "2  DIRCT MARKETING/DIRCT MARKETERS--NOT ELSEWHERE...  \n",
       "3                    GROCERY STORES,AND SUPERMARKETS  \n",
       "4  STATIONERY, OFFICE SUPPLIES, PRINTING AND WRIT...  "
      ]
     },
     "execution_count": 228,
     "metadata": {},
     "output_type": "execute_result"
    }
   ],
   "source": [
    "import pandas as pd\n",
    "import seaborn as sns\n",
    "import numpy as np\n",
    "\n",
    "data = pd.read_csv('purchase_credit_card.csv')\n",
    "data.head(5)"
   ]
  },
  {
   "cell_type": "code",
   "execution_count": 229,
   "metadata": {
    "pycharm": {
     "name": "#%%\n"
    }
   },
   "outputs": [
    {
     "name": "stdout",
     "output_type": "stream",
     "text": [
      "(442458, 11)\n",
      "Index(['Year-Month', 'Agency Number', 'Agency Name', 'Cardholder Last Name',\n",
      "       'Cardholder First Initial', 'Description', 'Amount', 'Vendor',\n",
      "       'Transaction Date', 'Posted Date', 'Merchant Category Code (MCC)'],\n",
      "      dtype='object')\n"
     ]
    },
    {
     "data": {
      "text/html": [
       "<div>\n",
       "<style scoped>\n",
       "    .dataframe tbody tr th:only-of-type {\n",
       "        vertical-align: middle;\n",
       "    }\n",
       "\n",
       "    .dataframe tbody tr th {\n",
       "        vertical-align: top;\n",
       "    }\n",
       "\n",
       "    .dataframe thead th {\n",
       "        text-align: right;\n",
       "    }\n",
       "</style>\n",
       "<table border=\"1\" class=\"dataframe\">\n",
       "  <thead>\n",
       "    <tr style=\"text-align: right;\">\n",
       "      <th></th>\n",
       "      <th>Year-Month</th>\n",
       "      <th>Agency Number</th>\n",
       "      <th>Amount</th>\n",
       "    </tr>\n",
       "  </thead>\n",
       "  <tbody>\n",
       "    <tr>\n",
       "      <th>count</th>\n",
       "      <td>442458.000000</td>\n",
       "      <td>442458.000000</td>\n",
       "      <td>4.424580e+05</td>\n",
       "    </tr>\n",
       "    <tr>\n",
       "      <th>mean</th>\n",
       "      <td>201357.284375</td>\n",
       "      <td>42785.860353</td>\n",
       "      <td>4.249912e+02</td>\n",
       "    </tr>\n",
       "    <tr>\n",
       "      <th>std</th>\n",
       "      <td>47.107417</td>\n",
       "      <td>33378.461293</td>\n",
       "      <td>5.266509e+03</td>\n",
       "    </tr>\n",
       "    <tr>\n",
       "      <th>min</th>\n",
       "      <td>201307.000000</td>\n",
       "      <td>1000.000000</td>\n",
       "      <td>-4.286304e+04</td>\n",
       "    </tr>\n",
       "    <tr>\n",
       "      <th>25%</th>\n",
       "      <td>201309.000000</td>\n",
       "      <td>1000.000000</td>\n",
       "      <td>3.091000e+01</td>\n",
       "    </tr>\n",
       "    <tr>\n",
       "      <th>50%</th>\n",
       "      <td>201401.000000</td>\n",
       "      <td>47700.000000</td>\n",
       "      <td>1.048900e+02</td>\n",
       "    </tr>\n",
       "    <tr>\n",
       "      <th>75%</th>\n",
       "      <td>201404.000000</td>\n",
       "      <td>76000.000000</td>\n",
       "      <td>3.450000e+02</td>\n",
       "    </tr>\n",
       "    <tr>\n",
       "      <th>max</th>\n",
       "      <td>201406.000000</td>\n",
       "      <td>98000.000000</td>\n",
       "      <td>1.903858e+06</td>\n",
       "    </tr>\n",
       "  </tbody>\n",
       "</table>\n",
       "</div>"
      ],
      "text/plain": [
       "          Year-Month  Agency Number        Amount\n",
       "count  442458.000000  442458.000000  4.424580e+05\n",
       "mean   201357.284375   42785.860353  4.249912e+02\n",
       "std        47.107417   33378.461293  5.266509e+03\n",
       "min    201307.000000    1000.000000 -4.286304e+04\n",
       "25%    201309.000000    1000.000000  3.091000e+01\n",
       "50%    201401.000000   47700.000000  1.048900e+02\n",
       "75%    201404.000000   76000.000000  3.450000e+02\n",
       "max    201406.000000   98000.000000  1.903858e+06"
      ]
     },
     "execution_count": 229,
     "metadata": {},
     "output_type": "execute_result"
    }
   ],
   "source": [
    "print(data.shape)\n",
    "print(data.columns) # check column names\n",
    "data.describe() # Get the Simple Summary Statistics"
   ]
  },
  {
   "cell_type": "markdown",
   "metadata": {
    "pycharm": {
     "name": "#%% md\n"
    }
   },
   "source": [
    "Data Preparation"
   ]
  },
  {
   "cell_type": "code",
   "execution_count": 230,
   "metadata": {
    "pycharm": {
     "name": "#%%\n"
    }
   },
   "outputs": [
    {
     "data": {
      "text/html": [
       "<div>\n",
       "<style scoped>\n",
       "    .dataframe tbody tr th:only-of-type {\n",
       "        vertical-align: middle;\n",
       "    }\n",
       "\n",
       "    .dataframe tbody tr th {\n",
       "        vertical-align: top;\n",
       "    }\n",
       "\n",
       "    .dataframe thead th {\n",
       "        text-align: right;\n",
       "    }\n",
       "</style>\n",
       "<table border=\"1\" class=\"dataframe\">\n",
       "  <thead>\n",
       "    <tr style=\"text-align: right;\">\n",
       "      <th></th>\n",
       "      <th>Year_Month</th>\n",
       "      <th>Agency_Number</th>\n",
       "      <th>Agency_Name</th>\n",
       "      <th>Cardholder_Last_Name</th>\n",
       "      <th>Cardholder_First_Initial</th>\n",
       "      <th>Description</th>\n",
       "      <th>Amount</th>\n",
       "      <th>Vendor</th>\n",
       "      <th>Transaction_Date</th>\n",
       "      <th>Posted_Date</th>\n",
       "      <th>Merchant_Category</th>\n",
       "    </tr>\n",
       "  </thead>\n",
       "  <tbody>\n",
       "    <tr>\n",
       "      <th>0</th>\n",
       "      <td>201307</td>\n",
       "      <td>1000</td>\n",
       "      <td>OKLAHOMA STATE UNIVERSITY</td>\n",
       "      <td>Mason</td>\n",
       "      <td>C</td>\n",
       "      <td>GENERAL PURCHASE</td>\n",
       "      <td>890.00</td>\n",
       "      <td>NACAS</td>\n",
       "      <td>07/30/2013 12:00:00 AM</td>\n",
       "      <td>07/31/2013 12:00:00 AM</td>\n",
       "      <td>CHARITABLE AND SOCIAL SERVICE ORGANIZATIONS</td>\n",
       "    </tr>\n",
       "    <tr>\n",
       "      <th>1</th>\n",
       "      <td>201307</td>\n",
       "      <td>1000</td>\n",
       "      <td>OKLAHOMA STATE UNIVERSITY</td>\n",
       "      <td>Mason</td>\n",
       "      <td>C</td>\n",
       "      <td>ROOM CHARGES</td>\n",
       "      <td>368.96</td>\n",
       "      <td>SHERATON HOTEL</td>\n",
       "      <td>07/30/2013 12:00:00 AM</td>\n",
       "      <td>07/31/2013 12:00:00 AM</td>\n",
       "      <td>SHERATON</td>\n",
       "    </tr>\n",
       "    <tr>\n",
       "      <th>2</th>\n",
       "      <td>201307</td>\n",
       "      <td>1000</td>\n",
       "      <td>OKLAHOMA STATE UNIVERSITY</td>\n",
       "      <td>Massey</td>\n",
       "      <td>J</td>\n",
       "      <td>GENERAL PURCHASE</td>\n",
       "      <td>165.82</td>\n",
       "      <td>SEARS.COM 9300</td>\n",
       "      <td>07/29/2013 12:00:00 AM</td>\n",
       "      <td>07/31/2013 12:00:00 AM</td>\n",
       "      <td>DIRCT MARKETING/DIRCT MARKETERS--NOT ELSEWHERE...</td>\n",
       "    </tr>\n",
       "    <tr>\n",
       "      <th>3</th>\n",
       "      <td>201307</td>\n",
       "      <td>1000</td>\n",
       "      <td>OKLAHOMA STATE UNIVERSITY</td>\n",
       "      <td>Massey</td>\n",
       "      <td>T</td>\n",
       "      <td>GENERAL PURCHASE</td>\n",
       "      <td>96.39</td>\n",
       "      <td>WAL-MART #0137</td>\n",
       "      <td>07/30/2013 12:00:00 AM</td>\n",
       "      <td>07/31/2013 12:00:00 AM</td>\n",
       "      <td>GROCERY STORES,AND SUPERMARKETS</td>\n",
       "    </tr>\n",
       "    <tr>\n",
       "      <th>4</th>\n",
       "      <td>201307</td>\n",
       "      <td>1000</td>\n",
       "      <td>OKLAHOMA STATE UNIVERSITY</td>\n",
       "      <td>Mauro-Herrera</td>\n",
       "      <td>M</td>\n",
       "      <td>HAMMERMILL COPY PLUS COPY EA</td>\n",
       "      <td>125.96</td>\n",
       "      <td>STAPLES DIRECT</td>\n",
       "      <td>07/30/2013 12:00:00 AM</td>\n",
       "      <td>07/31/2013 12:00:00 AM</td>\n",
       "      <td>STATIONERY, OFFICE SUPPLIES, PRINTING AND WRIT...</td>\n",
       "    </tr>\n",
       "  </tbody>\n",
       "</table>\n",
       "</div>"
      ],
      "text/plain": [
       "   Year_Month  Agency_Number                Agency_Name Cardholder_Last_Name  \\\n",
       "0      201307           1000  OKLAHOMA STATE UNIVERSITY                Mason   \n",
       "1      201307           1000  OKLAHOMA STATE UNIVERSITY                Mason   \n",
       "2      201307           1000  OKLAHOMA STATE UNIVERSITY               Massey   \n",
       "3      201307           1000  OKLAHOMA STATE UNIVERSITY               Massey   \n",
       "4      201307           1000  OKLAHOMA STATE UNIVERSITY        Mauro-Herrera   \n",
       "\n",
       "  Cardholder_First_Initial                   Description  Amount  \\\n",
       "0                        C              GENERAL PURCHASE  890.00   \n",
       "1                        C                  ROOM CHARGES  368.96   \n",
       "2                        J              GENERAL PURCHASE  165.82   \n",
       "3                        T              GENERAL PURCHASE   96.39   \n",
       "4                        M  HAMMERMILL COPY PLUS COPY EA  125.96   \n",
       "\n",
       "           Vendor        Transaction_Date             Posted_Date  \\\n",
       "0           NACAS  07/30/2013 12:00:00 AM  07/31/2013 12:00:00 AM   \n",
       "1  SHERATON HOTEL  07/30/2013 12:00:00 AM  07/31/2013 12:00:00 AM   \n",
       "2  SEARS.COM 9300  07/29/2013 12:00:00 AM  07/31/2013 12:00:00 AM   \n",
       "3  WAL-MART #0137  07/30/2013 12:00:00 AM  07/31/2013 12:00:00 AM   \n",
       "4  STAPLES DIRECT  07/30/2013 12:00:00 AM  07/31/2013 12:00:00 AM   \n",
       "\n",
       "                                   Merchant_Category  \n",
       "0        CHARITABLE AND SOCIAL SERVICE ORGANIZATIONS  \n",
       "1                                           SHERATON  \n",
       "2  DIRCT MARKETING/DIRCT MARKETERS--NOT ELSEWHERE...  \n",
       "3                    GROCERY STORES,AND SUPERMARKETS  \n",
       "4  STATIONERY, OFFICE SUPPLIES, PRINTING AND WRIT...  "
      ]
     },
     "execution_count": 230,
     "metadata": {},
     "output_type": "execute_result"
    }
   ],
   "source": [
    "# change column names\n",
    "data.columns = ['Year_Month', 'Agency_Number', 'Agency_Name', 'Cardholder_Last_Name',\n",
    "              'Cardholder_First_Initial', 'Description', 'Amount', 'Vendor', 'Transaction_Date',\n",
    "              'Posted_Date', 'Merchant_Category']\n",
    "data.head(5)"
   ]
  },
  {
   "cell_type": "code",
   "execution_count": 231,
   "metadata": {
    "pycharm": {
     "name": "#%%\n"
    }
   },
   "outputs": [
    {
     "data": {
      "text/plain": [
       "Wednesday    89644\n",
       "Thursday     87537\n",
       "Tuesday      86919\n",
       "Friday       79917\n",
       "Monday       61809\n",
       "Saturday     26307\n",
       "Sunday       10325\n",
       "Name: Day_of_Week, dtype: int64"
      ]
     },
     "execution_count": 231,
     "metadata": {},
     "output_type": "execute_result"
    }
   ],
   "source": [
    "#Creating separate Year and Month columns for future feature engineering\n",
    "# Converting Transaction_Date and Posted_date from Python Object data type to datetime\n",
    "data['Transaction_Date']=pd.to_datetime(data['Transaction_Date'])\n",
    "data['Posted_Date']=pd.to_datetime(data['Posted_Date'])\n",
    "\n",
    "data['Year_Month'].dtype\n",
    "data['Year_Month']=pd.to_datetime(data['Year_Month'], format='%Y%m')\n",
    "data['Year'] = data['Year_Month'].dt.year\n",
    "data['Month'] = data['Year_Month'].dt.month\n",
    "#Creating 'Week_Number' from 'Transaction_Date'\n",
    "data['Week_Number'] = data['Transaction_Date'].dt.isocalendar().week\n",
    "\n",
    "#Creating 'Day_of_Week' from 'Transaction_Date'\n",
    "dayOfWeek={0:'Monday', 1:'Tuesday', 2:'Wednesday', 3:'Thursday', 4:'Friday', 5:'Saturday', 6:'Sunday'}\n",
    "data['Day_of_Week'] = data['Transaction_Date'].dt.dayofweek.map(dayOfWeek)\n",
    "\n",
    "data['Day_of_Week'].value_counts()"
   ]
  },
  {
   "cell_type": "code",
   "execution_count": 232,
   "metadata": {
    "pycharm": {
     "name": "#%%\n"
    }
   },
   "outputs": [
    {
     "data": {
      "text/html": [
       "<div>\n",
       "<style scoped>\n",
       "    .dataframe tbody tr th:only-of-type {\n",
       "        vertical-align: middle;\n",
       "    }\n",
       "\n",
       "    .dataframe tbody tr th {\n",
       "        vertical-align: top;\n",
       "    }\n",
       "\n",
       "    .dataframe thead th {\n",
       "        text-align: right;\n",
       "    }\n",
       "</style>\n",
       "<table border=\"1\" class=\"dataframe\">\n",
       "  <thead>\n",
       "    <tr style=\"text-align: right;\">\n",
       "      <th></th>\n",
       "      <th>Year_Month</th>\n",
       "      <th>Agency_Number</th>\n",
       "      <th>Agency_Name</th>\n",
       "      <th>Cardholder_Last_Name</th>\n",
       "      <th>Cardholder_First_Initial</th>\n",
       "      <th>Description</th>\n",
       "      <th>Amount</th>\n",
       "      <th>Vendor</th>\n",
       "      <th>Transaction_Date</th>\n",
       "      <th>Posted_Date</th>\n",
       "      <th>Merchant_Category</th>\n",
       "      <th>Year</th>\n",
       "      <th>Month</th>\n",
       "      <th>Week_Number</th>\n",
       "      <th>Day_of_Week</th>\n",
       "    </tr>\n",
       "  </thead>\n",
       "  <tbody>\n",
       "    <tr>\n",
       "      <th>0</th>\n",
       "      <td>2013-07-01</td>\n",
       "      <td>1000</td>\n",
       "      <td>OKLAHOMA STATE UNIVERSITY</td>\n",
       "      <td>Mason</td>\n",
       "      <td>C</td>\n",
       "      <td>GENERAL PURCHASE</td>\n",
       "      <td>890.00</td>\n",
       "      <td>NACAS</td>\n",
       "      <td>2013-07-30</td>\n",
       "      <td>2013-07-31</td>\n",
       "      <td>CHARITABLE AND SOCIAL SERVICE ORGANIZATIONS</td>\n",
       "      <td>2013</td>\n",
       "      <td>7</td>\n",
       "      <td>31</td>\n",
       "      <td>Tuesday</td>\n",
       "    </tr>\n",
       "    <tr>\n",
       "      <th>1</th>\n",
       "      <td>2013-07-01</td>\n",
       "      <td>1000</td>\n",
       "      <td>OKLAHOMA STATE UNIVERSITY</td>\n",
       "      <td>Mason</td>\n",
       "      <td>C</td>\n",
       "      <td>ROOM CHARGES</td>\n",
       "      <td>368.96</td>\n",
       "      <td>SHERATON HOTEL</td>\n",
       "      <td>2013-07-30</td>\n",
       "      <td>2013-07-31</td>\n",
       "      <td>SHERATON</td>\n",
       "      <td>2013</td>\n",
       "      <td>7</td>\n",
       "      <td>31</td>\n",
       "      <td>Tuesday</td>\n",
       "    </tr>\n",
       "    <tr>\n",
       "      <th>2</th>\n",
       "      <td>2013-07-01</td>\n",
       "      <td>1000</td>\n",
       "      <td>OKLAHOMA STATE UNIVERSITY</td>\n",
       "      <td>Massey</td>\n",
       "      <td>J</td>\n",
       "      <td>GENERAL PURCHASE</td>\n",
       "      <td>165.82</td>\n",
       "      <td>SEARS.COM 9300</td>\n",
       "      <td>2013-07-29</td>\n",
       "      <td>2013-07-31</td>\n",
       "      <td>DIRCT MARKETING/DIRCT MARKETERS--NOT ELSEWHERE...</td>\n",
       "      <td>2013</td>\n",
       "      <td>7</td>\n",
       "      <td>31</td>\n",
       "      <td>Monday</td>\n",
       "    </tr>\n",
       "    <tr>\n",
       "      <th>3</th>\n",
       "      <td>2013-07-01</td>\n",
       "      <td>1000</td>\n",
       "      <td>OKLAHOMA STATE UNIVERSITY</td>\n",
       "      <td>Massey</td>\n",
       "      <td>T</td>\n",
       "      <td>GENERAL PURCHASE</td>\n",
       "      <td>96.39</td>\n",
       "      <td>WAL-MART #0137</td>\n",
       "      <td>2013-07-30</td>\n",
       "      <td>2013-07-31</td>\n",
       "      <td>GROCERY STORES,AND SUPERMARKETS</td>\n",
       "      <td>2013</td>\n",
       "      <td>7</td>\n",
       "      <td>31</td>\n",
       "      <td>Tuesday</td>\n",
       "    </tr>\n",
       "    <tr>\n",
       "      <th>4</th>\n",
       "      <td>2013-07-01</td>\n",
       "      <td>1000</td>\n",
       "      <td>OKLAHOMA STATE UNIVERSITY</td>\n",
       "      <td>Mauro-Herrera</td>\n",
       "      <td>M</td>\n",
       "      <td>HAMMERMILL COPY PLUS COPY EA</td>\n",
       "      <td>125.96</td>\n",
       "      <td>STAPLES DIRECT</td>\n",
       "      <td>2013-07-30</td>\n",
       "      <td>2013-07-31</td>\n",
       "      <td>STATIONERY, OFFICE SUPPLIES, PRINTING AND WRIT...</td>\n",
       "      <td>2013</td>\n",
       "      <td>7</td>\n",
       "      <td>31</td>\n",
       "      <td>Tuesday</td>\n",
       "    </tr>\n",
       "  </tbody>\n",
       "</table>\n",
       "</div>"
      ],
      "text/plain": [
       "  Year_Month  Agency_Number                Agency_Name Cardholder_Last_Name  \\\n",
       "0 2013-07-01           1000  OKLAHOMA STATE UNIVERSITY                Mason   \n",
       "1 2013-07-01           1000  OKLAHOMA STATE UNIVERSITY                Mason   \n",
       "2 2013-07-01           1000  OKLAHOMA STATE UNIVERSITY               Massey   \n",
       "3 2013-07-01           1000  OKLAHOMA STATE UNIVERSITY               Massey   \n",
       "4 2013-07-01           1000  OKLAHOMA STATE UNIVERSITY        Mauro-Herrera   \n",
       "\n",
       "  Cardholder_First_Initial                   Description  Amount  \\\n",
       "0                        C              GENERAL PURCHASE  890.00   \n",
       "1                        C                  ROOM CHARGES  368.96   \n",
       "2                        J              GENERAL PURCHASE  165.82   \n",
       "3                        T              GENERAL PURCHASE   96.39   \n",
       "4                        M  HAMMERMILL COPY PLUS COPY EA  125.96   \n",
       "\n",
       "           Vendor Transaction_Date Posted_Date  \\\n",
       "0           NACAS       2013-07-30  2013-07-31   \n",
       "1  SHERATON HOTEL       2013-07-30  2013-07-31   \n",
       "2  SEARS.COM 9300       2013-07-29  2013-07-31   \n",
       "3  WAL-MART #0137       2013-07-30  2013-07-31   \n",
       "4  STAPLES DIRECT       2013-07-30  2013-07-31   \n",
       "\n",
       "                                   Merchant_Category  Year  Month  \\\n",
       "0        CHARITABLE AND SOCIAL SERVICE ORGANIZATIONS  2013      7   \n",
       "1                                           SHERATON  2013      7   \n",
       "2  DIRCT MARKETING/DIRCT MARKETERS--NOT ELSEWHERE...  2013      7   \n",
       "3                    GROCERY STORES,AND SUPERMARKETS  2013      7   \n",
       "4  STATIONERY, OFFICE SUPPLIES, PRINTING AND WRIT...  2013      7   \n",
       "\n",
       "   Week_Number Day_of_Week  \n",
       "0           31     Tuesday  \n",
       "1           31     Tuesday  \n",
       "2           31      Monday  \n",
       "3           31     Tuesday  \n",
       "4           31     Tuesday  "
      ]
     },
     "execution_count": 232,
     "metadata": {},
     "output_type": "execute_result"
    }
   ],
   "source": [
    "data.head(5)"
   ]
  },
  {
   "cell_type": "markdown",
   "metadata": {
    "pycharm": {
     "name": "#%% md\n"
    }
   },
   "source": [
    "# Feature 1: ratio of amount spending and mean spending by merchant category"
   ]
  },
  {
   "cell_type": "code",
   "execution_count": 233,
   "metadata": {
    "pycharm": {
     "name": "#%%\n"
    }
   },
   "outputs": [
    {
     "data": {
      "text/html": [
       "<div>\n",
       "<style scoped>\n",
       "    .dataframe tbody tr th:only-of-type {\n",
       "        vertical-align: middle;\n",
       "    }\n",
       "\n",
       "    .dataframe tbody tr th {\n",
       "        vertical-align: top;\n",
       "    }\n",
       "\n",
       "    .dataframe thead th {\n",
       "        text-align: right;\n",
       "    }\n",
       "</style>\n",
       "<table border=\"1\" class=\"dataframe\">\n",
       "  <thead>\n",
       "    <tr style=\"text-align: right;\">\n",
       "      <th></th>\n",
       "      <th></th>\n",
       "      <th>AVG_amount</th>\n",
       "    </tr>\n",
       "    <tr>\n",
       "      <th>Agency_Name</th>\n",
       "      <th>Merchant_Category</th>\n",
       "      <th></th>\n",
       "    </tr>\n",
       "  </thead>\n",
       "  <tbody>\n",
       "    <tr>\n",
       "      <th rowspan=\"5\" valign=\"top\">ARDMORE HIGHER EDUCATION CENTER</th>\n",
       "      <th>BUSINESS SERVICES NOT ELSEWHERE CLASSIFIED</th>\n",
       "      <td>115.120000</td>\n",
       "    </tr>\n",
       "    <tr>\n",
       "      <th>CATALOG MERCHANTS</th>\n",
       "      <td>-53.344286</td>\n",
       "    </tr>\n",
       "    <tr>\n",
       "      <th>COMPUTER NETWORK/INFORMATION SERVICES</th>\n",
       "      <td>18.340000</td>\n",
       "    </tr>\n",
       "    <tr>\n",
       "      <th>DRUG STORES AND PHARMACIES</th>\n",
       "      <td>153.450000</td>\n",
       "    </tr>\n",
       "    <tr>\n",
       "      <th>GROCERY STORES,AND SUPERMARKETS</th>\n",
       "      <td>74.525455</td>\n",
       "    </tr>\n",
       "    <tr>\n",
       "      <th>...</th>\n",
       "      <th>...</th>\n",
       "      <td>...</td>\n",
       "    </tr>\n",
       "    <tr>\n",
       "      <th rowspan=\"5\" valign=\"top\">`DEPARTMENT OF EDUCATION</th>\n",
       "      <th>TELECOMMUNICATION SERVICES</th>\n",
       "      <td>118.054000</td>\n",
       "    </tr>\n",
       "    <tr>\n",
       "      <th>TRAVEL AGENCIES</th>\n",
       "      <td>24.253731</td>\n",
       "    </tr>\n",
       "    <tr>\n",
       "      <th>TROPICANA RESORT AND CASINO</th>\n",
       "      <td>481.600000</td>\n",
       "    </tr>\n",
       "    <tr>\n",
       "      <th>UNITED AIRLINES</th>\n",
       "      <td>310.547368</td>\n",
       "    </tr>\n",
       "    <tr>\n",
       "      <th>WYNDHAM HOTELS</th>\n",
       "      <td>93.282857</td>\n",
       "    </tr>\n",
       "  </tbody>\n",
       "</table>\n",
       "<p>8427 rows × 1 columns</p>\n",
       "</div>"
      ],
      "text/plain": [
       "                                                                            AVG_amount\n",
       "Agency_Name                     Merchant_Category                                     \n",
       "ARDMORE HIGHER EDUCATION CENTER BUSINESS SERVICES NOT ELSEWHERE CLASSIFIED  115.120000\n",
       "                                CATALOG MERCHANTS                           -53.344286\n",
       "                                COMPUTER NETWORK/INFORMATION SERVICES        18.340000\n",
       "                                DRUG STORES AND PHARMACIES                  153.450000\n",
       "                                GROCERY STORES,AND SUPERMARKETS              74.525455\n",
       "...                                                                                ...\n",
       "`DEPARTMENT OF EDUCATION        TELECOMMUNICATION SERVICES                  118.054000\n",
       "                                TRAVEL AGENCIES                              24.253731\n",
       "                                TROPICANA RESORT AND CASINO                 481.600000\n",
       "                                UNITED AIRLINES                             310.547368\n",
       "                                WYNDHAM HOTELS                               93.282857\n",
       "\n",
       "[8427 rows x 1 columns]"
      ]
     },
     "execution_count": 233,
     "metadata": {},
     "output_type": "execute_result"
    }
   ],
   "source": [
    "# create average spending group by agency and merchant category\n",
    "stat_by_agency = data.groupby(['Agency_Name', 'Merchant_Category'])['Amount'].mean()\n",
    "stat_by_agency = pd.DataFrame(stat_by_agency)\n",
    "stat_by_agency.columns = ['AVG_amount']\n",
    "stat_by_agency"
   ]
  },
  {
   "cell_type": "code",
   "execution_count": 234,
   "metadata": {
    "pycharm": {
     "name": "#%%\n"
    }
   },
   "outputs": [
    {
     "data": {
      "text/plain": [
       "count    4.424580e+05\n",
       "mean     9.895609e-01\n",
       "std      7.547215e+13\n",
       "min     -2.191001e+16\n",
       "25%      1.771615e-01\n",
       "50%      5.153201e-01\n",
       "75%      1.102916e+00\n",
       "max      2.191001e+16\n",
       "Name: agency_merchant_avg_ratio_amount, dtype: float64"
      ]
     },
     "execution_count": 234,
     "metadata": {},
     "output_type": "execute_result"
    }
   ],
   "source": [
    "# add the new feature average spending to the dataset\n",
    "data1 = pd.merge(data, stat_by_agency, how='left', on=['Agency_Name', 'Merchant_Category'])\n",
    "# Feature 1: ratio of amount spending and mean spending by merchant category\n",
    "data1['agency_merchant_avg_ratio_amount'] = np.where(data1['AVG_amount']==0,0, data1['Amount'] / data1['AVG_amount'])\n",
    "data1['agency_merchant_avg_ratio_amount'].describe()"
   ]
  },
  {
   "cell_type": "markdown",
   "metadata": {
    "pycharm": {
     "name": "#%% md\n"
    }
   },
   "source": [
    "This feature is generated in the example. It is possible that comparing a cardholder to his agency could find outliers, so we have the ratio of amount spending and mean spending by merchant category."
   ]
  },
  {
   "cell_type": "code",
   "execution_count": 235,
   "metadata": {
    "pycharm": {
     "name": "#%%\n"
    }
   },
   "outputs": [
    {
     "data": {
      "text/html": [
       "<div>\n",
       "<style scoped>\n",
       "    .dataframe tbody tr th:only-of-type {\n",
       "        vertical-align: middle;\n",
       "    }\n",
       "\n",
       "    .dataframe tbody tr th {\n",
       "        vertical-align: top;\n",
       "    }\n",
       "\n",
       "    .dataframe thead th {\n",
       "        text-align: right;\n",
       "    }\n",
       "</style>\n",
       "<table border=\"1\" class=\"dataframe\">\n",
       "  <thead>\n",
       "    <tr style=\"text-align: right;\">\n",
       "      <th></th>\n",
       "      <th>agency_merchant_avg_ratio_amount_D</th>\n",
       "    </tr>\n",
       "  </thead>\n",
       "  <tbody>\n",
       "    <tr>\n",
       "      <th>0</th>\n",
       "      <td>(1.298, 3.515]</td>\n",
       "    </tr>\n",
       "    <tr>\n",
       "      <th>1</th>\n",
       "      <td>(0.515, 1.298]</td>\n",
       "    </tr>\n",
       "    <tr>\n",
       "      <th>2</th>\n",
       "      <td>(0.133, 0.515]</td>\n",
       "    </tr>\n",
       "    <tr>\n",
       "      <th>3</th>\n",
       "      <td>(1.298, 3.515]</td>\n",
       "    </tr>\n",
       "    <tr>\n",
       "      <th>4</th>\n",
       "      <td>(0.133, 0.515]</td>\n",
       "    </tr>\n",
       "    <tr>\n",
       "      <th>...</th>\n",
       "      <td>...</td>\n",
       "    </tr>\n",
       "    <tr>\n",
       "      <th>442453</th>\n",
       "      <td>(0.515, 1.298]</td>\n",
       "    </tr>\n",
       "    <tr>\n",
       "      <th>442454</th>\n",
       "      <td>(0.133, 0.515]</td>\n",
       "    </tr>\n",
       "    <tr>\n",
       "      <th>442455</th>\n",
       "      <td>(0.0212, 0.133]</td>\n",
       "    </tr>\n",
       "    <tr>\n",
       "      <th>442456</th>\n",
       "      <td>(8.712, 2.1910012187157464e+16]</td>\n",
       "    </tr>\n",
       "    <tr>\n",
       "      <th>442457</th>\n",
       "      <td>(1.298, 3.515]</td>\n",
       "    </tr>\n",
       "  </tbody>\n",
       "</table>\n",
       "<p>442458 rows × 1 columns</p>\n",
       "</div>"
      ],
      "text/plain": [
       "       agency_merchant_avg_ratio_amount_D\n",
       "0                          (1.298, 3.515]\n",
       "1                          (0.515, 1.298]\n",
       "2                          (0.133, 0.515]\n",
       "3                          (1.298, 3.515]\n",
       "4                          (0.133, 0.515]\n",
       "...                                   ...\n",
       "442453                     (0.515, 1.298]\n",
       "442454                     (0.133, 0.515]\n",
       "442455                    (0.0212, 0.133]\n",
       "442456    (8.712, 2.1910012187157464e+16]\n",
       "442457                     (1.298, 3.515]\n",
       "\n",
       "[442458 rows x 1 columns]"
      ]
     },
     "execution_count": 235,
     "metadata": {},
     "output_type": "execute_result"
    }
   ],
   "source": [
    "# cut by percentile for plotting\n",
    "var = 'agency_merchant_avg_ratio_amount'\n",
    "binned_var = var + '_D'\n",
    "percentile = [0,0.01,0.05,0.2,0.5,0.8,0.95,0.99,1]\n",
    "data1[binned_var] = pd.qcut( data1[var],percentile)\n",
    "data1[['agency_merchant_avg_ratio_amount_D']]"
   ]
  },
  {
   "cell_type": "code",
   "execution_count": 236,
   "metadata": {
    "pycharm": {
     "name": "#%%\n"
    }
   },
   "outputs": [
    {
     "data": {
      "text/plain": [
       "<AxesSubplot:xlabel='agency_merchant_avg_ratio_amount_D', ylabel='count'>"
      ]
     },
     "execution_count": 236,
     "metadata": {},
     "output_type": "execute_result"
    },
    {
     "data": {
      "image/png": "[encoded data removed]",
      "text/plain": [
       "<Figure size 432x288 with 1 Axes>"
      ]
     },
     "metadata": {},
     "output_type": "display_data"
    }
   ],
   "source": [
    "sns.countplot(x=\"agency_merchant_avg_ratio_amount_D\", data=data1)"
   ]
  },
  {
   "cell_type": "code",
   "execution_count": 237,
   "metadata": {
    "pycharm": {
     "name": "#%%\n"
    }
   },
   "outputs": [
    {
     "data": {
      "text/plain": [
       "[Text(0, 0, '(-2.1910012187157464e+16, -0.682]'),\n",
       " Text(1, 0, '(-0.682, 0.0212]'),\n",
       " Text(2, 0, '(0.0212, 0.133]'),\n",
       " Text(3, 0, '(0.133, 0.515]'),\n",
       " Text(4, 0, '(0.515, 1.298]'),\n",
       " Text(5, 0, '(1.298, 3.515]'),\n",
       " Text(6, 0, '(3.515, 8.712]'),\n",
       " Text(7, 0, '(8.712, 2.1910012187157464e+16]')]"
      ]
     },
     "execution_count": 237,
     "metadata": {},
     "output_type": "execute_result"
    },
    {
     "data": {
      "image/png": "[encoded data removed]",
      "text/plain": [
       "<Figure size 432x288 with 1 Axes>"
      ]
     },
     "metadata": {},
     "output_type": "display_data"
    }
   ],
   "source": [
    "import matplotlib.pyplot as plt\n",
    "plt.figure(figsize=(6,4))\n",
    "g = sns.countplot(x=\"agency_merchant_avg_ratio_amount_D\", data=data1)\n",
    "g.set_xticklabels(g.get_xticklabels(), rotation=90)"
   ]
  },
  {
   "cell_type": "code",
   "execution_count": 238,
   "metadata": {
    "pycharm": {
     "name": "#%%\n"
    }
   },
   "outputs": [
    {
     "data": {
      "text/html": [
       "<div>\n",
       "<style scoped>\n",
       "    .dataframe tbody tr th:only-of-type {\n",
       "        vertical-align: middle;\n",
       "    }\n",
       "\n",
       "    .dataframe tbody tr th {\n",
       "        vertical-align: top;\n",
       "    }\n",
       "\n",
       "    .dataframe thead th {\n",
       "        text-align: right;\n",
       "    }\n",
       "</style>\n",
       "<table border=\"1\" class=\"dataframe\">\n",
       "  <thead>\n",
       "    <tr style=\"text-align: right;\">\n",
       "      <th></th>\n",
       "      <th>Year_Month</th>\n",
       "      <th>Agency_Number</th>\n",
       "      <th>Agency_Name</th>\n",
       "      <th>Cardholder_Last_Name</th>\n",
       "      <th>Cardholder_First_Initial</th>\n",
       "      <th>Description</th>\n",
       "      <th>Amount</th>\n",
       "      <th>Vendor</th>\n",
       "      <th>Transaction_Date</th>\n",
       "      <th>Posted_Date</th>\n",
       "      <th>Merchant_Category</th>\n",
       "      <th>Year</th>\n",
       "      <th>Month</th>\n",
       "      <th>Week_Number</th>\n",
       "      <th>Day_of_Week</th>\n",
       "      <th>AVG_amount</th>\n",
       "      <th>agency_merchant_avg_ratio_amount</th>\n",
       "      <th>agency_merchant_avg_ratio_amount_D</th>\n",
       "    </tr>\n",
       "  </thead>\n",
       "  <tbody>\n",
       "    <tr>\n",
       "      <th>0</th>\n",
       "      <td>2013-07-01</td>\n",
       "      <td>1000</td>\n",
       "      <td>OKLAHOMA STATE UNIVERSITY</td>\n",
       "      <td>Mason</td>\n",
       "      <td>C</td>\n",
       "      <td>GENERAL PURCHASE</td>\n",
       "      <td>890.00</td>\n",
       "      <td>NACAS</td>\n",
       "      <td>2013-07-30</td>\n",
       "      <td>2013-07-31</td>\n",
       "      <td>CHARITABLE AND SOCIAL SERVICE ORGANIZATIONS</td>\n",
       "      <td>2013</td>\n",
       "      <td>7</td>\n",
       "      <td>31</td>\n",
       "      <td>Tuesday</td>\n",
       "      <td>427.634060</td>\n",
       "      <td>2.081219</td>\n",
       "      <td>(1.298, 3.515]</td>\n",
       "    </tr>\n",
       "    <tr>\n",
       "      <th>16</th>\n",
       "      <td>2013-07-01</td>\n",
       "      <td>1000</td>\n",
       "      <td>OKLAHOMA STATE UNIVERSITY</td>\n",
       "      <td>Mohiuddin</td>\n",
       "      <td>I</td>\n",
       "      <td>GENERAL PURCHASE</td>\n",
       "      <td>2425.00</td>\n",
       "      <td>WESTERN EQUIPMENT ALVA</td>\n",
       "      <td>2013-07-29</td>\n",
       "      <td>2013-07-31</td>\n",
       "      <td>HARDWARE STORES</td>\n",
       "      <td>2013</td>\n",
       "      <td>7</td>\n",
       "      <td>31</td>\n",
       "      <td>Monday</td>\n",
       "      <td>170.060436</td>\n",
       "      <td>14.259636</td>\n",
       "      <td>(8.712, 2.1910012187157464e+16]</td>\n",
       "    </tr>\n",
       "    <tr>\n",
       "      <th>17</th>\n",
       "      <td>2013-07-01</td>\n",
       "      <td>1000</td>\n",
       "      <td>OKLAHOMA STATE UNIVERSITY</td>\n",
       "      <td>Mohiuddin</td>\n",
       "      <td>I</td>\n",
       "      <td>GENERAL PURCHASE</td>\n",
       "      <td>2425.00</td>\n",
       "      <td>WESTERN EQUIPMENT ALVA</td>\n",
       "      <td>2013-07-29</td>\n",
       "      <td>2013-07-31</td>\n",
       "      <td>HARDWARE STORES</td>\n",
       "      <td>2013</td>\n",
       "      <td>7</td>\n",
       "      <td>31</td>\n",
       "      <td>Monday</td>\n",
       "      <td>170.060436</td>\n",
       "      <td>14.259636</td>\n",
       "      <td>(8.712, 2.1910012187157464e+16]</td>\n",
       "    </tr>\n",
       "    <tr>\n",
       "      <th>33</th>\n",
       "      <td>2013-07-01</td>\n",
       "      <td>1000</td>\n",
       "      <td>OKLAHOMA STATE UNIVERSITY</td>\n",
       "      <td>Gerlt</td>\n",
       "      <td>T</td>\n",
       "      <td>GENERAL PURCHASE</td>\n",
       "      <td>3582.00</td>\n",
       "      <td>TELVENT</td>\n",
       "      <td>2013-07-26</td>\n",
       "      <td>2013-07-29</td>\n",
       "      <td>BUSINESS SERVICES NOT ELSEWHERE CLASSIFIED</td>\n",
       "      <td>2013</td>\n",
       "      <td>7</td>\n",
       "      <td>30</td>\n",
       "      <td>Friday</td>\n",
       "      <td>392.641168</td>\n",
       "      <td>9.122833</td>\n",
       "      <td>(8.712, 2.1910012187157464e+16]</td>\n",
       "    </tr>\n",
       "    <tr>\n",
       "      <th>35</th>\n",
       "      <td>2013-07-01</td>\n",
       "      <td>1000</td>\n",
       "      <td>OKLAHOMA STATE UNIVERSITY</td>\n",
       "      <td>GODSEY</td>\n",
       "      <td>R</td>\n",
       "      <td>GENERAL PURCHASE</td>\n",
       "      <td>407.85</td>\n",
       "      <td>OPTIMUM ENERGY PROD</td>\n",
       "      <td>2013-07-26</td>\n",
       "      <td>2013-07-29</td>\n",
       "      <td>HARDWARE STORES</td>\n",
       "      <td>2013</td>\n",
       "      <td>7</td>\n",
       "      <td>30</td>\n",
       "      <td>Friday</td>\n",
       "      <td>170.060436</td>\n",
       "      <td>2.398265</td>\n",
       "      <td>(1.298, 3.515]</td>\n",
       "    </tr>\n",
       "  </tbody>\n",
       "</table>\n",
       "</div>"
      ],
      "text/plain": [
       "   Year_Month  Agency_Number                Agency_Name Cardholder_Last_Name  \\\n",
       "0  2013-07-01           1000  OKLAHOMA STATE UNIVERSITY                Mason   \n",
       "16 2013-07-01           1000  OKLAHOMA STATE UNIVERSITY            Mohiuddin   \n",
       "17 2013-07-01           1000  OKLAHOMA STATE UNIVERSITY            Mohiuddin   \n",
       "33 2013-07-01           1000  OKLAHOMA STATE UNIVERSITY                Gerlt   \n",
       "35 2013-07-01           1000  OKLAHOMA STATE UNIVERSITY               GODSEY   \n",
       "\n",
       "   Cardholder_First_Initial       Description   Amount  \\\n",
       "0                         C  GENERAL PURCHASE   890.00   \n",
       "16                        I  GENERAL PURCHASE  2425.00   \n",
       "17                        I  GENERAL PURCHASE  2425.00   \n",
       "33                        T  GENERAL PURCHASE  3582.00   \n",
       "35                        R  GENERAL PURCHASE   407.85   \n",
       "\n",
       "                    Vendor Transaction_Date Posted_Date  \\\n",
       "0                    NACAS       2013-07-30  2013-07-31   \n",
       "16  WESTERN EQUIPMENT ALVA       2013-07-29  2013-07-31   \n",
       "17  WESTERN EQUIPMENT ALVA       2013-07-29  2013-07-31   \n",
       "33                 TELVENT       2013-07-26  2013-07-29   \n",
       "35     OPTIMUM ENERGY PROD       2013-07-26  2013-07-29   \n",
       "\n",
       "                              Merchant_Category  Year  Month  Week_Number  \\\n",
       "0   CHARITABLE AND SOCIAL SERVICE ORGANIZATIONS  2013      7           31   \n",
       "16                              HARDWARE STORES  2013      7           31   \n",
       "17                              HARDWARE STORES  2013      7           31   \n",
       "33   BUSINESS SERVICES NOT ELSEWHERE CLASSIFIED  2013      7           30   \n",
       "35                              HARDWARE STORES  2013      7           30   \n",
       "\n",
       "   Day_of_Week  AVG_amount  agency_merchant_avg_ratio_amount  \\\n",
       "0      Tuesday  427.634060                          2.081219   \n",
       "16      Monday  170.060436                         14.259636   \n",
       "17      Monday  170.060436                         14.259636   \n",
       "33      Friday  392.641168                          9.122833   \n",
       "35      Friday  170.060436                          2.398265   \n",
       "\n",
       "   agency_merchant_avg_ratio_amount_D  \n",
       "0                      (1.298, 3.515]  \n",
       "16    (8.712, 2.1910012187157464e+16]  \n",
       "17    (8.712, 2.1910012187157464e+16]  \n",
       "33    (8.712, 2.1910012187157464e+16]  \n",
       "35                     (1.298, 3.515]  "
      ]
     },
     "execution_count": 238,
     "metadata": {},
     "output_type": "execute_result"
    }
   ],
   "source": [
    "data1[data1['agency_merchant_avg_ratio_amount']>2].head()"
   ]
  },
  {
   "cell_type": "markdown",
   "metadata": {
    "pycharm": {
     "name": "#%% md\n"
    }
   },
   "source": [
    "# Feature 2: ratio of amount spending and median spending by merchant category"
   ]
  },
  {
   "cell_type": "code",
   "execution_count": 239,
   "metadata": {
    "pycharm": {
     "name": "#%%\n"
    }
   },
   "outputs": [
    {
     "data": {
      "text/html": [
       "<div>\n",
       "<style scoped>\n",
       "    .dataframe tbody tr th:only-of-type {\n",
       "        vertical-align: middle;\n",
       "    }\n",
       "\n",
       "    .dataframe tbody tr th {\n",
       "        vertical-align: top;\n",
       "    }\n",
       "\n",
       "    .dataframe thead th {\n",
       "        text-align: right;\n",
       "    }\n",
       "</style>\n",
       "<table border=\"1\" class=\"dataframe\">\n",
       "  <thead>\n",
       "    <tr style=\"text-align: right;\">\n",
       "      <th></th>\n",
       "      <th></th>\n",
       "      <th>Median_amount</th>\n",
       "    </tr>\n",
       "    <tr>\n",
       "      <th>Agency_Name</th>\n",
       "      <th>Merchant_Category</th>\n",
       "      <th></th>\n",
       "    </tr>\n",
       "  </thead>\n",
       "  <tbody>\n",
       "    <tr>\n",
       "      <th rowspan=\"5\" valign=\"top\">ARDMORE HIGHER EDUCATION CENTER</th>\n",
       "      <th>BUSINESS SERVICES NOT ELSEWHERE CLASSIFIED</th>\n",
       "      <td>115.12</td>\n",
       "    </tr>\n",
       "    <tr>\n",
       "      <th>CATALOG MERCHANTS</th>\n",
       "      <td>38.16</td>\n",
       "    </tr>\n",
       "    <tr>\n",
       "      <th>COMPUTER NETWORK/INFORMATION SERVICES</th>\n",
       "      <td>18.34</td>\n",
       "    </tr>\n",
       "    <tr>\n",
       "      <th>DRUG STORES AND PHARMACIES</th>\n",
       "      <td>153.45</td>\n",
       "    </tr>\n",
       "    <tr>\n",
       "      <th>GROCERY STORES,AND SUPERMARKETS</th>\n",
       "      <td>61.57</td>\n",
       "    </tr>\n",
       "    <tr>\n",
       "      <th>...</th>\n",
       "      <th>...</th>\n",
       "      <td>...</td>\n",
       "    </tr>\n",
       "    <tr>\n",
       "      <th rowspan=\"5\" valign=\"top\">`DEPARTMENT OF EDUCATION</th>\n",
       "      <th>TELECOMMUNICATION SERVICES</th>\n",
       "      <td>113.74</td>\n",
       "    </tr>\n",
       "    <tr>\n",
       "      <th>TRAVEL AGENCIES</th>\n",
       "      <td>25.00</td>\n",
       "    </tr>\n",
       "    <tr>\n",
       "      <th>TROPICANA RESORT AND CASINO</th>\n",
       "      <td>481.60</td>\n",
       "    </tr>\n",
       "    <tr>\n",
       "      <th>UNITED AIRLINES</th>\n",
       "      <td>510.60</td>\n",
       "    </tr>\n",
       "    <tr>\n",
       "      <th>WYNDHAM HOTELS</th>\n",
       "      <td>87.00</td>\n",
       "    </tr>\n",
       "  </tbody>\n",
       "</table>\n",
       "<p>8427 rows × 1 columns</p>\n",
       "</div>"
      ],
      "text/plain": [
       "                                                                            Median_amount\n",
       "Agency_Name                     Merchant_Category                                        \n",
       "ARDMORE HIGHER EDUCATION CENTER BUSINESS SERVICES NOT ELSEWHERE CLASSIFIED         115.12\n",
       "                                CATALOG MERCHANTS                                   38.16\n",
       "                                COMPUTER NETWORK/INFORMATION SERVICES               18.34\n",
       "                                DRUG STORES AND PHARMACIES                         153.45\n",
       "                                GROCERY STORES,AND SUPERMARKETS                     61.57\n",
       "...                                                                                   ...\n",
       "`DEPARTMENT OF EDUCATION        TELECOMMUNICATION SERVICES                         113.74\n",
       "                                TRAVEL AGENCIES                                     25.00\n",
       "                                TROPICANA RESORT AND CASINO                        481.60\n",
       "                                UNITED AIRLINES                                    510.60\n",
       "                                WYNDHAM HOTELS                                      87.00\n",
       "\n",
       "[8427 rows x 1 columns]"
      ]
     },
     "execution_count": 239,
     "metadata": {},
     "output_type": "execute_result"
    }
   ],
   "source": [
    "# create average spending group by agency and merchant category\n",
    "stat_by_agency = data.groupby(['Agency_Name', 'Merchant_Category'])['Amount'].median()\n",
    "stat_by_agency = pd.DataFrame(stat_by_agency)\n",
    "stat_by_agency.columns = ['Median_amount']\n",
    "stat_by_agency"
   ]
  },
  {
   "cell_type": "code",
   "execution_count": 240,
   "metadata": {
    "pycharm": {
     "name": "#%%\n"
    }
   },
   "outputs": [
    {
     "data": {
      "text/plain": [
       "count    442458.000000\n",
       "mean          4.952685\n",
       "std        1078.581350\n",
       "min       -1003.176471\n",
       "25%           0.466090\n",
       "50%           1.000000\n",
       "75%           2.121102\n",
       "max      528116.052705\n",
       "Name: agency_merchant_median_ratio_amount, dtype: float64"
      ]
     },
     "execution_count": 240,
     "metadata": {},
     "output_type": "execute_result"
    }
   ],
   "source": [
    "# add the new feature average spending to the dataset\n",
    "data2 = pd.merge(data1, stat_by_agency, how='left', on=['Agency_Name', 'Merchant_Category'])\n",
    "# Feature 2: ratio of amount spending and median spending by merchant category\n",
    "data2['agency_merchant_median_ratio_amount'] = np.where(data2['Median_amount']==0,0, data2['Amount'] / data2['Median_amount'])\n",
    "data2['agency_merchant_median_ratio_amount'].describe()"
   ]
  },
  {
   "cell_type": "markdown",
   "metadata": {
    "pycharm": {
     "name": "#%% md\n"
    }
   },
   "source": [
    "This feature is also generated in the example. It is possible that comparing a cardholder to his agency could find outliers, so instead of mean, we have the ratio of amount spending and median spending by merchant category."
   ]
  },
  {
   "cell_type": "code",
   "execution_count": 241,
   "metadata": {
    "pycharm": {
     "name": "#%%\n"
    }
   },
   "outputs": [],
   "source": [
    "# cut by percentile for plotting\n",
    "var = 'agency_merchant_median_ratio_amount'\n",
    "binned_var = var + '_D'\n",
    "percentile = [0,0.01,0.05,0.2,0.5,0.8,0.95,0.99,1]\n",
    "data2[binned_var] = pd.qcut( data2[var],percentile)"
   ]
  },
  {
   "cell_type": "code",
   "execution_count": 242,
   "metadata": {
    "pycharm": {
     "name": "#%%\n"
    }
   },
   "outputs": [
    {
     "data": {
      "text/plain": [
       "[Text(0, 0, '(-1003.177, -1.121]'),\n",
       " Text(1, 0, '(-1.121, 0.0653]'),\n",
       " Text(2, 0, '(0.0653, 0.362]'),\n",
       " Text(3, 0, '(0.362, 1.0]'),\n",
       " Text(4, 0, '(1.0, 2.691]'),\n",
       " Text(5, 0, '(2.691, 9.283]'),\n",
       " Text(6, 0, '(9.283, 28.085]'),\n",
       " Text(7, 0, '(28.085, 528116.053]')]"
      ]
     },
     "execution_count": 242,
     "metadata": {},
     "output_type": "execute_result"
    },
    {
     "data": {
      "image/png": "[encoded data removed]",
      "text/plain": [
       "<Figure size 432x288 with 1 Axes>"
      ]
     },
     "metadata": {},
     "output_type": "display_data"
    }
   ],
   "source": [
    "import matplotlib.pyplot as plt\n",
    "plt.figure(figsize=(6,4))\n",
    "g = sns.countplot(x=\"agency_merchant_median_ratio_amount_D\", data=data2)\n",
    "g.set_xticklabels(g.get_xticklabels(), rotation=90)"
   ]
  },
  {
   "cell_type": "code",
   "execution_count": 243,
   "metadata": {
    "pycharm": {
     "name": "#%%\n"
    }
   },
   "outputs": [
    {
     "data": {
      "text/html": [
       "<div>\n",
       "<style scoped>\n",
       "    .dataframe tbody tr th:only-of-type {\n",
       "        vertical-align: middle;\n",
       "    }\n",
       "\n",
       "    .dataframe tbody tr th {\n",
       "        vertical-align: top;\n",
       "    }\n",
       "\n",
       "    .dataframe thead th {\n",
       "        text-align: right;\n",
       "    }\n",
       "</style>\n",
       "<table border=\"1\" class=\"dataframe\">\n",
       "  <thead>\n",
       "    <tr style=\"text-align: right;\">\n",
       "      <th></th>\n",
       "      <th>Year_Month</th>\n",
       "      <th>Agency_Number</th>\n",
       "      <th>Agency_Name</th>\n",
       "      <th>Cardholder_Last_Name</th>\n",
       "      <th>Cardholder_First_Initial</th>\n",
       "      <th>Description</th>\n",
       "      <th>Amount</th>\n",
       "      <th>Vendor</th>\n",
       "      <th>Transaction_Date</th>\n",
       "      <th>Posted_Date</th>\n",
       "      <th>...</th>\n",
       "      <th>Year</th>\n",
       "      <th>Month</th>\n",
       "      <th>Week_Number</th>\n",
       "      <th>Day_of_Week</th>\n",
       "      <th>AVG_amount</th>\n",
       "      <th>agency_merchant_avg_ratio_amount</th>\n",
       "      <th>agency_merchant_avg_ratio_amount_D</th>\n",
       "      <th>Median_amount</th>\n",
       "      <th>agency_merchant_median_ratio_amount</th>\n",
       "      <th>agency_merchant_median_ratio_amount_D</th>\n",
       "    </tr>\n",
       "  </thead>\n",
       "  <tbody>\n",
       "    <tr>\n",
       "      <th>0</th>\n",
       "      <td>2013-07-01</td>\n",
       "      <td>1000</td>\n",
       "      <td>OKLAHOMA STATE UNIVERSITY</td>\n",
       "      <td>Mason</td>\n",
       "      <td>C</td>\n",
       "      <td>GENERAL PURCHASE</td>\n",
       "      <td>890.00</td>\n",
       "      <td>NACAS</td>\n",
       "      <td>2013-07-30</td>\n",
       "      <td>2013-07-31</td>\n",
       "      <td>...</td>\n",
       "      <td>2013</td>\n",
       "      <td>7</td>\n",
       "      <td>31</td>\n",
       "      <td>Tuesday</td>\n",
       "      <td>427.634060</td>\n",
       "      <td>2.081219</td>\n",
       "      <td>(1.298, 3.515]</td>\n",
       "      <td>250.000</td>\n",
       "      <td>3.560000</td>\n",
       "      <td>(2.691, 9.283]</td>\n",
       "    </tr>\n",
       "    <tr>\n",
       "      <th>3</th>\n",
       "      <td>2013-07-01</td>\n",
       "      <td>1000</td>\n",
       "      <td>OKLAHOMA STATE UNIVERSITY</td>\n",
       "      <td>Massey</td>\n",
       "      <td>T</td>\n",
       "      <td>GENERAL PURCHASE</td>\n",
       "      <td>96.39</td>\n",
       "      <td>WAL-MART #0137</td>\n",
       "      <td>2013-07-30</td>\n",
       "      <td>2013-07-31</td>\n",
       "      <td>...</td>\n",
       "      <td>2013</td>\n",
       "      <td>7</td>\n",
       "      <td>31</td>\n",
       "      <td>Tuesday</td>\n",
       "      <td>59.832149</td>\n",
       "      <td>1.611007</td>\n",
       "      <td>(1.298, 3.515]</td>\n",
       "      <td>32.485</td>\n",
       "      <td>2.967216</td>\n",
       "      <td>(2.691, 9.283]</td>\n",
       "    </tr>\n",
       "    <tr>\n",
       "      <th>5</th>\n",
       "      <td>2013-07-01</td>\n",
       "      <td>1000</td>\n",
       "      <td>OKLAHOMA STATE UNIVERSITY</td>\n",
       "      <td>Mauro-Herrera</td>\n",
       "      <td>M</td>\n",
       "      <td>GENERAL PURCHASE</td>\n",
       "      <td>394.28</td>\n",
       "      <td>KYOCERA DOCUMENT SOLUTION</td>\n",
       "      <td>2013-07-29</td>\n",
       "      <td>2013-07-31</td>\n",
       "      <td>...</td>\n",
       "      <td>2013</td>\n",
       "      <td>7</td>\n",
       "      <td>31</td>\n",
       "      <td>Monday</td>\n",
       "      <td>217.254954</td>\n",
       "      <td>1.814826</td>\n",
       "      <td>(1.298, 3.515]</td>\n",
       "      <td>181.940</td>\n",
       "      <td>2.167088</td>\n",
       "      <td>(1.0, 2.691]</td>\n",
       "    </tr>\n",
       "    <tr>\n",
       "      <th>12</th>\n",
       "      <td>2013-07-01</td>\n",
       "      <td>1000</td>\n",
       "      <td>OKLAHOMA STATE UNIVERSITY</td>\n",
       "      <td>McLemore</td>\n",
       "      <td>A</td>\n",
       "      <td>GENERAL PURCHASE</td>\n",
       "      <td>572.27</td>\n",
       "      <td>GIDDINGS MACHINE CO.</td>\n",
       "      <td>2013-07-30</td>\n",
       "      <td>2013-07-31</td>\n",
       "      <td>...</td>\n",
       "      <td>2013</td>\n",
       "      <td>7</td>\n",
       "      <td>31</td>\n",
       "      <td>Tuesday</td>\n",
       "      <td>436.425953</td>\n",
       "      <td>1.311265</td>\n",
       "      <td>(1.298, 3.515]</td>\n",
       "      <td>187.000</td>\n",
       "      <td>3.060267</td>\n",
       "      <td>(2.691, 9.283]</td>\n",
       "    </tr>\n",
       "    <tr>\n",
       "      <th>14</th>\n",
       "      <td>2013-07-01</td>\n",
       "      <td>1000</td>\n",
       "      <td>OKLAHOMA STATE UNIVERSITY</td>\n",
       "      <td>Meints</td>\n",
       "      <td>K</td>\n",
       "      <td>GENERAL PURCHASE</td>\n",
       "      <td>445.00</td>\n",
       "      <td>OK DEPT OF VO-TECH ED</td>\n",
       "      <td>2013-07-30</td>\n",
       "      <td>2013-07-31</td>\n",
       "      <td>...</td>\n",
       "      <td>2013</td>\n",
       "      <td>7</td>\n",
       "      <td>31</td>\n",
       "      <td>Tuesday</td>\n",
       "      <td>308.598782</td>\n",
       "      <td>1.442002</td>\n",
       "      <td>(1.298, 3.515]</td>\n",
       "      <td>91.500</td>\n",
       "      <td>4.863388</td>\n",
       "      <td>(2.691, 9.283]</td>\n",
       "    </tr>\n",
       "  </tbody>\n",
       "</table>\n",
       "<p>5 rows × 21 columns</p>\n",
       "</div>"
      ],
      "text/plain": [
       "   Year_Month  Agency_Number                Agency_Name Cardholder_Last_Name  \\\n",
       "0  2013-07-01           1000  OKLAHOMA STATE UNIVERSITY                Mason   \n",
       "3  2013-07-01           1000  OKLAHOMA STATE UNIVERSITY               Massey   \n",
       "5  2013-07-01           1000  OKLAHOMA STATE UNIVERSITY        Mauro-Herrera   \n",
       "12 2013-07-01           1000  OKLAHOMA STATE UNIVERSITY             McLemore   \n",
       "14 2013-07-01           1000  OKLAHOMA STATE UNIVERSITY               Meints   \n",
       "\n",
       "   Cardholder_First_Initial       Description  Amount  \\\n",
       "0                         C  GENERAL PURCHASE  890.00   \n",
       "3                         T  GENERAL PURCHASE   96.39   \n",
       "5                         M  GENERAL PURCHASE  394.28   \n",
       "12                        A  GENERAL PURCHASE  572.27   \n",
       "14                        K  GENERAL PURCHASE  445.00   \n",
       "\n",
       "                       Vendor Transaction_Date Posted_Date  ...  Year  Month  \\\n",
       "0                       NACAS       2013-07-30  2013-07-31  ...  2013      7   \n",
       "3              WAL-MART #0137       2013-07-30  2013-07-31  ...  2013      7   \n",
       "5   KYOCERA DOCUMENT SOLUTION       2013-07-29  2013-07-31  ...  2013      7   \n",
       "12       GIDDINGS MACHINE CO.       2013-07-30  2013-07-31  ...  2013      7   \n",
       "14      OK DEPT OF VO-TECH ED       2013-07-30  2013-07-31  ...  2013      7   \n",
       "\n",
       "    Week_Number  Day_of_Week  AVG_amount  agency_merchant_avg_ratio_amount  \\\n",
       "0            31      Tuesday  427.634060                          2.081219   \n",
       "3            31      Tuesday   59.832149                          1.611007   \n",
       "5            31       Monday  217.254954                          1.814826   \n",
       "12           31      Tuesday  436.425953                          1.311265   \n",
       "14           31      Tuesday  308.598782                          1.442002   \n",
       "\n",
       "    agency_merchant_avg_ratio_amount_D Median_amount  \\\n",
       "0                       (1.298, 3.515]       250.000   \n",
       "3                       (1.298, 3.515]        32.485   \n",
       "5                       (1.298, 3.515]       181.940   \n",
       "12                      (1.298, 3.515]       187.000   \n",
       "14                      (1.298, 3.515]        91.500   \n",
       "\n",
       "    agency_merchant_median_ratio_amount  agency_merchant_median_ratio_amount_D  \n",
       "0                              3.560000                         (2.691, 9.283]  \n",
       "3                              2.967216                         (2.691, 9.283]  \n",
       "5                              2.167088                           (1.0, 2.691]  \n",
       "12                             3.060267                         (2.691, 9.283]  \n",
       "14                             4.863388                         (2.691, 9.283]  \n",
       "\n",
       "[5 rows x 21 columns]"
      ]
     },
     "execution_count": 243,
     "metadata": {},
     "output_type": "execute_result"
    }
   ],
   "source": [
    "data2[data2['agency_merchant_median_ratio_amount']>2].head()"
   ]
  },
  {
   "cell_type": "markdown",
   "metadata": {
    "pycharm": {
     "name": "#%% md\n"
    }
   },
   "source": [
    "# Feature 3: month average by merchant category"
   ]
  },
  {
   "cell_type": "code",
   "execution_count": 244,
   "metadata": {
    "pycharm": {
     "name": "#%%\n"
    }
   },
   "outputs": [
    {
     "data": {
      "text/html": [
       "<div>\n",
       "<style scoped>\n",
       "    .dataframe tbody tr th:only-of-type {\n",
       "        vertical-align: middle;\n",
       "    }\n",
       "\n",
       "    .dataframe tbody tr th {\n",
       "        vertical-align: top;\n",
       "    }\n",
       "\n",
       "    .dataframe thead th {\n",
       "        text-align: right;\n",
       "    }\n",
       "</style>\n",
       "<table border=\"1\" class=\"dataframe\">\n",
       "  <thead>\n",
       "    <tr style=\"text-align: right;\">\n",
       "      <th></th>\n",
       "      <th></th>\n",
       "      <th>Month_mean</th>\n",
       "    </tr>\n",
       "    <tr>\n",
       "      <th>Agency_Name</th>\n",
       "      <th>Merchant_Category</th>\n",
       "      <th></th>\n",
       "    </tr>\n",
       "  </thead>\n",
       "  <tbody>\n",
       "    <tr>\n",
       "      <th rowspan=\"5\" valign=\"top\">ARDMORE HIGHER EDUCATION CENTER</th>\n",
       "      <th>BUSINESS SERVICES NOT ELSEWHERE CLASSIFIED</th>\n",
       "      <td>11.000000</td>\n",
       "    </tr>\n",
       "    <tr>\n",
       "      <th>CATALOG MERCHANTS</th>\n",
       "      <td>9.000000</td>\n",
       "    </tr>\n",
       "    <tr>\n",
       "      <th>COMPUTER NETWORK/INFORMATION SERVICES</th>\n",
       "      <td>10.000000</td>\n",
       "    </tr>\n",
       "    <tr>\n",
       "      <th>DRUG STORES AND PHARMACIES</th>\n",
       "      <td>12.000000</td>\n",
       "    </tr>\n",
       "    <tr>\n",
       "      <th>GROCERY STORES,AND SUPERMARKETS</th>\n",
       "      <td>9.090909</td>\n",
       "    </tr>\n",
       "    <tr>\n",
       "      <th>...</th>\n",
       "      <th>...</th>\n",
       "      <td>...</td>\n",
       "    </tr>\n",
       "    <tr>\n",
       "      <th rowspan=\"5\" valign=\"top\">`DEPARTMENT OF EDUCATION</th>\n",
       "      <th>TELECOMMUNICATION SERVICES</th>\n",
       "      <td>8.800000</td>\n",
       "    </tr>\n",
       "    <tr>\n",
       "      <th>TRAVEL AGENCIES</th>\n",
       "      <td>9.111940</td>\n",
       "    </tr>\n",
       "    <tr>\n",
       "      <th>TROPICANA RESORT AND CASINO</th>\n",
       "      <td>9.000000</td>\n",
       "    </tr>\n",
       "    <tr>\n",
       "      <th>UNITED AIRLINES</th>\n",
       "      <td>10.210526</td>\n",
       "    </tr>\n",
       "    <tr>\n",
       "      <th>WYNDHAM HOTELS</th>\n",
       "      <td>8.857143</td>\n",
       "    </tr>\n",
       "  </tbody>\n",
       "</table>\n",
       "<p>8427 rows × 1 columns</p>\n",
       "</div>"
      ],
      "text/plain": [
       "                                                                            Month_mean\n",
       "Agency_Name                     Merchant_Category                                     \n",
       "ARDMORE HIGHER EDUCATION CENTER BUSINESS SERVICES NOT ELSEWHERE CLASSIFIED   11.000000\n",
       "                                CATALOG MERCHANTS                             9.000000\n",
       "                                COMPUTER NETWORK/INFORMATION SERVICES        10.000000\n",
       "                                DRUG STORES AND PHARMACIES                   12.000000\n",
       "                                GROCERY STORES,AND SUPERMARKETS               9.090909\n",
       "...                                                                                ...\n",
       "`DEPARTMENT OF EDUCATION        TELECOMMUNICATION SERVICES                    8.800000\n",
       "                                TRAVEL AGENCIES                               9.111940\n",
       "                                TROPICANA RESORT AND CASINO                   9.000000\n",
       "                                UNITED AIRLINES                              10.210526\n",
       "                                WYNDHAM HOTELS                                8.857143\n",
       "\n",
       "[8427 rows x 1 columns]"
      ]
     },
     "execution_count": 244,
     "metadata": {},
     "output_type": "execute_result"
    }
   ],
   "source": [
    "# create month group by agency and merchant category\n",
    "stat_by_agency_month = data.groupby(['Agency_Name', 'Merchant_Category'])['Month'].mean()\n",
    "stat_by_agency_month = pd.DataFrame(stat_by_agency_month)\n",
    "stat_by_agency_month.columns = ['Month_mean']\n",
    "stat_by_agency_month"
   ]
  },
  {
   "cell_type": "code",
   "execution_count": 245,
   "metadata": {
    "pycharm": {
     "name": "#%%\n"
    }
   },
   "outputs": [
    {
     "data": {
      "text/plain": [
       "count    442458.000000\n",
       "mean          6.378526\n",
       "std           3.359571\n",
       "min           1.000000\n",
       "25%           3.000000\n",
       "50%           6.000000\n",
       "75%           9.000000\n",
       "max          12.000000\n",
       "Name: agency_merchant_month_mean, dtype: float64"
      ]
     },
     "execution_count": 245,
     "metadata": {},
     "output_type": "execute_result"
    }
   ],
   "source": [
    "# add the new feature average month to the dataset\n",
    "data3 = pd.merge(data2, stat_by_agency_month, how='left', on=['Agency_Name', 'Merchant_Category'])\n",
    "# Feature 3: month average by merchant category\n",
    "data3['agency_merchant_month_mean'] = np.where(data3['Month_mean']==0,0, data3['Month'])\n",
    "data3['agency_merchant_month_mean'].describe()"
   ]
  },
  {
   "cell_type": "markdown",
   "metadata": {
    "pycharm": {
     "name": "#%% md\n"
    }
   },
   "source": [
    "It would be useful to compare each month's transaction to find the anomaly. Therefore, I created a feature that has the mean of the month."
   ]
  },
  {
   "cell_type": "markdown",
   "metadata": {
    "pycharm": {
     "name": "#%% md\n"
    }
   },
   "source": [
    "# Feature 4: ratio of month average by merchant category"
   ]
  },
  {
   "cell_type": "code",
   "execution_count": 247,
   "metadata": {
    "pycharm": {
     "name": "#%%\n"
    }
   },
   "outputs": [
    {
     "data": {
      "text/plain": [
       "count    442458.000000\n",
       "mean          1.000000\n",
       "std           0.519392\n",
       "min           0.096491\n",
       "25%           0.586937\n",
       "50%           1.000000\n",
       "75%           1.415730\n",
       "max           5.777778\n",
       "Name: agency_merchant_month_mean_ratio, dtype: float64"
      ]
     },
     "execution_count": 247,
     "metadata": {},
     "output_type": "execute_result"
    }
   ],
   "source": [
    "# add the new feature average month to the dataset\n",
    "data4 = data3\n",
    "# Feature 4: ratio of month average by merchant category\n",
    "data4['agency_merchant_month_mean_ratio'] = np.where(data4['Month_mean']==0,0, data4['Month'] / data4['Month_mean'])\n",
    "data4['agency_merchant_month_mean_ratio'].describe()"
   ]
  },
  {
   "cell_type": "markdown",
   "metadata": {
    "pycharm": {
     "name": "#%% md\n"
    }
   },
   "source": [
    "Same as previous one, it would be useful to compare each month's transaction to find the anomaly. The ratio of the mean could be more useful to see patterns. Therefore, I created a feature that has the ratio of the mean of the month."
   ]
  },
  {
   "cell_type": "markdown",
   "metadata": {
    "pycharm": {
     "name": "#%% md\n"
    }
   },
   "source": [
    "# Feature 5: month median by merchant category"
   ]
  },
  {
   "cell_type": "code",
   "execution_count": 248,
   "metadata": {
    "pycharm": {
     "name": "#%%\n"
    }
   },
   "outputs": [],
   "source": [
    "# create month group by agency and merchant category\n",
    "stat_by_agency_month = data.groupby(['Agency_Name', 'Merchant_Category'])['Month'].median()\n",
    "stat_by_agency_month = pd.DataFrame(stat_by_agency_month)\n",
    "stat_by_agency_month.columns = ['Month_median']"
   ]
  },
  {
   "cell_type": "code",
   "execution_count": 249,
   "metadata": {
    "pycharm": {
     "name": "#%%\n"
    }
   },
   "outputs": [
    {
     "data": {
      "text/plain": [
       "count    442458.000000\n",
       "mean          6.378526\n",
       "std           3.359571\n",
       "min           1.000000\n",
       "25%           3.000000\n",
       "50%           6.000000\n",
       "75%           9.000000\n",
       "max          12.000000\n",
       "Name: agency_merchant_month_median, dtype: float64"
      ]
     },
     "execution_count": 249,
     "metadata": {},
     "output_type": "execute_result"
    }
   ],
   "source": [
    "# add the new feature median month to the dataset\n",
    "data5 = pd.merge(data4, stat_by_agency_month, how='left', on=['Agency_Name', 'Merchant_Category'])\n",
    "# Feature 5: month median by merchant category\n",
    "data5['agency_merchant_month_median'] = np.where(data5['Month_median']==0,0, data5['Month'])\n",
    "data5['agency_merchant_month_median'].describe()"
   ]
  },
  {
   "cell_type": "markdown",
   "metadata": {
    "pycharm": {
     "name": "#%% md\n"
    }
   },
   "source": [
    "Similar to the 3rd feature, it would be useful to compare each month's transaction to find the anomaly. The median would give another perspective than the mean Therefore, I created a feature that has the median of the month."
   ]
  },
  {
   "cell_type": "markdown",
   "metadata": {
    "pycharm": {
     "name": "#%% md\n"
    }
   },
   "source": [
    "# Feature 6: ratio of month median by merchant category"
   ]
  },
  {
   "cell_type": "code",
   "execution_count": 251,
   "metadata": {
    "pycharm": {
     "name": "#%%\n"
    }
   },
   "outputs": [
    {
     "data": {
      "text/plain": [
       "count    442458.000000\n",
       "mean          1.020104\n",
       "std           0.561151\n",
       "min           0.083333\n",
       "25%           0.571429\n",
       "50%           1.000000\n",
       "75%           1.428571\n",
       "max          12.000000\n",
       "Name: agency_merchant_month_median_ratio, dtype: float64"
      ]
     },
     "execution_count": 251,
     "metadata": {},
     "output_type": "execute_result"
    }
   ],
   "source": [
    "# add the new feature median month to the dataset\n",
    "data6 = data5\n",
    "# Feature 6: ratio of month median by merchant category\n",
    "data6['agency_merchant_month_median_ratio'] = np.where(data6['Month_median']==0,0, data6['Month'] / data6['Month_median'])\n",
    "data6['agency_merchant_month_median_ratio'].describe()"
   ]
  },
  {
   "cell_type": "markdown",
   "metadata": {
    "pycharm": {
     "name": "#%% md\n"
    }
   },
   "source": [
    "Same as previous one, it would be useful to compare each month's transaction to find the anomaly. The ratio of the median could be more useful to see patterns. Therefore, I created a feature that has the ratio of the median of the month."
   ]
  },
  {
   "cell_type": "markdown",
   "metadata": {
    "pycharm": {
     "name": "#%% md\n"
    }
   },
   "source": [
    "# Feature 7: spend amount mean for each user"
   ]
  },
  {
   "cell_type": "code",
   "execution_count": 252,
   "metadata": {
    "pycharm": {
     "name": "#%%\n"
    }
   },
   "outputs": [],
   "source": [
    "# create spending amount group by cardholder first and last name\n",
    "cardholder_name = data.groupby(['Cardholder_Last_Name', 'Cardholder_First_Initial'])['Amount'].mean()\n",
    "cardholder_name = pd.DataFrame(cardholder_name)\n",
    "cardholder_name.columns = ['User_mean']"
   ]
  },
  {
   "cell_type": "code",
   "execution_count": 253,
   "metadata": {
    "pycharm": {
     "name": "#%%\n"
    }
   },
   "outputs": [
    {
     "data": {
      "text/plain": [
       "count    442458.000000\n",
       "mean        424.991170\n",
       "std        2432.067949\n",
       "min       -1394.880000\n",
       "25%         176.393310\n",
       "50%         279.568542\n",
       "75%         413.423714\n",
       "max      609039.725000\n",
       "Name: cardholder_amount_mean, dtype: float64"
      ]
     },
     "execution_count": 253,
     "metadata": {},
     "output_type": "execute_result"
    }
   ],
   "source": [
    "# add the new feature mean for each user\n",
    "data7 = pd.merge(data6, cardholder_name, how='left', on=['Cardholder_Last_Name', 'Cardholder_First_Initial'])\n",
    "# Feature 7: spend amount mean for each user\n",
    "data7['cardholder_amount_mean'] = np.where(data7['User_mean']==0,0, data7['User_mean'])\n",
    "data7['cardholder_amount_mean'].describe()"
   ]
  },
  {
   "cell_type": "markdown",
   "metadata": {
    "pycharm": {
     "name": "#%% md\n"
    }
   },
   "source": [
    "Comparing each transaction with the average of this user could be helpful to detect anomaly. Therefore, I created a feature that calculate the mean of each user."
   ]
  },
  {
   "cell_type": "markdown",
   "metadata": {
    "pycharm": {
     "name": "#%% md\n"
    }
   },
   "source": [
    "# Feature 8: ratio of spend amount mean for each user"
   ]
  },
  {
   "cell_type": "code",
   "execution_count": 254,
   "metadata": {
    "pycharm": {
     "name": "#%%\n"
    }
   },
   "outputs": [
    {
     "data": {
      "text/plain": [
       "count    4.424580e+05\n",
       "mean     7.510932e+00\n",
       "std      2.289283e+04\n",
       "min     -7.612997e+06\n",
       "25%      7.357778e-01\n",
       "50%      2.018559e+00\n",
       "75%      6.176781e+00\n",
       "max      7.612997e+06\n",
       "Name: cardholder_amount_mean_ratio, dtype: float64"
      ]
     },
     "execution_count": 254,
     "metadata": {},
     "output_type": "execute_result"
    }
   ],
   "source": [
    "# add the new feature mean for each user\n",
    "data8 = data7\n",
    "# Feature 8: ratio of spend amount mean for each user\n",
    "data8['cardholder_amount_mean_ratio'] = np.where(data8['User_mean']==0,0, data8['User_mean']/data8['Amount'])\n",
    "data8['cardholder_amount_mean_ratio'].describe()"
   ]
  },
  {
   "cell_type": "markdown",
   "metadata": {
    "pycharm": {
     "name": "#%% md\n"
    }
   },
   "source": [
    "Similar to previous one, calculate the ratio of transaction with the mean would be more helpful to see the pattern."
   ]
  },
  {
   "cell_type": "markdown",
   "metadata": {
    "pycharm": {
     "name": "#%% md\n"
    }
   },
   "source": [
    "# Feature 9: spend amount median for each user"
   ]
  },
  {
   "cell_type": "code",
   "execution_count": 255,
   "metadata": {
    "pycharm": {
     "name": "#%%\n"
    }
   },
   "outputs": [],
   "source": [
    "# create spending amount group by cardholder first and last name\n",
    "cardholder_name = data.groupby(['Cardholder_Last_Name', 'Cardholder_First_Initial'])['Amount'].median()\n",
    "cardholder_name = pd.DataFrame(cardholder_name)\n",
    "cardholder_name.columns = ['User_median']"
   ]
  },
  {
   "cell_type": "code",
   "execution_count": 256,
   "metadata": {
    "pycharm": {
     "name": "#%%\n"
    }
   },
   "outputs": [
    {
     "data": {
      "text/plain": [
       "count    442458.000000\n",
       "mean        159.882811\n",
       "std         461.360600\n",
       "min        -214.170000\n",
       "25%          68.610000\n",
       "50%         111.500000\n",
       "75%         179.960000\n",
       "max      171619.610000\n",
       "Name: cardholder_amount_median, dtype: float64"
      ]
     },
     "execution_count": 256,
     "metadata": {},
     "output_type": "execute_result"
    }
   ],
   "source": [
    "# add the new feature mean for each user\n",
    "data9 = pd.merge(data8, cardholder_name, how='left', on=['Cardholder_Last_Name', 'Cardholder_First_Initial'])\n",
    "# Feature 9: spend amount median for each user\n",
    "data9['cardholder_amount_median'] = np.where(data9['User_median']==0,0, data9['User_median'])\n",
    "data9['cardholder_amount_median'].describe()"
   ]
  },
  {
   "cell_type": "markdown",
   "metadata": {
    "pycharm": {
     "name": "#%% md\n"
    }
   },
   "source": [
    "Since the mean could be affected by outliers, comparing the median with each transaction of each user could give a different perspective for detecting anomaly. Therefore, I created a feature that shows the median of each user."
   ]
  },
  {
   "cell_type": "markdown",
   "metadata": {
    "pycharm": {
     "name": "#%% md\n"
    }
   },
   "source": [
    "# Feature 10: ratio of spend amount median for each user"
   ]
  },
  {
   "cell_type": "code",
   "execution_count": 257,
   "metadata": {
    "pycharm": {
     "name": "#%%\n"
    }
   },
   "outputs": [
    {
     "data": {
      "text/plain": [
       "count    442458.000000\n",
       "mean          2.764035\n",
       "std         139.273863\n",
       "min      -43757.000000\n",
       "25%           0.333590\n",
       "50%           0.927917\n",
       "75%           2.197837\n",
       "max       32198.000000\n",
       "Name: cardholder_amount_median_ratio, dtype: float64"
      ]
     },
     "execution_count": 257,
     "metadata": {},
     "output_type": "execute_result"
    }
   ],
   "source": [
    "# add the new feature mean for each user\n",
    "data10 = data9\n",
    "# Feature 10: ratio of spend amount median for each user\n",
    "data10['cardholder_amount_median_ratio'] = np.where(data10['User_median']==0,0, data10['User_median']/data10['Amount'])\n",
    "data10['cardholder_amount_median_ratio'].describe()"
   ]
  },
  {
   "cell_type": "markdown",
   "metadata": {
    "pycharm": {
     "name": "#%% md\n"
    }
   },
   "source": [
    "This feature calculates the ratio of median with each transaction of user. It could give a pattern of each transaction and better find the anomaly than previous one."
   ]
  },
  {
   "cell_type": "markdown",
   "metadata": {
    "pycharm": {
     "name": "#%% md\n"
    }
   },
   "source": [
    "# Feature 11: spend amount max for each user"
   ]
  },
  {
   "cell_type": "code",
   "execution_count": 258,
   "metadata": {
    "pycharm": {
     "name": "#%%\n"
    }
   },
   "outputs": [],
   "source": [
    "# create spending amount group by cardholder first and last name\n",
    "cardholder_name = data.groupby(['Cardholder_Last_Name', 'Cardholder_First_Initial'])['Amount'].max()\n",
    "cardholder_name = pd.DataFrame(cardholder_name)\n",
    "cardholder_name.columns = ['User_max']"
   ]
  },
  {
   "cell_type": "code",
   "execution_count": 259,
   "metadata": {
    "pycharm": {
     "name": "#%%\n"
    }
   },
   "outputs": [
    {
     "data": {
      "text/html": [
       "<div>\n",
       "<style scoped>\n",
       "    .dataframe tbody tr th:only-of-type {\n",
       "        vertical-align: middle;\n",
       "    }\n",
       "\n",
       "    .dataframe tbody tr th {\n",
       "        vertical-align: top;\n",
       "    }\n",
       "\n",
       "    .dataframe thead th {\n",
       "        text-align: right;\n",
       "    }\n",
       "</style>\n",
       "<table border=\"1\" class=\"dataframe\">\n",
       "  <thead>\n",
       "    <tr style=\"text-align: right;\">\n",
       "      <th></th>\n",
       "      <th>Year_Month</th>\n",
       "      <th>Agency_Number</th>\n",
       "      <th>Agency_Name</th>\n",
       "      <th>Cardholder_Last_Name</th>\n",
       "      <th>Cardholder_First_Initial</th>\n",
       "      <th>Description</th>\n",
       "      <th>Amount</th>\n",
       "      <th>Vendor</th>\n",
       "      <th>Transaction_Date</th>\n",
       "      <th>Posted_Date</th>\n",
       "      <th>...</th>\n",
       "      <th>agency_merchant_month_mean_ratio</th>\n",
       "      <th>Month_median</th>\n",
       "      <th>agency_merchant_month_median</th>\n",
       "      <th>agency_merchant_month_median_ratio</th>\n",
       "      <th>User_mean</th>\n",
       "      <th>cardholder_amount_mean</th>\n",
       "      <th>cardholder_amount_mean_ratio</th>\n",
       "      <th>User_median</th>\n",
       "      <th>cardholder_amount_median</th>\n",
       "      <th>cardholder_amount_median_ratio</th>\n",
       "    </tr>\n",
       "  </thead>\n",
       "  <tbody>\n",
       "    <tr>\n",
       "      <th>0</th>\n",
       "      <td>2013-07-01</td>\n",
       "      <td>1000</td>\n",
       "      <td>OKLAHOMA STATE UNIVERSITY</td>\n",
       "      <td>Mason</td>\n",
       "      <td>C</td>\n",
       "      <td>GENERAL PURCHASE</td>\n",
       "      <td>890.00</td>\n",
       "      <td>NACAS</td>\n",
       "      <td>2013-07-30</td>\n",
       "      <td>2013-07-31</td>\n",
       "      <td>...</td>\n",
       "      <td>1.172103</td>\n",
       "      <td>6.0</td>\n",
       "      <td>7</td>\n",
       "      <td>1.166667</td>\n",
       "      <td>269.899489</td>\n",
       "      <td>269.899489</td>\n",
       "      <td>0.303258</td>\n",
       "      <td>217.095</td>\n",
       "      <td>217.095</td>\n",
       "      <td>0.243927</td>\n",
       "    </tr>\n",
       "    <tr>\n",
       "      <th>1</th>\n",
       "      <td>2013-07-01</td>\n",
       "      <td>1000</td>\n",
       "      <td>OKLAHOMA STATE UNIVERSITY</td>\n",
       "      <td>Mason</td>\n",
       "      <td>C</td>\n",
       "      <td>ROOM CHARGES</td>\n",
       "      <td>368.96</td>\n",
       "      <td>SHERATON HOTEL</td>\n",
       "      <td>2013-07-30</td>\n",
       "      <td>2013-07-31</td>\n",
       "      <td>...</td>\n",
       "      <td>1.121239</td>\n",
       "      <td>6.0</td>\n",
       "      <td>7</td>\n",
       "      <td>1.166667</td>\n",
       "      <td>269.899489</td>\n",
       "      <td>269.899489</td>\n",
       "      <td>0.731514</td>\n",
       "      <td>217.095</td>\n",
       "      <td>217.095</td>\n",
       "      <td>0.588397</td>\n",
       "    </tr>\n",
       "    <tr>\n",
       "      <th>2</th>\n",
       "      <td>2013-07-01</td>\n",
       "      <td>1000</td>\n",
       "      <td>OKLAHOMA STATE UNIVERSITY</td>\n",
       "      <td>Massey</td>\n",
       "      <td>J</td>\n",
       "      <td>GENERAL PURCHASE</td>\n",
       "      <td>165.82</td>\n",
       "      <td>SEARS.COM 9300</td>\n",
       "      <td>2013-07-29</td>\n",
       "      <td>2013-07-31</td>\n",
       "      <td>...</td>\n",
       "      <td>1.097809</td>\n",
       "      <td>7.0</td>\n",
       "      <td>7</td>\n",
       "      <td>1.000000</td>\n",
       "      <td>434.824266</td>\n",
       "      <td>434.824266</td>\n",
       "      <td>2.622267</td>\n",
       "      <td>98.000</td>\n",
       "      <td>98.000</td>\n",
       "      <td>0.591002</td>\n",
       "    </tr>\n",
       "    <tr>\n",
       "      <th>3</th>\n",
       "      <td>2013-07-01</td>\n",
       "      <td>1000</td>\n",
       "      <td>OKLAHOMA STATE UNIVERSITY</td>\n",
       "      <td>Massey</td>\n",
       "      <td>T</td>\n",
       "      <td>GENERAL PURCHASE</td>\n",
       "      <td>96.39</td>\n",
       "      <td>WAL-MART #0137</td>\n",
       "      <td>2013-07-30</td>\n",
       "      <td>2013-07-31</td>\n",
       "      <td>...</td>\n",
       "      <td>1.083031</td>\n",
       "      <td>6.0</td>\n",
       "      <td>7</td>\n",
       "      <td>1.166667</td>\n",
       "      <td>364.359929</td>\n",
       "      <td>364.359929</td>\n",
       "      <td>3.780059</td>\n",
       "      <td>207.820</td>\n",
       "      <td>207.820</td>\n",
       "      <td>2.156033</td>\n",
       "    </tr>\n",
       "    <tr>\n",
       "      <th>4</th>\n",
       "      <td>2013-07-01</td>\n",
       "      <td>1000</td>\n",
       "      <td>OKLAHOMA STATE UNIVERSITY</td>\n",
       "      <td>Mauro-Herrera</td>\n",
       "      <td>M</td>\n",
       "      <td>HAMMERMILL COPY PLUS COPY EA</td>\n",
       "      <td>125.96</td>\n",
       "      <td>STAPLES DIRECT</td>\n",
       "      <td>2013-07-30</td>\n",
       "      <td>2013-07-31</td>\n",
       "      <td>...</td>\n",
       "      <td>1.107162</td>\n",
       "      <td>6.0</td>\n",
       "      <td>7</td>\n",
       "      <td>1.166667</td>\n",
       "      <td>93.818028</td>\n",
       "      <td>93.818028</td>\n",
       "      <td>0.744824</td>\n",
       "      <td>36.980</td>\n",
       "      <td>36.980</td>\n",
       "      <td>0.293585</td>\n",
       "    </tr>\n",
       "    <tr>\n",
       "      <th>...</th>\n",
       "      <td>...</td>\n",
       "      <td>...</td>\n",
       "      <td>...</td>\n",
       "      <td>...</td>\n",
       "      <td>...</td>\n",
       "      <td>...</td>\n",
       "      <td>...</td>\n",
       "      <td>...</td>\n",
       "      <td>...</td>\n",
       "      <td>...</td>\n",
       "      <td>...</td>\n",
       "      <td>...</td>\n",
       "      <td>...</td>\n",
       "      <td>...</td>\n",
       "      <td>...</td>\n",
       "      <td>...</td>\n",
       "      <td>...</td>\n",
       "      <td>...</td>\n",
       "      <td>...</td>\n",
       "      <td>...</td>\n",
       "      <td>...</td>\n",
       "    </tr>\n",
       "    <tr>\n",
       "      <th>442453</th>\n",
       "      <td>2014-06-01</td>\n",
       "      <td>98000</td>\n",
       "      <td>GRAND RIVER DAM AUTH.</td>\n",
       "      <td>Cardholder</td>\n",
       "      <td>e</td>\n",
       "      <td>GENERAL PURCHASE</td>\n",
       "      <td>992.00</td>\n",
       "      <td>TOTAL VALVE SYSTEMS</td>\n",
       "      <td>2014-06-20</td>\n",
       "      <td>2014-06-23</td>\n",
       "      <td>...</td>\n",
       "      <td>0.759099</td>\n",
       "      <td>9.0</td>\n",
       "      <td>6</td>\n",
       "      <td>0.666667</td>\n",
       "      <td>10961.525862</td>\n",
       "      <td>10961.525862</td>\n",
       "      <td>11.049925</td>\n",
       "      <td>1720.000</td>\n",
       "      <td>1720.000</td>\n",
       "      <td>1.733871</td>\n",
       "    </tr>\n",
       "    <tr>\n",
       "      <th>442454</th>\n",
       "      <td>2014-06-01</td>\n",
       "      <td>98000</td>\n",
       "      <td>GRAND RIVER DAM AUTH.</td>\n",
       "      <td>Cardholder</td>\n",
       "      <td>e</td>\n",
       "      <td>GENERAL PURCHASE</td>\n",
       "      <td>2415.00</td>\n",
       "      <td>PRYOR WASTE &amp; RECYCLING L</td>\n",
       "      <td>2014-06-20</td>\n",
       "      <td>2014-06-23</td>\n",
       "      <td>...</td>\n",
       "      <td>0.889525</td>\n",
       "      <td>7.0</td>\n",
       "      <td>6</td>\n",
       "      <td>0.857143</td>\n",
       "      <td>10961.525862</td>\n",
       "      <td>10961.525862</td>\n",
       "      <td>4.538934</td>\n",
       "      <td>1720.000</td>\n",
       "      <td>1720.000</td>\n",
       "      <td>0.712215</td>\n",
       "    </tr>\n",
       "    <tr>\n",
       "      <th>442455</th>\n",
       "      <td>2014-06-01</td>\n",
       "      <td>98000</td>\n",
       "      <td>GRAND RIVER DAM AUTH.</td>\n",
       "      <td>Cardholder</td>\n",
       "      <td>e</td>\n",
       "      <td>GENERAL PURCHASE</td>\n",
       "      <td>177.50</td>\n",
       "      <td>ACCURATE ENVIROMENTAL LAB</td>\n",
       "      <td>2014-06-20</td>\n",
       "      <td>2014-06-23</td>\n",
       "      <td>...</td>\n",
       "      <td>0.969619</td>\n",
       "      <td>6.0</td>\n",
       "      <td>6</td>\n",
       "      <td>1.000000</td>\n",
       "      <td>10961.525862</td>\n",
       "      <td>10961.525862</td>\n",
       "      <td>61.755075</td>\n",
       "      <td>1720.000</td>\n",
       "      <td>1720.000</td>\n",
       "      <td>9.690141</td>\n",
       "    </tr>\n",
       "    <tr>\n",
       "      <th>442456</th>\n",
       "      <td>2014-06-01</td>\n",
       "      <td>98000</td>\n",
       "      <td>GRAND RIVER DAM AUTH.</td>\n",
       "      <td>Cardholder</td>\n",
       "      <td>e</td>\n",
       "      <td>GENERAL PURCHASE</td>\n",
       "      <td>32457.00</td>\n",
       "      <td>RED BUD SERVICE INC</td>\n",
       "      <td>2014-06-19</td>\n",
       "      <td>2014-06-23</td>\n",
       "      <td>...</td>\n",
       "      <td>1.005025</td>\n",
       "      <td>6.0</td>\n",
       "      <td>6</td>\n",
       "      <td>1.000000</td>\n",
       "      <td>10961.525862</td>\n",
       "      <td>10961.525862</td>\n",
       "      <td>0.337725</td>\n",
       "      <td>1720.000</td>\n",
       "      <td>1720.000</td>\n",
       "      <td>0.052993</td>\n",
       "    </tr>\n",
       "    <tr>\n",
       "      <th>442457</th>\n",
       "      <td>2014-06-01</td>\n",
       "      <td>98000</td>\n",
       "      <td>GRAND RIVER DAM AUTH.</td>\n",
       "      <td>Cardholder</td>\n",
       "      <td>e</td>\n",
       "      <td>GENERAL PURCHASE</td>\n",
       "      <td>4714.07</td>\n",
       "      <td>WARRENCAT CREDIT DEPT</td>\n",
       "      <td>2014-06-20</td>\n",
       "      <td>2014-06-23</td>\n",
       "      <td>...</td>\n",
       "      <td>0.996933</td>\n",
       "      <td>6.0</td>\n",
       "      <td>6</td>\n",
       "      <td>1.000000</td>\n",
       "      <td>10961.525862</td>\n",
       "      <td>10961.525862</td>\n",
       "      <td>2.325279</td>\n",
       "      <td>1720.000</td>\n",
       "      <td>1720.000</td>\n",
       "      <td>0.364865</td>\n",
       "    </tr>\n",
       "  </tbody>\n",
       "</table>\n",
       "<p>442458 rows × 33 columns</p>\n",
       "</div>"
      ],
      "text/plain": [
       "       Year_Month  Agency_Number                Agency_Name  \\\n",
       "0      2013-07-01           1000  OKLAHOMA STATE UNIVERSITY   \n",
       "1      2013-07-01           1000  OKLAHOMA STATE UNIVERSITY   \n",
       "2      2013-07-01           1000  OKLAHOMA STATE UNIVERSITY   \n",
       "3      2013-07-01           1000  OKLAHOMA STATE UNIVERSITY   \n",
       "4      2013-07-01           1000  OKLAHOMA STATE UNIVERSITY   \n",
       "...           ...            ...                        ...   \n",
       "442453 2014-06-01          98000      GRAND RIVER DAM AUTH.   \n",
       "442454 2014-06-01          98000      GRAND RIVER DAM AUTH.   \n",
       "442455 2014-06-01          98000      GRAND RIVER DAM AUTH.   \n",
       "442456 2014-06-01          98000      GRAND RIVER DAM AUTH.   \n",
       "442457 2014-06-01          98000      GRAND RIVER DAM AUTH.   \n",
       "\n",
       "       Cardholder_Last_Name Cardholder_First_Initial  \\\n",
       "0                     Mason                        C   \n",
       "1                     Mason                        C   \n",
       "2                    Massey                        J   \n",
       "3                    Massey                        T   \n",
       "4             Mauro-Herrera                        M   \n",
       "...                     ...                      ...   \n",
       "442453           Cardholder                        e   \n",
       "442454           Cardholder                        e   \n",
       "442455           Cardholder                        e   \n",
       "442456           Cardholder                        e   \n",
       "442457           Cardholder                        e   \n",
       "\n",
       "                         Description    Amount                     Vendor  \\\n",
       "0                   GENERAL PURCHASE    890.00                      NACAS   \n",
       "1                       ROOM CHARGES    368.96             SHERATON HOTEL   \n",
       "2                   GENERAL PURCHASE    165.82             SEARS.COM 9300   \n",
       "3                   GENERAL PURCHASE     96.39             WAL-MART #0137   \n",
       "4       HAMMERMILL COPY PLUS COPY EA    125.96             STAPLES DIRECT   \n",
       "...                              ...       ...                        ...   \n",
       "442453              GENERAL PURCHASE    992.00        TOTAL VALVE SYSTEMS   \n",
       "442454              GENERAL PURCHASE   2415.00  PRYOR WASTE & RECYCLING L   \n",
       "442455              GENERAL PURCHASE    177.50  ACCURATE ENVIROMENTAL LAB   \n",
       "442456              GENERAL PURCHASE  32457.00        RED BUD SERVICE INC   \n",
       "442457              GENERAL PURCHASE   4714.07      WARRENCAT CREDIT DEPT   \n",
       "\n",
       "       Transaction_Date Posted_Date  ... agency_merchant_month_mean_ratio  \\\n",
       "0            2013-07-30  2013-07-31  ...                         1.172103   \n",
       "1            2013-07-30  2013-07-31  ...                         1.121239   \n",
       "2            2013-07-29  2013-07-31  ...                         1.097809   \n",
       "3            2013-07-30  2013-07-31  ...                         1.083031   \n",
       "4            2013-07-30  2013-07-31  ...                         1.107162   \n",
       "...                 ...         ...  ...                              ...   \n",
       "442453       2014-06-20  2014-06-23  ...                         0.759099   \n",
       "442454       2014-06-20  2014-06-23  ...                         0.889525   \n",
       "442455       2014-06-20  2014-06-23  ...                         0.969619   \n",
       "442456       2014-06-19  2014-06-23  ...                         1.005025   \n",
       "442457       2014-06-20  2014-06-23  ...                         0.996933   \n",
       "\n",
       "        Month_median  agency_merchant_month_median  \\\n",
       "0                6.0                             7   \n",
       "1                6.0                             7   \n",
       "2                7.0                             7   \n",
       "3                6.0                             7   \n",
       "4                6.0                             7   \n",
       "...              ...                           ...   \n",
       "442453           9.0                             6   \n",
       "442454           7.0                             6   \n",
       "442455           6.0                             6   \n",
       "442456           6.0                             6   \n",
       "442457           6.0                             6   \n",
       "\n",
       "        agency_merchant_month_median_ratio     User_mean  \\\n",
       "0                                 1.166667    269.899489   \n",
       "1                                 1.166667    269.899489   \n",
       "2                                 1.000000    434.824266   \n",
       "3                                 1.166667    364.359929   \n",
       "4                                 1.166667     93.818028   \n",
       "...                                    ...           ...   \n",
       "442453                            0.666667  10961.525862   \n",
       "442454                            0.857143  10961.525862   \n",
       "442455                            1.000000  10961.525862   \n",
       "442456                            1.000000  10961.525862   \n",
       "442457                            1.000000  10961.525862   \n",
       "\n",
       "        cardholder_amount_mean  cardholder_amount_mean_ratio User_median  \\\n",
       "0                   269.899489                      0.303258     217.095   \n",
       "1                   269.899489                      0.731514     217.095   \n",
       "2                   434.824266                      2.622267      98.000   \n",
       "3                   364.359929                      3.780059     207.820   \n",
       "4                    93.818028                      0.744824      36.980   \n",
       "...                        ...                           ...         ...   \n",
       "442453            10961.525862                     11.049925    1720.000   \n",
       "442454            10961.525862                      4.538934    1720.000   \n",
       "442455            10961.525862                     61.755075    1720.000   \n",
       "442456            10961.525862                      0.337725    1720.000   \n",
       "442457            10961.525862                      2.325279    1720.000   \n",
       "\n",
       "        cardholder_amount_median  cardholder_amount_median_ratio  \n",
       "0                        217.095                        0.243927  \n",
       "1                        217.095                        0.588397  \n",
       "2                         98.000                        0.591002  \n",
       "3                        207.820                        2.156033  \n",
       "4                         36.980                        0.293585  \n",
       "...                          ...                             ...  \n",
       "442453                  1720.000                        1.733871  \n",
       "442454                  1720.000                        0.712215  \n",
       "442455                  1720.000                        9.690141  \n",
       "442456                  1720.000                        0.052993  \n",
       "442457                  1720.000                        0.364865  \n",
       "\n",
       "[442458 rows x 33 columns]"
      ]
     },
     "execution_count": 259,
     "metadata": {},
     "output_type": "execute_result"
    }
   ],
   "source": [
    "data10"
   ]
  },
  {
   "cell_type": "code",
   "execution_count": 260,
   "metadata": {
    "pycharm": {
     "name": "#%%\n"
    }
   },
   "outputs": [
    {
     "data": {
      "text/plain": [
       "count    4.424580e+05\n",
       "mean     1.072733e+04\n",
       "std      6.735747e+04\n",
       "min     -2.141700e+02\n",
       "25%      1.849600e+03\n",
       "50%      3.792580e+03\n",
       "75%      4.981000e+03\n",
       "max      1.903858e+06\n",
       "Name: cardholder_amount_max, dtype: float64"
      ]
     },
     "execution_count": 260,
     "metadata": {},
     "output_type": "execute_result"
    }
   ],
   "source": [
    "# add the new feature mean for each user\n",
    "data11 = pd.merge(data10, cardholder_name, how='left', on=['Cardholder_Last_Name', 'Cardholder_First_Initial'])\n",
    "# Feature 11: spend amount max for each user\n",
    "data11['cardholder_amount_max'] = np.where(data11['User_max']==0,0, data11['User_max'])\n",
    "data11['cardholder_amount_max'].describe()"
   ]
  },
  {
   "cell_type": "markdown",
   "metadata": {
    "pycharm": {
     "name": "#%% md\n"
    }
   },
   "source": [
    "Very large amount of transaction needs more attention and will be more harmful if we fail to detect them. Therefore, I created a feature that calculated the max amount of spending for a single transaction."
   ]
  },
  {
   "cell_type": "markdown",
   "metadata": {
    "pycharm": {
     "name": "#%% md\n"
    }
   },
   "source": [
    "# Feature 12: spend amount min for each user"
   ]
  },
  {
   "cell_type": "code",
   "execution_count": 261,
   "metadata": {
    "pycharm": {
     "name": "#%%\n"
    }
   },
   "outputs": [
    {
     "data": {
      "text/html": [
       "<div>\n",
       "<style scoped>\n",
       "    .dataframe tbody tr th:only-of-type {\n",
       "        vertical-align: middle;\n",
       "    }\n",
       "\n",
       "    .dataframe tbody tr th {\n",
       "        vertical-align: top;\n",
       "    }\n",
       "\n",
       "    .dataframe thead th {\n",
       "        text-align: right;\n",
       "    }\n",
       "</style>\n",
       "<table border=\"1\" class=\"dataframe\">\n",
       "  <thead>\n",
       "    <tr style=\"text-align: right;\">\n",
       "      <th></th>\n",
       "      <th></th>\n",
       "      <th>User_min</th>\n",
       "    </tr>\n",
       "    <tr>\n",
       "      <th>Cardholder_Last_Name</th>\n",
       "      <th>Cardholder_First_Initial</th>\n",
       "      <th></th>\n",
       "    </tr>\n",
       "  </thead>\n",
       "  <tbody>\n",
       "    <tr>\n",
       "      <th>15000</th>\n",
       "      <th>1</th>\n",
       "      <td>4626.46</td>\n",
       "    </tr>\n",
       "    <tr>\n",
       "      <th>24100</th>\n",
       "      <th>2</th>\n",
       "      <td>-35.29</td>\n",
       "    </tr>\n",
       "    <tr>\n",
       "      <th>42000</th>\n",
       "      <th>4</th>\n",
       "      <td>0.14</td>\n",
       "    </tr>\n",
       "    <tr>\n",
       "      <th>44600</th>\n",
       "      <th>4</th>\n",
       "      <td>111.99</td>\n",
       "    </tr>\n",
       "    <tr>\n",
       "      <th>48000</th>\n",
       "      <th>4</th>\n",
       "      <td>-250.00</td>\n",
       "    </tr>\n",
       "    <tr>\n",
       "      <th>...</th>\n",
       "      <th>...</th>\n",
       "      <td>...</td>\n",
       "    </tr>\n",
       "    <tr>\n",
       "      <th>cohen</th>\n",
       "      <th>T</th>\n",
       "      <td>-23.76</td>\n",
       "    </tr>\n",
       "    <tr>\n",
       "      <th>d'Offay</th>\n",
       "      <th>J</th>\n",
       "      <td>-988.07</td>\n",
       "    </tr>\n",
       "    <tr>\n",
       "      <th>de Leon</th>\n",
       "      <th>R</th>\n",
       "      <td>-177.88</td>\n",
       "    </tr>\n",
       "    <tr>\n",
       "      <th>owell</th>\n",
       "      <th>K</th>\n",
       "      <td>-87.00</td>\n",
       "    </tr>\n",
       "    <tr>\n",
       "      <th>russell</th>\n",
       "      <th>s</th>\n",
       "      <td>-12.08</td>\n",
       "    </tr>\n",
       "  </tbody>\n",
       "</table>\n",
       "<p>5213 rows × 1 columns</p>\n",
       "</div>"
      ],
      "text/plain": [
       "                                               User_min\n",
       "Cardholder_Last_Name Cardholder_First_Initial          \n",
       "15000                1                          4626.46\n",
       "24100                2                           -35.29\n",
       "42000                4                             0.14\n",
       "44600                4                           111.99\n",
       "48000                4                          -250.00\n",
       "...                                                 ...\n",
       "cohen                T                           -23.76\n",
       "d'Offay              J                          -988.07\n",
       "de Leon              R                          -177.88\n",
       "owell                K                           -87.00\n",
       "russell              s                           -12.08\n",
       "\n",
       "[5213 rows x 1 columns]"
      ]
     },
     "execution_count": 261,
     "metadata": {},
     "output_type": "execute_result"
    }
   ],
   "source": [
    "# create spending amount group by cardholder first and last name\n",
    "cardholder_name = data.groupby(['Cardholder_Last_Name', 'Cardholder_First_Initial'])['Amount'].min()\n",
    "cardholder_name = pd.DataFrame(cardholder_name)\n",
    "cardholder_name.columns = ['User_min']\n",
    "cardholder_name"
   ]
  },
  {
   "cell_type": "code",
   "execution_count": 262,
   "metadata": {
    "pycharm": {
     "name": "#%%\n"
    }
   },
   "outputs": [
    {
     "data": {
      "text/plain": [
       "count    442458.000000\n",
       "mean      -1186.815170\n",
       "std        3349.856845\n",
       "min      -42863.040000\n",
       "25%       -1170.700000\n",
       "50%        -366.740000\n",
       "75%         -67.950000\n",
       "max       29728.880000\n",
       "Name: cardholder_amount_min, dtype: float64"
      ]
     },
     "execution_count": 262,
     "metadata": {},
     "output_type": "execute_result"
    }
   ],
   "source": [
    "# add the new feature mean for each user\n",
    "data12 = pd.merge(data11, cardholder_name, how='left', on=['Cardholder_Last_Name', 'Cardholder_First_Initial'])\n",
    "# Feature 12: spend amount min for each user\n",
    "data12['cardholder_amount_min'] = np.where(data12['User_min']==0,0, data12['User_min'])\n",
    "data12['cardholder_amount_min'].describe()"
   ]
  },
  {
   "cell_type": "markdown",
   "metadata": {
    "pycharm": {
     "name": "#%% md\n"
    }
   },
   "source": [
    "Beside the large transaction, unexpectedly high amount of repayment could also be suspicious. Therefore, I created a feature that records the min number for a single transaction for each user."
   ]
  },
  {
   "cell_type": "markdown",
   "metadata": {
    "pycharm": {
     "name": "#%% md\n"
    }
   },
   "source": [
    "# Feature 13: spend amount mean for each agency"
   ]
  },
  {
   "cell_type": "code",
   "execution_count": 264,
   "metadata": {
    "pycharm": {
     "name": "#%%\n"
    }
   },
   "outputs": [
    {
     "data": {
      "text/html": [
       "<div>\n",
       "<style scoped>\n",
       "    .dataframe tbody tr th:only-of-type {\n",
       "        vertical-align: middle;\n",
       "    }\n",
       "\n",
       "    .dataframe tbody tr th {\n",
       "        vertical-align: top;\n",
       "    }\n",
       "\n",
       "    .dataframe thead th {\n",
       "        text-align: right;\n",
       "    }\n",
       "</style>\n",
       "<table border=\"1\" class=\"dataframe\">\n",
       "  <thead>\n",
       "    <tr style=\"text-align: right;\">\n",
       "      <th></th>\n",
       "      <th>Agency_mean</th>\n",
       "    </tr>\n",
       "    <tr>\n",
       "      <th>Agency_Name</th>\n",
       "      <th></th>\n",
       "    </tr>\n",
       "  </thead>\n",
       "  <tbody>\n",
       "    <tr>\n",
       "      <th>ARDMORE HIGHER EDUCATION CENTER</th>\n",
       "      <td>107.701356</td>\n",
       "    </tr>\n",
       "    <tr>\n",
       "      <th>ATTORNEY GENERAL</th>\n",
       "      <td>435.798823</td>\n",
       "    </tr>\n",
       "    <tr>\n",
       "      <th>BD. OF CHEM. TEST ALCOHOL/DRUG</th>\n",
       "      <td>384.162561</td>\n",
       "    </tr>\n",
       "    <tr>\n",
       "      <th>BD. OF EXAM. FOR LT CARE ADMIN</th>\n",
       "      <td>139.612353</td>\n",
       "    </tr>\n",
       "    <tr>\n",
       "      <th>BD. OF EXAM. FOR LT CARE ADMIN.</th>\n",
       "      <td>79.341333</td>\n",
       "    </tr>\n",
       "    <tr>\n",
       "      <th>...</th>\n",
       "      <td>...</td>\n",
       "    </tr>\n",
       "    <tr>\n",
       "      <th>WATER RESOURCES BOARD</th>\n",
       "      <td>247.300288</td>\n",
       "    </tr>\n",
       "    <tr>\n",
       "      <th>WILL ROGERS MEMORIAL COMMISSION</th>\n",
       "      <td>143.577083</td>\n",
       "    </tr>\n",
       "    <tr>\n",
       "      <th>WORKER'S COMP. COMMISSION</th>\n",
       "      <td>60.000000</td>\n",
       "    </tr>\n",
       "    <tr>\n",
       "      <th>WORKERS COMPENSATION COURT</th>\n",
       "      <td>135.069091</td>\n",
       "    </tr>\n",
       "    <tr>\n",
       "      <th>`DEPARTMENT OF EDUCATION</th>\n",
       "      <td>283.288690</td>\n",
       "    </tr>\n",
       "  </tbody>\n",
       "</table>\n",
       "<p>124 rows × 1 columns</p>\n",
       "</div>"
      ],
      "text/plain": [
       "                                 Agency_mean\n",
       "Agency_Name                                 \n",
       "ARDMORE HIGHER EDUCATION CENTER   107.701356\n",
       "ATTORNEY GENERAL                  435.798823\n",
       "BD. OF CHEM. TEST ALCOHOL/DRUG    384.162561\n",
       "BD. OF EXAM. FOR LT CARE ADMIN    139.612353\n",
       "BD. OF EXAM. FOR LT CARE ADMIN.    79.341333\n",
       "...                                      ...\n",
       "WATER RESOURCES BOARD             247.300288\n",
       "WILL ROGERS MEMORIAL COMMISSION   143.577083\n",
       "WORKER'S COMP. COMMISSION          60.000000\n",
       "WORKERS COMPENSATION COURT        135.069091\n",
       "`DEPARTMENT OF EDUCATION          283.288690\n",
       "\n",
       "[124 rows x 1 columns]"
      ]
     },
     "execution_count": 264,
     "metadata": {},
     "output_type": "execute_result"
    }
   ],
   "source": [
    "# create spending amount mean group by Agency Name\n",
    "cardholder_name = data.groupby(['Agency_Name'])['Amount'].mean()\n",
    "cardholder_name = pd.DataFrame(cardholder_name)\n",
    "cardholder_name.columns = ['Agency_mean']\n",
    "cardholder_name"
   ]
  },
  {
   "cell_type": "code",
   "execution_count": 265,
   "metadata": {
    "pycharm": {
     "name": "#%%\n"
    }
   },
   "outputs": [
    {
     "data": {
      "text/plain": [
       "count    442458.000000\n",
       "mean        424.991170\n",
       "std         477.934023\n",
       "min          22.017037\n",
       "25%         291.209448\n",
       "50%         326.837436\n",
       "75%         421.091646\n",
       "max      171619.610000\n",
       "Name: agency_amount_mean, dtype: float64"
      ]
     },
     "execution_count": 265,
     "metadata": {},
     "output_type": "execute_result"
    }
   ],
   "source": [
    "# add the new feature mean for each user\n",
    "data13 = pd.merge(data12, cardholder_name, how='left', on=['Agency_Name'])\n",
    "# Feature 13: spend amount mean for each agency\n",
    "data13['agency_amount_mean'] = np.where(data13['Agency_mean']==0,0, data13['Agency_mean'])\n",
    "data13['agency_amount_mean'].describe()"
   ]
  },
  {
   "cell_type": "markdown",
   "metadata": {
    "pycharm": {
     "name": "#%% md\n"
    }
   },
   "source": [
    "Sometimes data from one single user cannot detect all anomalies. Therefore, I calculated the mean of transaction amount for users under one agency."
   ]
  },
  {
   "cell_type": "markdown",
   "metadata": {
    "pycharm": {
     "name": "#%% md\n"
    }
   },
   "source": [
    "# Feature 14: spend amount median for each agency"
   ]
  },
  {
   "cell_type": "code",
   "execution_count": 266,
   "metadata": {
    "pycharm": {
     "name": "#%%\n"
    }
   },
   "outputs": [
    {
     "data": {
      "text/html": [
       "<div>\n",
       "<style scoped>\n",
       "    .dataframe tbody tr th:only-of-type {\n",
       "        vertical-align: middle;\n",
       "    }\n",
       "\n",
       "    .dataframe tbody tr th {\n",
       "        vertical-align: top;\n",
       "    }\n",
       "\n",
       "    .dataframe thead th {\n",
       "        text-align: right;\n",
       "    }\n",
       "</style>\n",
       "<table border=\"1\" class=\"dataframe\">\n",
       "  <thead>\n",
       "    <tr style=\"text-align: right;\">\n",
       "      <th></th>\n",
       "      <th>Agency_median</th>\n",
       "    </tr>\n",
       "    <tr>\n",
       "      <th>Agency_Name</th>\n",
       "      <th></th>\n",
       "    </tr>\n",
       "  </thead>\n",
       "  <tbody>\n",
       "    <tr>\n",
       "      <th>ARDMORE HIGHER EDUCATION CENTER</th>\n",
       "      <td>66.780</td>\n",
       "    </tr>\n",
       "    <tr>\n",
       "      <th>ATTORNEY GENERAL</th>\n",
       "      <td>127.000</td>\n",
       "    </tr>\n",
       "    <tr>\n",
       "      <th>BD. OF CHEM. TEST ALCOHOL/DRUG</th>\n",
       "      <td>206.495</td>\n",
       "    </tr>\n",
       "    <tr>\n",
       "      <th>BD. OF EXAM. FOR LT CARE ADMIN</th>\n",
       "      <td>68.000</td>\n",
       "    </tr>\n",
       "    <tr>\n",
       "      <th>BD. OF EXAM. FOR LT CARE ADMIN.</th>\n",
       "      <td>65.520</td>\n",
       "    </tr>\n",
       "    <tr>\n",
       "      <th>...</th>\n",
       "      <td>...</td>\n",
       "    </tr>\n",
       "    <tr>\n",
       "      <th>WATER RESOURCES BOARD</th>\n",
       "      <td>83.000</td>\n",
       "    </tr>\n",
       "    <tr>\n",
       "      <th>WILL ROGERS MEMORIAL COMMISSION</th>\n",
       "      <td>109.000</td>\n",
       "    </tr>\n",
       "    <tr>\n",
       "      <th>WORKER'S COMP. COMMISSION</th>\n",
       "      <td>60.000</td>\n",
       "    </tr>\n",
       "    <tr>\n",
       "      <th>WORKERS COMPENSATION COURT</th>\n",
       "      <td>107.950</td>\n",
       "    </tr>\n",
       "    <tr>\n",
       "      <th>`DEPARTMENT OF EDUCATION</th>\n",
       "      <td>104.500</td>\n",
       "    </tr>\n",
       "  </tbody>\n",
       "</table>\n",
       "<p>124 rows × 1 columns</p>\n",
       "</div>"
      ],
      "text/plain": [
       "                                 Agency_median\n",
       "Agency_Name                                   \n",
       "ARDMORE HIGHER EDUCATION CENTER         66.780\n",
       "ATTORNEY GENERAL                       127.000\n",
       "BD. OF CHEM. TEST ALCOHOL/DRUG         206.495\n",
       "BD. OF EXAM. FOR LT CARE ADMIN          68.000\n",
       "BD. OF EXAM. FOR LT CARE ADMIN.         65.520\n",
       "...                                        ...\n",
       "WATER RESOURCES BOARD                   83.000\n",
       "WILL ROGERS MEMORIAL COMMISSION        109.000\n",
       "WORKER'S COMP. COMMISSION               60.000\n",
       "WORKERS COMPENSATION COURT             107.950\n",
       "`DEPARTMENT OF EDUCATION               104.500\n",
       "\n",
       "[124 rows x 1 columns]"
      ]
     },
     "execution_count": 266,
     "metadata": {},
     "output_type": "execute_result"
    }
   ],
   "source": [
    "# create spending amount mean group by Agency Name\n",
    "cardholder_name = data.groupby(['Agency_Name'])['Amount'].median()\n",
    "cardholder_name = pd.DataFrame(cardholder_name)\n",
    "cardholder_name.columns = ['Agency_median']\n",
    "cardholder_name"
   ]
  },
  {
   "cell_type": "code",
   "execution_count": 267,
   "metadata": {
    "pycharm": {
     "name": "#%%\n"
    }
   },
   "outputs": [
    {
     "data": {
      "text/plain": [
       "count    442458.000000\n",
       "mean        111.578082\n",
       "std         367.108444\n",
       "min           4.750000\n",
       "25%          90.335000\n",
       "50%         100.000000\n",
       "75%         118.960000\n",
       "max      171619.610000\n",
       "Name: agency_amount_median, dtype: float64"
      ]
     },
     "execution_count": 267,
     "metadata": {},
     "output_type": "execute_result"
    }
   ],
   "source": [
    "# add the new feature median for each user\n",
    "data14 = pd.merge(data13, cardholder_name, how='left', on=['Agency_Name'])\n",
    "# Feature 14: spend amount median for each agency\n",
    "data14['agency_amount_median'] = np.where(data14['Agency_median']==0,0, data14['Agency_median'])\n",
    "data14['agency_amount_median'].describe()"
   ]
  },
  {
   "cell_type": "markdown",
   "metadata": {
    "pycharm": {
     "name": "#%% md\n"
    }
   },
   "source": [
    "Similar to the previous one, when data from one single user cannot detect all anomalies, we can use the data from all users under an agency. The medium number will not be affected by the outliers and sometime might be more reliable than the mean."
   ]
  },
  {
   "cell_type": "markdown",
   "metadata": {
    "pycharm": {
     "name": "#%% md\n"
    }
   },
   "source": [
    "# Feature 15: spend amount max for each agency"
   ]
  },
  {
   "cell_type": "code",
   "execution_count": 272,
   "metadata": {
    "pycharm": {
     "name": "#%%\n"
    }
   },
   "outputs": [
    {
     "data": {
      "text/html": [
       "<div>\n",
       "<style scoped>\n",
       "    .dataframe tbody tr th:only-of-type {\n",
       "        vertical-align: middle;\n",
       "    }\n",
       "\n",
       "    .dataframe tbody tr th {\n",
       "        vertical-align: top;\n",
       "    }\n",
       "\n",
       "    .dataframe thead th {\n",
       "        text-align: right;\n",
       "    }\n",
       "</style>\n",
       "<table border=\"1\" class=\"dataframe\">\n",
       "  <thead>\n",
       "    <tr style=\"text-align: right;\">\n",
       "      <th></th>\n",
       "      <th>Agency_max</th>\n",
       "    </tr>\n",
       "    <tr>\n",
       "      <th>Agency_Name</th>\n",
       "      <th></th>\n",
       "    </tr>\n",
       "  </thead>\n",
       "  <tbody>\n",
       "    <tr>\n",
       "      <th>ARDMORE HIGHER EDUCATION CENTER</th>\n",
       "      <td>750.17</td>\n",
       "    </tr>\n",
       "    <tr>\n",
       "      <th>ATTORNEY GENERAL</th>\n",
       "      <td>15223.30</td>\n",
       "    </tr>\n",
       "    <tr>\n",
       "      <th>BD. OF CHEM. TEST ALCOHOL/DRUG</th>\n",
       "      <td>1580.00</td>\n",
       "    </tr>\n",
       "    <tr>\n",
       "      <th>BD. OF EXAM. FOR LT CARE ADMIN</th>\n",
       "      <td>1500.00</td>\n",
       "    </tr>\n",
       "    <tr>\n",
       "      <th>BD. OF EXAM. FOR LT CARE ADMIN.</th>\n",
       "      <td>192.00</td>\n",
       "    </tr>\n",
       "    <tr>\n",
       "      <th>...</th>\n",
       "      <td>...</td>\n",
       "    </tr>\n",
       "    <tr>\n",
       "      <th>WATER RESOURCES BOARD</th>\n",
       "      <td>4999.00</td>\n",
       "    </tr>\n",
       "    <tr>\n",
       "      <th>WILL ROGERS MEMORIAL COMMISSION</th>\n",
       "      <td>503.84</td>\n",
       "    </tr>\n",
       "    <tr>\n",
       "      <th>WORKER'S COMP. COMMISSION</th>\n",
       "      <td>60.00</td>\n",
       "    </tr>\n",
       "    <tr>\n",
       "      <th>WORKERS COMPENSATION COURT</th>\n",
       "      <td>324.71</td>\n",
       "    </tr>\n",
       "    <tr>\n",
       "      <th>`DEPARTMENT OF EDUCATION</th>\n",
       "      <td>9508.25</td>\n",
       "    </tr>\n",
       "  </tbody>\n",
       "</table>\n",
       "<p>124 rows × 1 columns</p>\n",
       "</div>"
      ],
      "text/plain": [
       "                                 Agency_max\n",
       "Agency_Name                                \n",
       "ARDMORE HIGHER EDUCATION CENTER      750.17\n",
       "ATTORNEY GENERAL                   15223.30\n",
       "BD. OF CHEM. TEST ALCOHOL/DRUG      1580.00\n",
       "BD. OF EXAM. FOR LT CARE ADMIN      1500.00\n",
       "BD. OF EXAM. FOR LT CARE ADMIN.      192.00\n",
       "...                                     ...\n",
       "WATER RESOURCES BOARD               4999.00\n",
       "WILL ROGERS MEMORIAL COMMISSION      503.84\n",
       "WORKER'S COMP. COMMISSION             60.00\n",
       "WORKERS COMPENSATION COURT           324.71\n",
       "`DEPARTMENT OF EDUCATION            9508.25\n",
       "\n",
       "[124 rows x 1 columns]"
      ]
     },
     "execution_count": 272,
     "metadata": {},
     "output_type": "execute_result"
    }
   ],
   "source": [
    "# create spending amount mean group by Agency Name\n",
    "cardholder_name = data.groupby(['Agency_Name'])['Amount'].max()\n",
    "cardholder_name = pd.DataFrame(cardholder_name)\n",
    "cardholder_name.columns = ['Agency_max']\n",
    "cardholder_name"
   ]
  },
  {
   "cell_type": "code",
   "execution_count": 273,
   "metadata": {
    "pycharm": {
     "name": "#%%\n"
    }
   },
   "outputs": [
    {
     "data": {
      "text/plain": [
       "count    4.424580e+05\n",
       "mean     3.318134e+05\n",
       "std      6.349259e+05\n",
       "min      3.558000e+01\n",
       "25%      2.796738e+04\n",
       "50%      6.100072e+04\n",
       "75%      1.142032e+05\n",
       "max      1.903858e+06\n",
       "Name: agency_amount_max, dtype: float64"
      ]
     },
     "execution_count": 273,
     "metadata": {},
     "output_type": "execute_result"
    }
   ],
   "source": [
    "# add the new feature median for each user\n",
    "data15 = pd.merge(data14, cardholder_name, how='left', on=['Agency_Name'])\n",
    "# Feature 15: spend amount max for each agency\n",
    "data15['agency_amount_max'] = np.where(data15['Agency_max']==0,0, data15['Agency_max'])\n",
    "data15['agency_amount_max'].describe()"
   ]
  },
  {
   "cell_type": "markdown",
   "metadata": {
    "pycharm": {
     "name": "#%% md\n"
    }
   },
   "source": [
    "Very large amount of transaction needs more attention and will be more harmful if we fail to detect them. Therefore, I created a feature that calculated the max amount of spending for all transactions under each agency."
   ]
  },
  {
   "cell_type": "code",
   "execution_count": 276,
   "metadata": {
    "pycharm": {
     "name": "#%%\n"
    }
   },
   "outputs": [
    {
     "data": {
      "text/html": [
       "<div>\n",
       "<style scoped>\n",
       "    .dataframe tbody tr th:only-of-type {\n",
       "        vertical-align: middle;\n",
       "    }\n",
       "\n",
       "    .dataframe tbody tr th {\n",
       "        vertical-align: top;\n",
       "    }\n",
       "\n",
       "    .dataframe thead th {\n",
       "        text-align: right;\n",
       "    }\n",
       "</style>\n",
       "<table border=\"1\" class=\"dataframe\">\n",
       "  <thead>\n",
       "    <tr style=\"text-align: right;\">\n",
       "      <th></th>\n",
       "      <th>Year_Month</th>\n",
       "      <th>Agency_Number</th>\n",
       "      <th>Agency_Name</th>\n",
       "      <th>Cardholder_Last_Name</th>\n",
       "      <th>Cardholder_First_Initial</th>\n",
       "      <th>Description</th>\n",
       "      <th>Amount</th>\n",
       "      <th>Vendor</th>\n",
       "      <th>Transaction_Date</th>\n",
       "      <th>Posted_Date</th>\n",
       "      <th>...</th>\n",
       "      <th>User_max</th>\n",
       "      <th>cardholder_amount_max</th>\n",
       "      <th>User_min</th>\n",
       "      <th>cardholder_amount_min</th>\n",
       "      <th>Agency_mean</th>\n",
       "      <th>agency_amount_mean</th>\n",
       "      <th>Agency_median</th>\n",
       "      <th>agency_amount_median</th>\n",
       "      <th>Agency_max</th>\n",
       "      <th>agency_amount_max</th>\n",
       "    </tr>\n",
       "  </thead>\n",
       "  <tbody>\n",
       "    <tr>\n",
       "      <th>0</th>\n",
       "      <td>2013-07-01</td>\n",
       "      <td>1000</td>\n",
       "      <td>OKLAHOMA STATE UNIVERSITY</td>\n",
       "      <td>Mason</td>\n",
       "      <td>C</td>\n",
       "      <td>GENERAL PURCHASE</td>\n",
       "      <td>890.00</td>\n",
       "      <td>NACAS</td>\n",
       "      <td>2013-07-30</td>\n",
       "      <td>2013-07-31</td>\n",
       "      <td>...</td>\n",
       "      <td>1970.00</td>\n",
       "      <td>1970.00</td>\n",
       "      <td>-641.69</td>\n",
       "      <td>-641.69</td>\n",
       "      <td>291.209448</td>\n",
       "      <td>291.209448</td>\n",
       "      <td>100.0</td>\n",
       "      <td>100.0</td>\n",
       "      <td>27967.38</td>\n",
       "      <td>27967.38</td>\n",
       "    </tr>\n",
       "    <tr>\n",
       "      <th>1</th>\n",
       "      <td>2013-07-01</td>\n",
       "      <td>1000</td>\n",
       "      <td>OKLAHOMA STATE UNIVERSITY</td>\n",
       "      <td>Mason</td>\n",
       "      <td>C</td>\n",
       "      <td>ROOM CHARGES</td>\n",
       "      <td>368.96</td>\n",
       "      <td>SHERATON HOTEL</td>\n",
       "      <td>2013-07-30</td>\n",
       "      <td>2013-07-31</td>\n",
       "      <td>...</td>\n",
       "      <td>1970.00</td>\n",
       "      <td>1970.00</td>\n",
       "      <td>-641.69</td>\n",
       "      <td>-641.69</td>\n",
       "      <td>291.209448</td>\n",
       "      <td>291.209448</td>\n",
       "      <td>100.0</td>\n",
       "      <td>100.0</td>\n",
       "      <td>27967.38</td>\n",
       "      <td>27967.38</td>\n",
       "    </tr>\n",
       "    <tr>\n",
       "      <th>2</th>\n",
       "      <td>2013-07-01</td>\n",
       "      <td>1000</td>\n",
       "      <td>OKLAHOMA STATE UNIVERSITY</td>\n",
       "      <td>Massey</td>\n",
       "      <td>J</td>\n",
       "      <td>GENERAL PURCHASE</td>\n",
       "      <td>165.82</td>\n",
       "      <td>SEARS.COM 9300</td>\n",
       "      <td>2013-07-29</td>\n",
       "      <td>2013-07-31</td>\n",
       "      <td>...</td>\n",
       "      <td>3915.20</td>\n",
       "      <td>3915.20</td>\n",
       "      <td>-166.95</td>\n",
       "      <td>-166.95</td>\n",
       "      <td>291.209448</td>\n",
       "      <td>291.209448</td>\n",
       "      <td>100.0</td>\n",
       "      <td>100.0</td>\n",
       "      <td>27967.38</td>\n",
       "      <td>27967.38</td>\n",
       "    </tr>\n",
       "    <tr>\n",
       "      <th>3</th>\n",
       "      <td>2013-07-01</td>\n",
       "      <td>1000</td>\n",
       "      <td>OKLAHOMA STATE UNIVERSITY</td>\n",
       "      <td>Massey</td>\n",
       "      <td>T</td>\n",
       "      <td>GENERAL PURCHASE</td>\n",
       "      <td>96.39</td>\n",
       "      <td>WAL-MART #0137</td>\n",
       "      <td>2013-07-30</td>\n",
       "      <td>2013-07-31</td>\n",
       "      <td>...</td>\n",
       "      <td>1931.25</td>\n",
       "      <td>1931.25</td>\n",
       "      <td>-164.70</td>\n",
       "      <td>-164.70</td>\n",
       "      <td>291.209448</td>\n",
       "      <td>291.209448</td>\n",
       "      <td>100.0</td>\n",
       "      <td>100.0</td>\n",
       "      <td>27967.38</td>\n",
       "      <td>27967.38</td>\n",
       "    </tr>\n",
       "    <tr>\n",
       "      <th>4</th>\n",
       "      <td>2013-07-01</td>\n",
       "      <td>1000</td>\n",
       "      <td>OKLAHOMA STATE UNIVERSITY</td>\n",
       "      <td>Mauro-Herrera</td>\n",
       "      <td>M</td>\n",
       "      <td>HAMMERMILL COPY PLUS COPY EA</td>\n",
       "      <td>125.96</td>\n",
       "      <td>STAPLES DIRECT</td>\n",
       "      <td>2013-07-30</td>\n",
       "      <td>2013-07-31</td>\n",
       "      <td>...</td>\n",
       "      <td>679.18</td>\n",
       "      <td>679.18</td>\n",
       "      <td>-20.75</td>\n",
       "      <td>-20.75</td>\n",
       "      <td>291.209448</td>\n",
       "      <td>291.209448</td>\n",
       "      <td>100.0</td>\n",
       "      <td>100.0</td>\n",
       "      <td>27967.38</td>\n",
       "      <td>27967.38</td>\n",
       "    </tr>\n",
       "  </tbody>\n",
       "</table>\n",
       "<p>5 rows × 43 columns</p>\n",
       "</div>"
      ],
      "text/plain": [
       "  Year_Month  Agency_Number                Agency_Name Cardholder_Last_Name  \\\n",
       "0 2013-07-01           1000  OKLAHOMA STATE UNIVERSITY                Mason   \n",
       "1 2013-07-01           1000  OKLAHOMA STATE UNIVERSITY                Mason   \n",
       "2 2013-07-01           1000  OKLAHOMA STATE UNIVERSITY               Massey   \n",
       "3 2013-07-01           1000  OKLAHOMA STATE UNIVERSITY               Massey   \n",
       "4 2013-07-01           1000  OKLAHOMA STATE UNIVERSITY        Mauro-Herrera   \n",
       "\n",
       "  Cardholder_First_Initial                   Description  Amount  \\\n",
       "0                        C              GENERAL PURCHASE  890.00   \n",
       "1                        C                  ROOM CHARGES  368.96   \n",
       "2                        J              GENERAL PURCHASE  165.82   \n",
       "3                        T              GENERAL PURCHASE   96.39   \n",
       "4                        M  HAMMERMILL COPY PLUS COPY EA  125.96   \n",
       "\n",
       "           Vendor Transaction_Date Posted_Date  ... User_max  \\\n",
       "0           NACAS       2013-07-30  2013-07-31  ...  1970.00   \n",
       "1  SHERATON HOTEL       2013-07-30  2013-07-31  ...  1970.00   \n",
       "2  SEARS.COM 9300       2013-07-29  2013-07-31  ...  3915.20   \n",
       "3  WAL-MART #0137       2013-07-30  2013-07-31  ...  1931.25   \n",
       "4  STAPLES DIRECT       2013-07-30  2013-07-31  ...   679.18   \n",
       "\n",
       "   cardholder_amount_max  User_min  cardholder_amount_min Agency_mean  \\\n",
       "0                1970.00   -641.69                -641.69  291.209448   \n",
       "1                1970.00   -641.69                -641.69  291.209448   \n",
       "2                3915.20   -166.95                -166.95  291.209448   \n",
       "3                1931.25   -164.70                -164.70  291.209448   \n",
       "4                 679.18    -20.75                 -20.75  291.209448   \n",
       "\n",
       "   agency_amount_mean  Agency_median agency_amount_median  Agency_max  \\\n",
       "0          291.209448          100.0                100.0    27967.38   \n",
       "1          291.209448          100.0                100.0    27967.38   \n",
       "2          291.209448          100.0                100.0    27967.38   \n",
       "3          291.209448          100.0                100.0    27967.38   \n",
       "4          291.209448          100.0                100.0    27967.38   \n",
       "\n",
       "   agency_amount_max  \n",
       "0           27967.38  \n",
       "1           27967.38  \n",
       "2           27967.38  \n",
       "3           27967.38  \n",
       "4           27967.38  \n",
       "\n",
       "[5 rows x 43 columns]"
      ]
     },
     "execution_count": 276,
     "metadata": {},
     "output_type": "execute_result"
    }
   ],
   "source": [
    "data15.head()"
   ]
  },
  {
   "cell_type": "markdown",
   "metadata": {
    "pycharm": {
     "name": "#%% md\n"
    }
   },
   "source": [
    "Here is the dataframe that contain all features that are created. "
   ]
  },
  {
   "cell_type": "code",
   "execution_count": null,
   "metadata": {
    "pycharm": {
     "name": "#%%\n"
    }
   },
   "outputs": [],
   "source": []
  }
 ],
 "metadata": {
  "kernelspec": {
   "display_name": "Python 3",
   "language": "python",
   "name": "python3"
  },
  "language_info": {
   "codemirror_mode": {
    "name": "ipython",
    "version": 3
   },
   "file_extension": ".py",
   "mimetype": "text/x-python",
   "name": "python",
   "nbconvert_exporter": "python",
   "pygments_lexer": "ipython3",
   "version": "3.8.8"
  }
 },
 "nbformat": 4,
 "nbformat_minor": 1
}
