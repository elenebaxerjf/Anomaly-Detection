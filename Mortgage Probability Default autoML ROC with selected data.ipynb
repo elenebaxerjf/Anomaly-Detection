{
 "cells": [
  {
   "cell_type": "markdown",
   "metadata": {},
   "source": [
    "## Learning Objectives \n",
    "\n",
    "* Develop a function: if a block of code will be re-used several times, develop it as a function to avoid coding errors.\n",
    "* ROC/AUC\n",
    "* VARImp\n",
    "* Train and test your model with a small dataset.\n",
    "* Model with the entire dataset when there is no error.\n",
    "* Keep your notebook clean and readable.\n",
    "* AutoML. See [this H2O autoML api](http://docs.h2o.ai/h2o/latest-stable/h2o-docs/automl.html) and [this one](http://docs.h2o.ai/h2o-tutorials/latest-stable/h2o-world-2017/automl/index.html)\n"
   ]
  },
  {
   "cell_type": "code",
   "execution_count": 26,
   "metadata": {},
   "outputs": [],
   "source": [
    "import numpy as np\n",
    "import datetime\n",
    "import pandas as pd\n",
    "import matplotlib.pyplot as plt\n",
    "#import seaborn as sns\n",
    "import warnings\n",
    "warnings.filterwarnings('ignore')"
   ]
  },
  {
   "cell_type": "code",
   "execution_count": 27,
   "metadata": {},
   "outputs": [],
   "source": [
    "data = pd.read_csv(\"//Users/Chriskuo/Downloads/XYZloan_default_selected_vars.csv\")"
   ]
  },
  {
   "cell_type": "code",
   "execution_count": 28,
   "metadata": {},
   "outputs": [],
   "source": [
    "from sklearn.model_selection import train_test_split\n",
    "train, test = train_test_split(\n",
    "     data, test_size=0.40, random_state=42)"
   ]
  },
  {
   "cell_type": "code",
   "execution_count": 29,
   "metadata": {},
   "outputs": [
    {
     "data": {
      "text/plain": [
       "(48000, 90)"
      ]
     },
     "execution_count": 29,
     "metadata": {},
     "output_type": "execute_result"
    }
   ],
   "source": [
    "train.shape"
   ]
  },
  {
   "cell_type": "code",
   "execution_count": 30,
   "metadata": {},
   "outputs": [
    {
     "data": {
      "text/plain": [
       "Unnamed: 0          int64\n",
       "Unnamed: 0.1        int64\n",
       "Unnamed: 0.1.1      int64\n",
       "id                  int64\n",
       "loan_default        int64\n",
       "AP001               int64\n",
       "AP002               int64\n",
       "AP003               int64\n",
       "AP004               int64\n",
       "AP005              object\n",
       "AP006              object\n",
       "AP007               int64\n",
       "AP008               int64\n",
       "AP009               int64\n",
       "TD001               int64\n",
       "TD002               int64\n",
       "TD005               int64\n",
       "TD006               int64\n",
       "TD009               int64\n",
       "TD010               int64\n",
       "TD013               int64\n",
       "TD014               int64\n",
       "TD015               int64\n",
       "TD022             float64\n",
       "TD023             float64\n",
       "TD024             float64\n",
       "TD025             float64\n",
       "TD026             float64\n",
       "TD027             float64\n",
       "TD028             float64\n",
       "                   ...   \n",
       "CD107             float64\n",
       "CD108             float64\n",
       "CD113             float64\n",
       "CD114             float64\n",
       "CD115             float64\n",
       "CD117             float64\n",
       "CD118             float64\n",
       "CD120             float64\n",
       "CD121             float64\n",
       "CD123             float64\n",
       "CD130             float64\n",
       "CD131             float64\n",
       "CD132             float64\n",
       "CD133             float64\n",
       "CD135             float64\n",
       "CD136             float64\n",
       "CD137             float64\n",
       "CD152             float64\n",
       "CD153             float64\n",
       "CD160             float64\n",
       "CD162             float64\n",
       "CD164             float64\n",
       "CD166             float64\n",
       "CD167             float64\n",
       "CD169             float64\n",
       "CD170             float64\n",
       "CD172             float64\n",
       "CD173             float64\n",
       "MB005             float64\n",
       "MB007              object\n",
       "Length: 90, dtype: object"
      ]
     },
     "execution_count": 30,
     "metadata": {},
     "output_type": "execute_result"
    }
   ],
   "source": [
    "train.dtypes"
   ]
  },
  {
   "cell_type": "code",
   "execution_count": 31,
   "metadata": {},
   "outputs": [
    {
     "data": {
      "text/html": [
       "<div>\n",
       "<style scoped>\n",
       "    .dataframe tbody tr th:only-of-type {\n",
       "        vertical-align: middle;\n",
       "    }\n",
       "\n",
       "    .dataframe tbody tr th {\n",
       "        vertical-align: top;\n",
       "    }\n",
       "\n",
       "    .dataframe thead th {\n",
       "        text-align: right;\n",
       "    }\n",
       "</style>\n",
       "<table border=\"1\" class=\"dataframe\">\n",
       "  <thead>\n",
       "    <tr style=\"text-align: right;\">\n",
       "      <th></th>\n",
       "      <th>0</th>\n",
       "    </tr>\n",
       "  </thead>\n",
       "  <tbody>\n",
       "    <tr>\n",
       "      <th>Unnamed: 0</th>\n",
       "      <td>int64</td>\n",
       "    </tr>\n",
       "    <tr>\n",
       "      <th>Unnamed: 0.1</th>\n",
       "      <td>int64</td>\n",
       "    </tr>\n",
       "    <tr>\n",
       "      <th>Unnamed: 0.1.1</th>\n",
       "      <td>int64</td>\n",
       "    </tr>\n",
       "    <tr>\n",
       "      <th>id</th>\n",
       "      <td>int64</td>\n",
       "    </tr>\n",
       "    <tr>\n",
       "      <th>loan_default</th>\n",
       "      <td>int64</td>\n",
       "    </tr>\n",
       "    <tr>\n",
       "      <th>AP001</th>\n",
       "      <td>int64</td>\n",
       "    </tr>\n",
       "    <tr>\n",
       "      <th>AP002</th>\n",
       "      <td>int64</td>\n",
       "    </tr>\n",
       "    <tr>\n",
       "      <th>AP003</th>\n",
       "      <td>int64</td>\n",
       "    </tr>\n",
       "    <tr>\n",
       "      <th>AP004</th>\n",
       "      <td>int64</td>\n",
       "    </tr>\n",
       "    <tr>\n",
       "      <th>AP005</th>\n",
       "      <td>object</td>\n",
       "    </tr>\n",
       "  </tbody>\n",
       "</table>\n",
       "</div>"
      ],
      "text/plain": [
       "                     0\n",
       "Unnamed: 0       int64\n",
       "Unnamed: 0.1     int64\n",
       "Unnamed: 0.1.1   int64\n",
       "id               int64\n",
       "loan_default     int64\n",
       "AP001            int64\n",
       "AP002            int64\n",
       "AP003            int64\n",
       "AP004            int64\n",
       "AP005           object"
      ]
     },
     "execution_count": 31,
     "metadata": {},
     "output_type": "execute_result"
    }
   ],
   "source": [
    "var = pd.DataFrame(train.dtypes)\n",
    "var.head(10)"
   ]
  },
  {
   "cell_type": "code",
   "execution_count": 32,
   "metadata": {},
   "outputs": [
    {
     "data": {
      "text/html": [
       "<div>\n",
       "<style scoped>\n",
       "    .dataframe tbody tr th:only-of-type {\n",
       "        vertical-align: middle;\n",
       "    }\n",
       "\n",
       "    .dataframe tbody tr th {\n",
       "        vertical-align: top;\n",
       "    }\n",
       "\n",
       "    .dataframe thead th {\n",
       "        text-align: right;\n",
       "    }\n",
       "</style>\n",
       "<table border=\"1\" class=\"dataframe\">\n",
       "  <thead>\n",
       "    <tr style=\"text-align: right;\">\n",
       "      <th></th>\n",
       "      <th>index</th>\n",
       "      <th>0</th>\n",
       "    </tr>\n",
       "  </thead>\n",
       "  <tbody>\n",
       "    <tr>\n",
       "      <th>0</th>\n",
       "      <td>Unnamed: 0</td>\n",
       "      <td>int64</td>\n",
       "    </tr>\n",
       "    <tr>\n",
       "      <th>1</th>\n",
       "      <td>Unnamed: 0.1</td>\n",
       "      <td>int64</td>\n",
       "    </tr>\n",
       "    <tr>\n",
       "      <th>2</th>\n",
       "      <td>Unnamed: 0.1.1</td>\n",
       "      <td>int64</td>\n",
       "    </tr>\n",
       "    <tr>\n",
       "      <th>3</th>\n",
       "      <td>id</td>\n",
       "      <td>int64</td>\n",
       "    </tr>\n",
       "    <tr>\n",
       "      <th>4</th>\n",
       "      <td>loan_default</td>\n",
       "      <td>int64</td>\n",
       "    </tr>\n",
       "  </tbody>\n",
       "</table>\n",
       "</div>"
      ],
      "text/plain": [
       "            index      0\n",
       "0      Unnamed: 0  int64\n",
       "1    Unnamed: 0.1  int64\n",
       "2  Unnamed: 0.1.1  int64\n",
       "3              id  int64\n",
       "4    loan_default  int64"
      ]
     },
     "execution_count": 32,
     "metadata": {},
     "output_type": "execute_result"
    }
   ],
   "source": [
    "var = pd.DataFrame(train.dtypes).reset_index()\n",
    "var.head()"
   ]
  },
  {
   "cell_type": "code",
   "execution_count": 33,
   "metadata": {},
   "outputs": [
    {
     "data": {
      "text/html": [
       "<div>\n",
       "<style scoped>\n",
       "    .dataframe tbody tr th:only-of-type {\n",
       "        vertical-align: middle;\n",
       "    }\n",
       "\n",
       "    .dataframe tbody tr th {\n",
       "        vertical-align: top;\n",
       "    }\n",
       "\n",
       "    .dataframe thead th {\n",
       "        text-align: right;\n",
       "    }\n",
       "</style>\n",
       "<table border=\"1\" class=\"dataframe\">\n",
       "  <thead>\n",
       "    <tr style=\"text-align: right;\">\n",
       "      <th></th>\n",
       "      <th>varname</th>\n",
       "      <th>dtype</th>\n",
       "    </tr>\n",
       "  </thead>\n",
       "  <tbody>\n",
       "    <tr>\n",
       "      <th>0</th>\n",
       "      <td>Unnamed: 0</td>\n",
       "      <td>int64</td>\n",
       "    </tr>\n",
       "    <tr>\n",
       "      <th>1</th>\n",
       "      <td>Unnamed: 0.1</td>\n",
       "      <td>int64</td>\n",
       "    </tr>\n",
       "    <tr>\n",
       "      <th>2</th>\n",
       "      <td>Unnamed: 0.1.1</td>\n",
       "      <td>int64</td>\n",
       "    </tr>\n",
       "    <tr>\n",
       "      <th>3</th>\n",
       "      <td>id</td>\n",
       "      <td>int64</td>\n",
       "    </tr>\n",
       "    <tr>\n",
       "      <th>4</th>\n",
       "      <td>loan_default</td>\n",
       "      <td>int64</td>\n",
       "    </tr>\n",
       "    <tr>\n",
       "      <th>5</th>\n",
       "      <td>AP001</td>\n",
       "      <td>int64</td>\n",
       "    </tr>\n",
       "    <tr>\n",
       "      <th>6</th>\n",
       "      <td>AP002</td>\n",
       "      <td>int64</td>\n",
       "    </tr>\n",
       "    <tr>\n",
       "      <th>7</th>\n",
       "      <td>AP003</td>\n",
       "      <td>int64</td>\n",
       "    </tr>\n",
       "    <tr>\n",
       "      <th>8</th>\n",
       "      <td>AP004</td>\n",
       "      <td>int64</td>\n",
       "    </tr>\n",
       "    <tr>\n",
       "      <th>9</th>\n",
       "      <td>AP005</td>\n",
       "      <td>object</td>\n",
       "    </tr>\n",
       "  </tbody>\n",
       "</table>\n",
       "</div>"
      ],
      "text/plain": [
       "          varname   dtype\n",
       "0      Unnamed: 0   int64\n",
       "1    Unnamed: 0.1   int64\n",
       "2  Unnamed: 0.1.1   int64\n",
       "3              id   int64\n",
       "4    loan_default   int64\n",
       "5           AP001   int64\n",
       "6           AP002   int64\n",
       "7           AP003   int64\n",
       "8           AP004   int64\n",
       "9           AP005  object"
      ]
     },
     "execution_count": 33,
     "metadata": {},
     "output_type": "execute_result"
    }
   ],
   "source": [
    "var.columns = ['varname','dtype'] \n",
    "var.head(10)"
   ]
  },
  {
   "cell_type": "code",
   "execution_count": 34,
   "metadata": {},
   "outputs": [
    {
     "data": {
      "text/html": [
       "<div>\n",
       "<style scoped>\n",
       "    .dataframe tbody tr th:only-of-type {\n",
       "        vertical-align: middle;\n",
       "    }\n",
       "\n",
       "    .dataframe tbody tr th {\n",
       "        vertical-align: top;\n",
       "    }\n",
       "\n",
       "    .dataframe thead th {\n",
       "        text-align: right;\n",
       "    }\n",
       "</style>\n",
       "<table border=\"1\" class=\"dataframe\">\n",
       "  <thead>\n",
       "    <tr style=\"text-align: right;\">\n",
       "      <th></th>\n",
       "      <th>varname</th>\n",
       "      <th>dtype</th>\n",
       "      <th>source</th>\n",
       "    </tr>\n",
       "  </thead>\n",
       "  <tbody>\n",
       "    <tr>\n",
       "      <th>0</th>\n",
       "      <td>Unnamed: 0</td>\n",
       "      <td>int64</td>\n",
       "      <td>Un</td>\n",
       "    </tr>\n",
       "    <tr>\n",
       "      <th>1</th>\n",
       "      <td>Unnamed: 0.1</td>\n",
       "      <td>int64</td>\n",
       "      <td>Un</td>\n",
       "    </tr>\n",
       "    <tr>\n",
       "      <th>2</th>\n",
       "      <td>Unnamed: 0.1.1</td>\n",
       "      <td>int64</td>\n",
       "      <td>Un</td>\n",
       "    </tr>\n",
       "    <tr>\n",
       "      <th>3</th>\n",
       "      <td>id</td>\n",
       "      <td>int64</td>\n",
       "      <td>id</td>\n",
       "    </tr>\n",
       "    <tr>\n",
       "      <th>4</th>\n",
       "      <td>loan_default</td>\n",
       "      <td>int64</td>\n",
       "      <td>lo</td>\n",
       "    </tr>\n",
       "  </tbody>\n",
       "</table>\n",
       "</div>"
      ],
      "text/plain": [
       "          varname  dtype source\n",
       "0      Unnamed: 0  int64     Un\n",
       "1    Unnamed: 0.1  int64     Un\n",
       "2  Unnamed: 0.1.1  int64     Un\n",
       "3              id  int64     id\n",
       "4    loan_default  int64     lo"
      ]
     },
     "execution_count": 34,
     "metadata": {},
     "output_type": "execute_result"
    }
   ],
   "source": [
    "var['source'] = var['varname'].str[:2]\n",
    "var.head()"
   ]
  },
  {
   "cell_type": "code",
   "execution_count": 35,
   "metadata": {},
   "outputs": [
    {
     "data": {
      "text/plain": [
       "CD    36\n",
       "TD    24\n",
       "AP     9\n",
       "CR     8\n",
       "PA     6\n",
       "Un     3\n",
       "MB     2\n",
       "lo     1\n",
       "id     1\n",
       "Name: source, dtype: int64"
      ]
     },
     "execution_count": 35,
     "metadata": {},
     "output_type": "execute_result"
    }
   ],
   "source": [
    "var['source'].value_counts()"
   ]
  },
  {
   "cell_type": "code",
   "execution_count": 36,
   "metadata": {},
   "outputs": [
    {
     "data": {
      "text/plain": [
       "['AP001', 'AP002', 'AP003', 'AP005', 'AP006', 'AP007', 'AP008', 'AP009']"
      ]
     },
     "execution_count": 36,
     "metadata": {},
     "output_type": "execute_result"
    }
   ],
   "source": [
    "# \"AP004\" is a bad data field and should be removed.\n",
    "MB_list = list(var[var['source']=='MB']['varname'])\n",
    "AP_list = list(var[(var['source']=='AP') & (var['varname']!='AP004')]['varname'])\n",
    "TD_list = list(var[var['source']=='TD']['varname'])\n",
    "CR_list = list(var[var['source']=='CR']['varname'])\n",
    "PA_list = list(var[var['source']=='PA']['varname'])\n",
    "CD_list = list(var[var['source']=='CD']['varname'])\n",
    "AP_list"
   ]
  },
  {
   "cell_type": "code",
   "execution_count": 37,
   "metadata": {},
   "outputs": [
    {
     "data": {
      "text/plain": [
       "0    38736\n",
       "1     9264\n",
       "Name: loan_default, dtype: int64"
      ]
     },
     "execution_count": 37,
     "metadata": {},
     "output_type": "execute_result"
    }
   ],
   "source": [
    "train['loan_default'].value_counts(dropna=False)"
   ]
  },
  {
   "cell_type": "markdown",
   "metadata": {},
   "source": [
    "# H2O\n",
    "\n",
    "* If you encounter errors, [this page](https://h2o-release.s3.amazonaws.com/h2o/rel-yates/5/index.html) may help."
   ]
  },
  {
   "cell_type": "code",
   "execution_count": 38,
   "metadata": {},
   "outputs": [
    {
     "name": "stdout",
     "output_type": "stream",
     "text": [
      "Checking whether there is an H2O instance running at http://localhost:54321 . connected.\n",
      "Warning: Your H2O cluster version is too old (4 months and 28 days)! Please download and install the latest version from http://h2o.ai/download/\n"
     ]
    },
    {
     "data": {
      "text/html": [
       "<div style=\"overflow:auto\"><table style=\"width:50%\"><tr><td>H2O cluster uptime:</td>\n",
       "<td>37 mins 37 secs</td></tr>\n",
       "<tr><td>H2O cluster timezone:</td>\n",
       "<td>America/New_York</td></tr>\n",
       "<tr><td>H2O data parsing timezone:</td>\n",
       "<td>UTC</td></tr>\n",
       "<tr><td>H2O cluster version:</td>\n",
       "<td>3.24.0.5</td></tr>\n",
       "<tr><td>H2O cluster version age:</td>\n",
       "<td>4 months and 28 days !!!</td></tr>\n",
       "<tr><td>H2O cluster name:</td>\n",
       "<td>H2O_from_python_chriskuo_axau69</td></tr>\n",
       "<tr><td>H2O cluster total nodes:</td>\n",
       "<td>1</td></tr>\n",
       "<tr><td>H2O cluster free memory:</td>\n",
       "<td>1.556 Gb</td></tr>\n",
       "<tr><td>H2O cluster total cores:</td>\n",
       "<td>4</td></tr>\n",
       "<tr><td>H2O cluster allowed cores:</td>\n",
       "<td>4</td></tr>\n",
       "<tr><td>H2O cluster status:</td>\n",
       "<td>locked, healthy</td></tr>\n",
       "<tr><td>H2O connection url:</td>\n",
       "<td>http://localhost:54321</td></tr>\n",
       "<tr><td>H2O connection proxy:</td>\n",
       "<td>None</td></tr>\n",
       "<tr><td>H2O internal security:</td>\n",
       "<td>False</td></tr>\n",
       "<tr><td>H2O API Extensions:</td>\n",
       "<td>Amazon S3, XGBoost, Algos, AutoML, Core V3, Core V4</td></tr>\n",
       "<tr><td>Python version:</td>\n",
       "<td>3.7.1 final</td></tr></table></div>"
      ],
      "text/plain": [
       "--------------------------  ---------------------------------------------------\n",
       "H2O cluster uptime:         37 mins 37 secs\n",
       "H2O cluster timezone:       America/New_York\n",
       "H2O data parsing timezone:  UTC\n",
       "H2O cluster version:        3.24.0.5\n",
       "H2O cluster version age:    4 months and 28 days !!!\n",
       "H2O cluster name:           H2O_from_python_chriskuo_axau69\n",
       "H2O cluster total nodes:    1\n",
       "H2O cluster free memory:    1.556 Gb\n",
       "H2O cluster total cores:    4\n",
       "H2O cluster allowed cores:  4\n",
       "H2O cluster status:         locked, healthy\n",
       "H2O connection url:         http://localhost:54321\n",
       "H2O connection proxy:\n",
       "H2O internal security:      False\n",
       "H2O API Extensions:         Amazon S3, XGBoost, Algos, AutoML, Core V3, Core V4\n",
       "Python version:             3.7.1 final\n",
       "--------------------------  ---------------------------------------------------"
      ]
     },
     "metadata": {},
     "output_type": "display_data"
    }
   ],
   "source": [
    "import h2o\n",
    "h2o.init()"
   ]
  },
  {
   "cell_type": "code",
   "execution_count": 39,
   "metadata": {},
   "outputs": [],
   "source": [
    "from h2o.automl import H2OAutoML"
   ]
  },
  {
   "cell_type": "code",
   "execution_count": 40,
   "metadata": {},
   "outputs": [],
   "source": [
    "target='loan_default'"
   ]
  },
  {
   "cell_type": "markdown",
   "metadata": {},
   "source": [
    "### When you model, you should run with a small sample dataset\n",
    "\n",
    "* Try to write repeating code in a function"
   ]
  },
  {
   "cell_type": "code",
   "execution_count": 41,
   "metadata": {},
   "outputs": [
    {
     "name": "stdout",
     "output_type": "stream",
     "text": [
      "Parse progress: |█████████████████████████████████████████████████████████| 100%\n",
      "Parse progress: |█████████████████████████████████████████████████████████| 100%\n"
     ]
    }
   ],
   "source": [
    "train_smpl = train.sample(frac=0.1, random_state=1)\n",
    "test_smpl = test.sample(frac=0.1, random_state=1)\n",
    "train_hex = h2o.H2OFrame(train_smpl)\n",
    "test_hex = h2o.H2OFrame(test_smpl)"
   ]
  },
  {
   "cell_type": "code",
   "execution_count": 42,
   "metadata": {},
   "outputs": [],
   "source": [
    "predictors = CR_list + TD_list + AP_list + MB_list + CR_list + PA_list "
   ]
  },
  {
   "cell_type": "markdown",
   "metadata": {},
   "source": [
    "## Run AutoML \n",
    "\n",
    "Run AutoML, stopping after 60 seconds.  The `max_runtime_secs` argument provides a way to limit the AutoML run by time.  When using a time-limited stopping criterion, the number of models train will vary between runs.  If different hardware is used or even if the same machine is used but the available compute resources on that machine are not the same between runs, then AutoML may be able to train more models on one run vs another. \n",
    "\n",
    "The `test` frame is passed explicitly to the `leaderboard_frame` argument here, which means that instead of using cross-validated metrics, we use test set metrics for generating the leaderboard."
   ]
  },
  {
   "cell_type": "code",
   "execution_count": 43,
   "metadata": {},
   "outputs": [
    {
     "name": "stdout",
     "output_type": "stream",
     "text": [
      "AutoML progress: |████████████████████████████████████████████████████████| 100%\n"
     ]
    }
   ],
   "source": [
    "# Run AutoML for 20 base models (limited to 1 hour max runtime by default)\n",
    "aml_v1 = H2OAutoML(max_runtime_secs = 60, max_models=20, seed=1)\n",
    "aml_v1.train(predictors,target,training_frame=train_hex)"
   ]
  },
  {
   "cell_type": "markdown",
   "metadata": {},
   "source": [
    "## Leaderboard\n",
    "\n",
    "Next, we will view the AutoML Leaderboard.  Since we specified a `leaderboard_frame` in the `H2OAutoML.train()` method for scoring and ranking the models, the AutoML leaderboard uses the performance on this data to rank the models.\n",
    "\n",
    "After viewing the `\"powerplant_lb_frame\"` AutoML project leaderboard, we compare that to the leaderboard for the `\"powerplant_full_data\"` project.  We can see that the results are better when the full dataset is used for training.  \n",
    "\n",
    "A default performance metric for each machine learning task (binary classification, multiclass classification, regression) is specified internally and the leaderboard will be sorted by that metric.  In the case of regression, the default ranking metric is mean residual deviance.  In the future, the user will be able to specify any of the H2O metrics so that different metrics can be used to generate rankings on the leaderboard."
   ]
  },
  {
   "cell_type": "code",
   "execution_count": 44,
   "metadata": {},
   "outputs": [
    {
     "data": {
      "text/html": [
       "<table>\n",
       "<thead>\n",
       "<tr><th>model_id                                           </th><th style=\"text-align: right;\">  mean_residual_deviance</th><th style=\"text-align: right;\">    rmse</th><th style=\"text-align: right;\">     mse</th><th style=\"text-align: right;\">     mae</th><th style=\"text-align: right;\">   rmsle</th></tr>\n",
       "</thead>\n",
       "<tbody>\n",
       "<tr><td>GLM_grid_1_AutoML_20191116_210806_model_1          </td><td style=\"text-align: right;\">                0.147001</td><td style=\"text-align: right;\">0.383407</td><td style=\"text-align: right;\">0.147001</td><td style=\"text-align: right;\">0.29361 </td><td style=\"text-align: right;\">0.26904 </td></tr>\n",
       "<tr><td>StackedEnsemble_BestOfFamily_AutoML_20191116_210806</td><td style=\"text-align: right;\">                0.14713 </td><td style=\"text-align: right;\">0.383575</td><td style=\"text-align: right;\">0.14713 </td><td style=\"text-align: right;\">0.293999</td><td style=\"text-align: right;\">0.269089</td></tr>\n",
       "<tr><td>StackedEnsemble_AllModels_AutoML_20191116_210806   </td><td style=\"text-align: right;\">                0.147396</td><td style=\"text-align: right;\">0.383922</td><td style=\"text-align: right;\">0.147396</td><td style=\"text-align: right;\">0.294316</td><td style=\"text-align: right;\">0.2694  </td></tr>\n",
       "<tr><td>XGBoost_grid_1_AutoML_20191116_210806_model_1      </td><td style=\"text-align: right;\">                0.148957</td><td style=\"text-align: right;\">0.385949</td><td style=\"text-align: right;\">0.148957</td><td style=\"text-align: right;\">0.298872</td><td style=\"text-align: right;\">0.272188</td></tr>\n",
       "<tr><td>XGBoost_grid_1_AutoML_20191116_210806_model_3      </td><td style=\"text-align: right;\">                0.14897 </td><td style=\"text-align: right;\">0.385966</td><td style=\"text-align: right;\">0.14897 </td><td style=\"text-align: right;\">0.297642</td><td style=\"text-align: right;\">0.27194 </td></tr>\n",
       "<tr><td>GBM_5_AutoML_20191116_210806                       </td><td style=\"text-align: right;\">                0.14929 </td><td style=\"text-align: right;\">0.386381</td><td style=\"text-align: right;\">0.14929 </td><td style=\"text-align: right;\">0.294278</td><td style=\"text-align: right;\">0.271852</td></tr>\n",
       "<tr><td>XGBoost_3_AutoML_20191116_210806                   </td><td style=\"text-align: right;\">                0.149667</td><td style=\"text-align: right;\">0.386868</td><td style=\"text-align: right;\">0.149667</td><td style=\"text-align: right;\">0.309214</td><td style=\"text-align: right;\">0.274551</td></tr>\n",
       "<tr><td>XGBoost_grid_1_AutoML_20191116_210806_model_4      </td><td style=\"text-align: right;\">                0.150192</td><td style=\"text-align: right;\">0.387547</td><td style=\"text-align: right;\">0.150192</td><td style=\"text-align: right;\">0.298969</td><td style=\"text-align: right;\">0.273508</td></tr>\n",
       "<tr><td>GBM_1_AutoML_20191116_210806                       </td><td style=\"text-align: right;\">                0.151545</td><td style=\"text-align: right;\">0.389288</td><td style=\"text-align: right;\">0.151545</td><td style=\"text-align: right;\">0.29507 </td><td style=\"text-align: right;\">0.274555</td></tr>\n",
       "<tr><td>DeepLearning_1_AutoML_20191116_210806              </td><td style=\"text-align: right;\">                0.151646</td><td style=\"text-align: right;\">0.389418</td><td style=\"text-align: right;\">0.151646</td><td style=\"text-align: right;\">0.289783</td><td style=\"text-align: right;\">0.273573</td></tr>\n",
       "</tbody>\n",
       "</table>"
      ]
     },
     "metadata": {},
     "output_type": "display_data"
    },
    {
     "data": {
      "text/plain": []
     },
     "execution_count": 44,
     "metadata": {},
     "output_type": "execute_result"
    }
   ],
   "source": [
    "aml_v1.leaderboard.head()"
   ]
  },
  {
   "cell_type": "markdown",
   "metadata": {},
   "source": [
    "Now we will view a snapshot of the top models. Here we should see the two Stacked Ensembles at or near the top of the leaderboard. Stacked Ensembles can almost always outperform a single model."
   ]
  },
  {
   "cell_type": "markdown",
   "metadata": {},
   "source": [
    "## Predict Using Leader Model\n",
    "\n",
    "If you need to generate predictions on a test set, you can make predictions on the `\"H2OAutoML\"` object directly, or on the leader model object."
   ]
  },
  {
   "cell_type": "code",
   "execution_count": 46,
   "metadata": {},
   "outputs": [
    {
     "name": "stdout",
     "output_type": "stream",
     "text": [
      "glm prediction progress: |████████████████████████████████████████████████| 100%\n"
     ]
    },
    {
     "data": {
      "text/html": [
       "<table>\n",
       "<thead>\n",
       "<tr><th style=\"text-align: right;\">  predict</th></tr>\n",
       "</thead>\n",
       "<tbody>\n",
       "<tr><td style=\"text-align: right;\"> 0.245087</td></tr>\n",
       "<tr><td style=\"text-align: right;\"> 0.146986</td></tr>\n",
       "<tr><td style=\"text-align: right;\"> 0.178348</td></tr>\n",
       "<tr><td style=\"text-align: right;\"> 0.163205</td></tr>\n",
       "<tr><td style=\"text-align: right;\"> 0.134303</td></tr>\n",
       "<tr><td style=\"text-align: right;\"> 0.257439</td></tr>\n",
       "<tr><td style=\"text-align: right;\"> 0.158125</td></tr>\n",
       "<tr><td style=\"text-align: right;\"> 0.30727 </td></tr>\n",
       "<tr><td style=\"text-align: right;\"> 0.135461</td></tr>\n",
       "<tr><td style=\"text-align: right;\"> 0.159373</td></tr>\n",
       "</tbody>\n",
       "</table>"
      ]
     },
     "metadata": {},
     "output_type": "display_data"
    },
    {
     "data": {
      "text/plain": []
     },
     "execution_count": 46,
     "metadata": {},
     "output_type": "execute_result"
    }
   ],
   "source": [
    "pred = aml_v1.predict(test_hex)\n",
    "pred.head()"
   ]
  },
  {
   "cell_type": "markdown",
   "metadata": {},
   "source": [
    "If needed, the standard `model_performance()` method can be applied to the AutoML leader model and a test set to generate an H2O model performance object."
   ]
  },
  {
   "cell_type": "code",
   "execution_count": null,
   "outputs": [],
   "source": [
    "perf = aml_v1.leader.model_performance(test_hex)\n",
    "perf"
   ],
   "metadata": {
    "collapsed": false
   }
  },
  {
   "cell_type": "code",
   "execution_count": 52,
   "metadata": {},
   "outputs": [
    {
     "name": "stdout",
     "output_type": "stream",
     "text": [
      "glm prediction progress: |████████████████████████████████████████████████| 100%\n"
     ]
    },
    {
     "data": {
      "text/html": [
       "<div>\n",
       "<style scoped>\n",
       "    .dataframe tbody tr th:only-of-type {\n",
       "        vertical-align: middle;\n",
       "    }\n",
       "\n",
       "    .dataframe tbody tr th {\n",
       "        vertical-align: top;\n",
       "    }\n",
       "\n",
       "    .dataframe thead th {\n",
       "        text-align: right;\n",
       "    }\n",
       "</style>\n",
       "<table border=\"1\" class=\"dataframe\">\n",
       "  <thead>\n",
       "    <tr style=\"text-align: right;\">\n",
       "      <th></th>\n",
       "      <th>count</th>\n",
       "      <th>actual</th>\n",
       "      <th>non_actual</th>\n",
       "      <th>cum_count</th>\n",
       "      <th>cum_actual</th>\n",
       "      <th>cum_non_actual</th>\n",
       "      <th>percent_cum_actual</th>\n",
       "      <th>percent_cum_non_actual</th>\n",
       "      <th>if_random</th>\n",
       "      <th>lift</th>\n",
       "      <th>K_S</th>\n",
       "      <th>gain</th>\n",
       "    </tr>\n",
       "    <tr>\n",
       "      <th>decile</th>\n",
       "      <th></th>\n",
       "      <th></th>\n",
       "      <th></th>\n",
       "      <th></th>\n",
       "      <th></th>\n",
       "      <th></th>\n",
       "      <th></th>\n",
       "      <th></th>\n",
       "      <th></th>\n",
       "      <th></th>\n",
       "      <th></th>\n",
       "      <th></th>\n",
       "    </tr>\n",
       "  </thead>\n",
       "  <tbody>\n",
       "    <tr>\n",
       "      <th>0</th>\n",
       "      <td>320</td>\n",
       "      <td>105</td>\n",
       "      <td>215</td>\n",
       "      <td>320</td>\n",
       "      <td>105</td>\n",
       "      <td>215</td>\n",
       "      <td>0.18</td>\n",
       "      <td>0.08</td>\n",
       "      <td>60.0</td>\n",
       "      <td>1.75</td>\n",
       "      <td>10.0</td>\n",
       "      <td>32.81</td>\n",
       "    </tr>\n",
       "    <tr>\n",
       "      <th>1</th>\n",
       "      <td>320</td>\n",
       "      <td>89</td>\n",
       "      <td>231</td>\n",
       "      <td>640</td>\n",
       "      <td>194</td>\n",
       "      <td>446</td>\n",
       "      <td>0.32</td>\n",
       "      <td>0.17</td>\n",
       "      <td>120.0</td>\n",
       "      <td>1.62</td>\n",
       "      <td>15.0</td>\n",
       "      <td>30.31</td>\n",
       "    </tr>\n",
       "    <tr>\n",
       "      <th>2</th>\n",
       "      <td>320</td>\n",
       "      <td>83</td>\n",
       "      <td>237</td>\n",
       "      <td>960</td>\n",
       "      <td>277</td>\n",
       "      <td>683</td>\n",
       "      <td>0.46</td>\n",
       "      <td>0.26</td>\n",
       "      <td>180.0</td>\n",
       "      <td>1.54</td>\n",
       "      <td>20.0</td>\n",
       "      <td>28.85</td>\n",
       "    </tr>\n",
       "    <tr>\n",
       "      <th>3</th>\n",
       "      <td>320</td>\n",
       "      <td>73</td>\n",
       "      <td>247</td>\n",
       "      <td>1280</td>\n",
       "      <td>350</td>\n",
       "      <td>930</td>\n",
       "      <td>0.58</td>\n",
       "      <td>0.36</td>\n",
       "      <td>240.0</td>\n",
       "      <td>1.46</td>\n",
       "      <td>22.0</td>\n",
       "      <td>27.34</td>\n",
       "    </tr>\n",
       "    <tr>\n",
       "      <th>4</th>\n",
       "      <td>320</td>\n",
       "      <td>64</td>\n",
       "      <td>256</td>\n",
       "      <td>1600</td>\n",
       "      <td>414</td>\n",
       "      <td>1186</td>\n",
       "      <td>0.69</td>\n",
       "      <td>0.46</td>\n",
       "      <td>300.0</td>\n",
       "      <td>1.38</td>\n",
       "      <td>23.0</td>\n",
       "      <td>25.87</td>\n",
       "    </tr>\n",
       "    <tr>\n",
       "      <th>5</th>\n",
       "      <td>320</td>\n",
       "      <td>51</td>\n",
       "      <td>269</td>\n",
       "      <td>1920</td>\n",
       "      <td>465</td>\n",
       "      <td>1455</td>\n",
       "      <td>0.78</td>\n",
       "      <td>0.56</td>\n",
       "      <td>360.0</td>\n",
       "      <td>1.29</td>\n",
       "      <td>22.0</td>\n",
       "      <td>24.22</td>\n",
       "    </tr>\n",
       "    <tr>\n",
       "      <th>6</th>\n",
       "      <td>320</td>\n",
       "      <td>49</td>\n",
       "      <td>271</td>\n",
       "      <td>2240</td>\n",
       "      <td>514</td>\n",
       "      <td>1726</td>\n",
       "      <td>0.86</td>\n",
       "      <td>0.66</td>\n",
       "      <td>420.0</td>\n",
       "      <td>1.22</td>\n",
       "      <td>20.0</td>\n",
       "      <td>22.95</td>\n",
       "    </tr>\n",
       "    <tr>\n",
       "      <th>7</th>\n",
       "      <td>320</td>\n",
       "      <td>39</td>\n",
       "      <td>281</td>\n",
       "      <td>2560</td>\n",
       "      <td>553</td>\n",
       "      <td>2007</td>\n",
       "      <td>0.92</td>\n",
       "      <td>0.77</td>\n",
       "      <td>480.0</td>\n",
       "      <td>1.15</td>\n",
       "      <td>15.0</td>\n",
       "      <td>21.60</td>\n",
       "    </tr>\n",
       "    <tr>\n",
       "      <th>8</th>\n",
       "      <td>320</td>\n",
       "      <td>27</td>\n",
       "      <td>293</td>\n",
       "      <td>2880</td>\n",
       "      <td>580</td>\n",
       "      <td>2300</td>\n",
       "      <td>0.97</td>\n",
       "      <td>0.88</td>\n",
       "      <td>540.0</td>\n",
       "      <td>1.07</td>\n",
       "      <td>9.0</td>\n",
       "      <td>20.14</td>\n",
       "    </tr>\n",
       "    <tr>\n",
       "      <th>9</th>\n",
       "      <td>320</td>\n",
       "      <td>20</td>\n",
       "      <td>300</td>\n",
       "      <td>3200</td>\n",
       "      <td>600</td>\n",
       "      <td>2600</td>\n",
       "      <td>1.00</td>\n",
       "      <td>1.00</td>\n",
       "      <td>600.0</td>\n",
       "      <td>1.00</td>\n",
       "      <td>0.0</td>\n",
       "      <td>18.75</td>\n",
       "    </tr>\n",
       "  </tbody>\n",
       "</table>\n",
       "</div>"
      ],
      "text/plain": [
       "        count  actual  non_actual  cum_count  cum_actual  cum_non_actual  \\\n",
       "decile                                                                     \n",
       "0         320     105         215        320         105             215   \n",
       "1         320      89         231        640         194             446   \n",
       "2         320      83         237        960         277             683   \n",
       "3         320      73         247       1280         350             930   \n",
       "4         320      64         256       1600         414            1186   \n",
       "5         320      51         269       1920         465            1455   \n",
       "6         320      49         271       2240         514            1726   \n",
       "7         320      39         281       2560         553            2007   \n",
       "8         320      27         293       2880         580            2300   \n",
       "9         320      20         300       3200         600            2600   \n",
       "\n",
       "        percent_cum_actual  percent_cum_non_actual  if_random  lift   K_S  \\\n",
       "decile                                                                      \n",
       "0                     0.18                    0.08       60.0  1.75  10.0   \n",
       "1                     0.32                    0.17      120.0  1.62  15.0   \n",
       "2                     0.46                    0.26      180.0  1.54  20.0   \n",
       "3                     0.58                    0.36      240.0  1.46  22.0   \n",
       "4                     0.69                    0.46      300.0  1.38  23.0   \n",
       "5                     0.78                    0.56      360.0  1.29  22.0   \n",
       "6                     0.86                    0.66      420.0  1.22  20.0   \n",
       "7                     0.92                    0.77      480.0  1.15  15.0   \n",
       "8                     0.97                    0.88      540.0  1.07   9.0   \n",
       "9                     1.00                    1.00      600.0  1.00   0.0   \n",
       "\n",
       "         gain  \n",
       "decile         \n",
       "0       32.81  \n",
       "1       30.31  \n",
       "2       28.85  \n",
       "3       27.34  \n",
       "4       25.87  \n",
       "5       24.22  \n",
       "6       22.95  \n",
       "7       21.60  \n",
       "8       20.14  \n",
       "9       18.75  "
      ]
     },
     "execution_count": 52,
     "metadata": {},
     "output_type": "execute_result"
    }
   ],
   "source": [
    "def createGains(model):\n",
    "    predictions = model.predict(test_hex)\n",
    "    test_scores = test_hex['loan_default'].cbind(predictions).as_data_frame()\n",
    "\n",
    "    #sort on prediction (descending), add id, and decile for groups containing 1/10 of datapoints\n",
    "    test_scores = test_scores.sort_values(by='predict',ascending=False)\n",
    "    test_scores['row_id'] = range(0,0+len(test_scores))\n",
    "    test_scores['decile'] = ( test_scores['row_id'] / (len(test_scores)/10) ).astype(int)\n",
    "    #see count by decile\n",
    "    test_scores.loc[test_scores['decile'] == 10]=9\n",
    "    test_scores['decile'].value_counts()\n",
    "\n",
    "    #create gains table\n",
    "    gains = test_scores.groupby('decile')['loan_default'].agg(['count','sum'])\n",
    "    gains.columns = ['count','actual']\n",
    "    gains\n",
    "\n",
    "    #add features to gains table\n",
    "    gains['non_actual'] = gains['count'] - gains['actual']\n",
    "    gains['cum_count'] = gains['count'].cumsum()\n",
    "    gains['cum_actual'] = gains['actual'].cumsum()\n",
    "    gains['cum_non_actual'] = gains['non_actual'].cumsum()\n",
    "    gains['percent_cum_actual'] = (gains['cum_actual'] / np.max(gains['cum_actual'])).round(2)\n",
    "    gains['percent_cum_non_actual'] = (gains['cum_non_actual'] / np.max(gains['cum_non_actual'])).round(2)\n",
    "    gains['if_random'] = np.max(gains['cum_actual']) /10 \n",
    "    gains['if_random'] = gains['if_random'].cumsum()\n",
    "    gains['lift'] = (gains['cum_actual'] / gains['if_random']).round(2)\n",
    "    gains['K_S'] = np.abs( gains['percent_cum_actual'] -  gains['percent_cum_non_actual'] ) * 100\n",
    "    gains['gain']=(gains['cum_actual']/gains['cum_count']*100).round(2)\n",
    "    gains = pd.DataFrame(gains)\n",
    "    return(gains)\n",
    "\n",
    "createGains(aml_v1)"
   ]
  },
  {
   "cell_type": "markdown",
   "metadata": {},
   "source": [
    "### Now the code works fine with the small dataset, we can model with the entire dataset"
   ]
  }
 ],
 "metadata": {
  "kernelspec": {
   "display_name": "Python 3",
   "language": "python",
   "name": "python3"
  },
  "language_info": {
   "codemirror_mode": {
    "name": "ipython",
    "version": 3
   },
   "file_extension": ".py",
   "mimetype": "text/x-python",
   "name": "python",
   "nbconvert_exporter": "python",
   "pygments_lexer": "ipython3",
   "version": "3.7.1"
  }
 },
 "nbformat": 4,
 "nbformat_minor": 2
}
